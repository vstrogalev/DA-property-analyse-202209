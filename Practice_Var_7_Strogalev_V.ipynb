{
  "nbformat": 4,
  "nbformat_minor": 0,
  "metadata": {
    "kernelspec": {
      "display_name": "Python 3",
      "language": "python",
      "name": "python3"
    },
    "language_info": {
      "codemirror_mode": {
        "name": "ipython",
        "version": 3
      },
      "file_extension": ".py",
      "mimetype": "text/x-python",
      "name": "python",
      "nbconvert_exporter": "python",
      "pygments_lexer": "ipython3",
      "version": "3.8.5"
    },
    "toc": {
      "base_numbering": 1,
      "nav_menu": {},
      "number_sections": false,
      "sideBar": true,
      "skip_h1_title": false,
      "title_cell": "Оглавление",
      "title_sidebar": "Оглавление",
      "toc_cell": true,
      "toc_position": {
        "height": "calc(100% - 180px)",
        "left": "10px",
        "top": "150px",
        "width": "165px"
      },
      "toc_section_display": true,
      "toc_window_display": false
    },
    "colab": {
      "provenance": [],
      "collapsed_sections": [],
      "include_colab_link": true
    }
  },
  "cells": [
    {
      "cell_type": "markdown",
      "metadata": {
        "id": "view-in-github",
        "colab_type": "text"
      },
      "source": [
        "<a href=\"https://colab.research.google.com/github/vstrogalev/DA-property-analyse-202209/blob/main/Practice_Var_7_Strogalev_V.ipynb\" target=\"_parent\"><img src=\"https://colab.research.google.com/assets/colab-badge.svg\" alt=\"Open In Colab\"/></a>"
      ]
    },
    {
      "cell_type": "markdown",
      "metadata": {
        "id": "Feq1fU59t0d5"
      },
      "source": [
        "# Исследование объявлений о продаже квартир\n",
        "\n",
        "## Общее описание проекта \n",
        "В распоряжении данные сервиса о продаже квартир в Санкт-Петербурге и соседних населённых пунктов за несколько лет. Нужно изучить влияние различных факторов на рыночную стоимость объектов недвижимости. \n",
        "\n",
        "## Описание признакового пространства \n",
        "По каждой квартире на продажу доступны следующие признаки. \n",
        "\n",
        "|Признак|Описание признака|\n",
        "|-------------:|:------------|\n",
        "|airports_nearest|расстояние до ближайшего аэропорта в метрах (м)|\n",
        "|balcony|число балконов|\n",
        "|ceiling_height|высота потолков (м)|\n",
        "|cityCenters_nearest|расстояние до центра города (м)|\n",
        "|days_exposition| сколько дней было размещено объявление (от публикации до снятия)|\n",
        "|first_day_exposition|дата публикации|\n",
        "|floor|этаж|\n",
        "|floors_total| всего этажей в доме|\n",
        "|is_apartment|апартаменты (булев тип)|\n",
        "|kitchen_area|площадь кухни в квадратных метрах (м²)|\n",
        "|last_price|цена на момент снятия с публикации|\n",
        "|living_area|жилая площадь в квадратных метрах(м²)|\n",
        "|locality_name|название населённого пункта|\n",
        "|open_plan|свободная планировка (булев тип)|\n",
        "|parks_around3000|число парков в радиусе 3 км|\n",
        "|parks_nearest|расстояние до ближайшего парка (м)|\n",
        "|ponds_around3000|число водоёмов в радиусе 3 км|\n",
        "|ponds_nearest|расстояние до ближайшего водоёма (м)|\n",
        "|rooms|число комнат|\n",
        "|studio|квартира-студия (булев тип)|\n",
        "|total_area|площадь квартиры в квадратных метрах (м²)|\n",
        "|total_images|число фотографий квартиры в объявлении|\n",
        "\n",
        "Пояснение: апартаменты — это нежилые помещения, не относящиеся к жилому фонду, но имеющие необходимые условия для проживания.\n",
        "\n",
        "## Инструкции по выполнению проекта\n",
        "\n",
        "Шаг 1. Откройте файл с данными и изучите общую информацию\n",
        "\n",
        "Шаг 2. Предобработка данных\n",
        "- Привести данные к необходимым типам;\n",
        "- Исследовать дублирующиеся записи;\n",
        "- Обработать аномальные наблюдения;\n",
        "- Обработать пропущенные значения.\n",
        "\n",
        "Шаг 3. Посчитайте и добавьте в таблицу:\n",
        "цену квадратного метра;\n",
        "день недели, месяц и год публикации объявления;\n",
        "этаж квартиры; варианты — первый, последний, другой;\n",
        "соотношение жилой и общей площади, а также отношение площади кухни к общей.\n",
        "\n",
        "Шаг 4. Проведите исследовательский анализ данных и выполните инструкции:\n",
        "- Изучите следующие параметры: площадь, цена, число комнат, высота потолков. Постройте гистограммы для каждого параметра.\n",
        "- Изучите время продажи квартиры. Постройте гистограмму. Посчитайте среднее и медиану. \n",
        "- Какие факторы больше всего влияют на стоимость квартиры? Изучите, зависит ли цена от площади, числа комнат, удалённости от центра. Изучите зависимость цены от того, на каком этаже расположена квартира: первом, последнем или другом. Также изучите зависимость от даты размещения: дня недели, месяца и года.\n",
        "- Выберите 10 населённых пунктов с наибольшим числом объявлений. Посчитайте среднюю цену квадратного метра в этих населённых пунктах. Выделите среди них населённые пункты с самой высокой и низкой стоимостью жилья. Эти данные можно найти по имени в столбце 'locality_name'.\n",
        "- Изучите предложения квартир: для каждой квартиры есть информация о расстоянии до центра. Выделите квартиры в Санкт-Петербурге ('locality_name'). \n",
        "- Выделите сегмент квартир в центре. Проанализируйте эту территорию и изучите следующие параметры: площадь, цена, число комнат, высота потолков. Также выделите факторы, которые влияют на стоимость квартиры (число комнат, этаж, удалённость от центра, дата размещения объявления). \n",
        "\n",
        "Шаг 5. Проверьте гипотезы о равенстве стоимости квартир в центральной части Санкт-Петербурге и других квартир."
      ]
    },
    {
      "cell_type": "code",
      "source": [
        "# импорт библиотек\n",
        "import numpy as np\n",
        "import pandas as pd\n",
        "import matplotlib.pyplot as plt\n",
        "import seaborn as sns\n",
        "from scipy import stats\n",
        "\n",
        "import warnings\n",
        "warnings.filterwarnings('ignore')\n",
        "\n",
        "from pylab import rcParams\n",
        "\n",
        "rcParams[\"figure.figsize\"] = 10, 6"
      ],
      "metadata": {
        "id": "XWbDnTt7RJbi"
      },
      "execution_count": null,
      "outputs": []
    },
    {
      "cell_type": "code",
      "source": [
        "pd.set_option('display.precision', 2)"
      ],
      "metadata": {
        "id": "Skvav5doEw2P"
      },
      "execution_count": null,
      "outputs": []
    },
    {
      "cell_type": "markdown",
      "source": [
        "### Открытие файла"
      ],
      "metadata": {
        "id": "MIfDu22_Vtg-"
      }
    },
    {
      "cell_type": "code",
      "source": [
        "df_raw = pd.read_csv('project7.csv', sep='\\t')"
      ],
      "metadata": {
        "id": "fxoaHCBDV1jm"
      },
      "execution_count": null,
      "outputs": []
    },
    {
      "cell_type": "markdown",
      "source": [
        "### Предобработка"
      ],
      "metadata": {
        "id": "ChYrlemJWXMP"
      }
    },
    {
      "cell_type": "markdown",
      "source": [
        "Предварительно выполним функцию convert_dtypes() и выведем основную информацию о данных"
      ],
      "metadata": {
        "id": "OZ1L-jmP1LJR"
      }
    },
    {
      "cell_type": "code",
      "source": [
        "df_raw = df_raw.convert_dtypes()\n",
        "df_raw.head(5).T"
      ],
      "metadata": {
        "id": "EmrHiz1WjETb",
        "colab": {
          "base_uri": "https://localhost:8080/"
        },
        "outputId": "cb6eea57-453b-48cc-e0c9-fc60a3379543"
      },
      "execution_count": null,
      "outputs": [
        {
          "output_type": "execute_result",
          "data": {
            "text/plain": [
              "                                        0                    1  \\\n",
              "total_images                           20                    7   \n",
              "last_price                       13000000              3350000   \n",
              "total_area                          108.0                 40.4   \n",
              "first_day_exposition  2019-03-07T00:00:00  2018-12-04T00:00:00   \n",
              "rooms                                   3                    1   \n",
              "ceiling_height                        2.7                 <NA>   \n",
              "floors_total                           16                   11   \n",
              "living_area                          51.0                 18.6   \n",
              "floor                                   8                    1   \n",
              "is_apartment                         <NA>                 <NA>   \n",
              "studio                              False                False   \n",
              "open_plan                           False                False   \n",
              "kitchen_area                         25.0                 11.0   \n",
              "balcony                              <NA>                    2   \n",
              "locality_name             Санкт-Петербург       посёлок Шушары   \n",
              "airports_nearest                    18863                12817   \n",
              "cityCenters_nearest                 16028                18603   \n",
              "parks_around3000                        1                    0   \n",
              "parks_nearest                         482                 <NA>   \n",
              "ponds_around3000                        2                    0   \n",
              "ponds_nearest                         755                 <NA>   \n",
              "days_exposition                      <NA>                 81.0   \n",
              "\n",
              "                                        2                    3  \\\n",
              "total_images                           10                    0   \n",
              "last_price                        5196000             64900000   \n",
              "total_area                           56.0                159.0   \n",
              "first_day_exposition  2015-08-20T00:00:00  2015-07-24T00:00:00   \n",
              "rooms                                   2                    3   \n",
              "ceiling_height                       <NA>                 <NA>   \n",
              "floors_total                            5                   14   \n",
              "living_area                          34.3                 <NA>   \n",
              "floor                                   4                    9   \n",
              "is_apartment                         <NA>                 <NA>   \n",
              "studio                              False                False   \n",
              "open_plan                           False                False   \n",
              "kitchen_area                          8.3                 <NA>   \n",
              "balcony                                 0                    0   \n",
              "locality_name             Санкт-Петербург      Санкт-Петербург   \n",
              "airports_nearest                    21741                28098   \n",
              "cityCenters_nearest                 13933                 6800   \n",
              "parks_around3000                        1                    2   \n",
              "parks_nearest                          90                   84   \n",
              "ponds_around3000                        2                    3   \n",
              "ponds_nearest                         574                  234   \n",
              "days_exposition                     558.0                424.0   \n",
              "\n",
              "                                        4  \n",
              "total_images                            2  \n",
              "last_price                       10000000  \n",
              "total_area                          100.0  \n",
              "first_day_exposition  2018-06-19T00:00:00  \n",
              "rooms                                   2  \n",
              "ceiling_height                       3.03  \n",
              "floors_total                           14  \n",
              "living_area                          32.0  \n",
              "floor                                  13  \n",
              "is_apartment                         <NA>  \n",
              "studio                              False  \n",
              "open_plan                           False  \n",
              "kitchen_area                         41.0  \n",
              "balcony                              <NA>  \n",
              "locality_name             Санкт-Петербург  \n",
              "airports_nearest                    31856  \n",
              "cityCenters_nearest                  8098  \n",
              "parks_around3000                        2  \n",
              "parks_nearest                         112  \n",
              "ponds_around3000                        1  \n",
              "ponds_nearest                          48  \n",
              "days_exposition                     121.0  "
            ],
            "text/html": [
              "\n",
              "  <div id=\"df-11f5e0fc-b919-4c21-847d-c9ecd3e370f6\">\n",
              "    <div class=\"colab-df-container\">\n",
              "      <div>\n",
              "<style scoped>\n",
              "    .dataframe tbody tr th:only-of-type {\n",
              "        vertical-align: middle;\n",
              "    }\n",
              "\n",
              "    .dataframe tbody tr th {\n",
              "        vertical-align: top;\n",
              "    }\n",
              "\n",
              "    .dataframe thead th {\n",
              "        text-align: right;\n",
              "    }\n",
              "</style>\n",
              "<table border=\"1\" class=\"dataframe\">\n",
              "  <thead>\n",
              "    <tr style=\"text-align: right;\">\n",
              "      <th></th>\n",
              "      <th>0</th>\n",
              "      <th>1</th>\n",
              "      <th>2</th>\n",
              "      <th>3</th>\n",
              "      <th>4</th>\n",
              "    </tr>\n",
              "  </thead>\n",
              "  <tbody>\n",
              "    <tr>\n",
              "      <th>total_images</th>\n",
              "      <td>20</td>\n",
              "      <td>7</td>\n",
              "      <td>10</td>\n",
              "      <td>0</td>\n",
              "      <td>2</td>\n",
              "    </tr>\n",
              "    <tr>\n",
              "      <th>last_price</th>\n",
              "      <td>13000000</td>\n",
              "      <td>3350000</td>\n",
              "      <td>5196000</td>\n",
              "      <td>64900000</td>\n",
              "      <td>10000000</td>\n",
              "    </tr>\n",
              "    <tr>\n",
              "      <th>total_area</th>\n",
              "      <td>108.0</td>\n",
              "      <td>40.4</td>\n",
              "      <td>56.0</td>\n",
              "      <td>159.0</td>\n",
              "      <td>100.0</td>\n",
              "    </tr>\n",
              "    <tr>\n",
              "      <th>first_day_exposition</th>\n",
              "      <td>2019-03-07T00:00:00</td>\n",
              "      <td>2018-12-04T00:00:00</td>\n",
              "      <td>2015-08-20T00:00:00</td>\n",
              "      <td>2015-07-24T00:00:00</td>\n",
              "      <td>2018-06-19T00:00:00</td>\n",
              "    </tr>\n",
              "    <tr>\n",
              "      <th>rooms</th>\n",
              "      <td>3</td>\n",
              "      <td>1</td>\n",
              "      <td>2</td>\n",
              "      <td>3</td>\n",
              "      <td>2</td>\n",
              "    </tr>\n",
              "    <tr>\n",
              "      <th>ceiling_height</th>\n",
              "      <td>2.7</td>\n",
              "      <td>&lt;NA&gt;</td>\n",
              "      <td>&lt;NA&gt;</td>\n",
              "      <td>&lt;NA&gt;</td>\n",
              "      <td>3.03</td>\n",
              "    </tr>\n",
              "    <tr>\n",
              "      <th>floors_total</th>\n",
              "      <td>16</td>\n",
              "      <td>11</td>\n",
              "      <td>5</td>\n",
              "      <td>14</td>\n",
              "      <td>14</td>\n",
              "    </tr>\n",
              "    <tr>\n",
              "      <th>living_area</th>\n",
              "      <td>51.0</td>\n",
              "      <td>18.6</td>\n",
              "      <td>34.3</td>\n",
              "      <td>&lt;NA&gt;</td>\n",
              "      <td>32.0</td>\n",
              "    </tr>\n",
              "    <tr>\n",
              "      <th>floor</th>\n",
              "      <td>8</td>\n",
              "      <td>1</td>\n",
              "      <td>4</td>\n",
              "      <td>9</td>\n",
              "      <td>13</td>\n",
              "    </tr>\n",
              "    <tr>\n",
              "      <th>is_apartment</th>\n",
              "      <td>&lt;NA&gt;</td>\n",
              "      <td>&lt;NA&gt;</td>\n",
              "      <td>&lt;NA&gt;</td>\n",
              "      <td>&lt;NA&gt;</td>\n",
              "      <td>&lt;NA&gt;</td>\n",
              "    </tr>\n",
              "    <tr>\n",
              "      <th>studio</th>\n",
              "      <td>False</td>\n",
              "      <td>False</td>\n",
              "      <td>False</td>\n",
              "      <td>False</td>\n",
              "      <td>False</td>\n",
              "    </tr>\n",
              "    <tr>\n",
              "      <th>open_plan</th>\n",
              "      <td>False</td>\n",
              "      <td>False</td>\n",
              "      <td>False</td>\n",
              "      <td>False</td>\n",
              "      <td>False</td>\n",
              "    </tr>\n",
              "    <tr>\n",
              "      <th>kitchen_area</th>\n",
              "      <td>25.0</td>\n",
              "      <td>11.0</td>\n",
              "      <td>8.3</td>\n",
              "      <td>&lt;NA&gt;</td>\n",
              "      <td>41.0</td>\n",
              "    </tr>\n",
              "    <tr>\n",
              "      <th>balcony</th>\n",
              "      <td>&lt;NA&gt;</td>\n",
              "      <td>2</td>\n",
              "      <td>0</td>\n",
              "      <td>0</td>\n",
              "      <td>&lt;NA&gt;</td>\n",
              "    </tr>\n",
              "    <tr>\n",
              "      <th>locality_name</th>\n",
              "      <td>Санкт-Петербург</td>\n",
              "      <td>посёлок Шушары</td>\n",
              "      <td>Санкт-Петербург</td>\n",
              "      <td>Санкт-Петербург</td>\n",
              "      <td>Санкт-Петербург</td>\n",
              "    </tr>\n",
              "    <tr>\n",
              "      <th>airports_nearest</th>\n",
              "      <td>18863</td>\n",
              "      <td>12817</td>\n",
              "      <td>21741</td>\n",
              "      <td>28098</td>\n",
              "      <td>31856</td>\n",
              "    </tr>\n",
              "    <tr>\n",
              "      <th>cityCenters_nearest</th>\n",
              "      <td>16028</td>\n",
              "      <td>18603</td>\n",
              "      <td>13933</td>\n",
              "      <td>6800</td>\n",
              "      <td>8098</td>\n",
              "    </tr>\n",
              "    <tr>\n",
              "      <th>parks_around3000</th>\n",
              "      <td>1</td>\n",
              "      <td>0</td>\n",
              "      <td>1</td>\n",
              "      <td>2</td>\n",
              "      <td>2</td>\n",
              "    </tr>\n",
              "    <tr>\n",
              "      <th>parks_nearest</th>\n",
              "      <td>482</td>\n",
              "      <td>&lt;NA&gt;</td>\n",
              "      <td>90</td>\n",
              "      <td>84</td>\n",
              "      <td>112</td>\n",
              "    </tr>\n",
              "    <tr>\n",
              "      <th>ponds_around3000</th>\n",
              "      <td>2</td>\n",
              "      <td>0</td>\n",
              "      <td>2</td>\n",
              "      <td>3</td>\n",
              "      <td>1</td>\n",
              "    </tr>\n",
              "    <tr>\n",
              "      <th>ponds_nearest</th>\n",
              "      <td>755</td>\n",
              "      <td>&lt;NA&gt;</td>\n",
              "      <td>574</td>\n",
              "      <td>234</td>\n",
              "      <td>48</td>\n",
              "    </tr>\n",
              "    <tr>\n",
              "      <th>days_exposition</th>\n",
              "      <td>&lt;NA&gt;</td>\n",
              "      <td>81.0</td>\n",
              "      <td>558.0</td>\n",
              "      <td>424.0</td>\n",
              "      <td>121.0</td>\n",
              "    </tr>\n",
              "  </tbody>\n",
              "</table>\n",
              "</div>\n",
              "      <button class=\"colab-df-convert\" onclick=\"convertToInteractive('df-11f5e0fc-b919-4c21-847d-c9ecd3e370f6')\"\n",
              "              title=\"Convert this dataframe to an interactive table.\"\n",
              "              style=\"display:none;\">\n",
              "        \n",
              "  <svg xmlns=\"http://www.w3.org/2000/svg\" height=\"24px\"viewBox=\"0 0 24 24\"\n",
              "       width=\"24px\">\n",
              "    <path d=\"M0 0h24v24H0V0z\" fill=\"none\"/>\n",
              "    <path d=\"M18.56 5.44l.94 2.06.94-2.06 2.06-.94-2.06-.94-.94-2.06-.94 2.06-2.06.94zm-11 1L8.5 8.5l.94-2.06 2.06-.94-2.06-.94L8.5 2.5l-.94 2.06-2.06.94zm10 10l.94 2.06.94-2.06 2.06-.94-2.06-.94-.94-2.06-.94 2.06-2.06.94z\"/><path d=\"M17.41 7.96l-1.37-1.37c-.4-.4-.92-.59-1.43-.59-.52 0-1.04.2-1.43.59L10.3 9.45l-7.72 7.72c-.78.78-.78 2.05 0 2.83L4 21.41c.39.39.9.59 1.41.59.51 0 1.02-.2 1.41-.59l7.78-7.78 2.81-2.81c.8-.78.8-2.07 0-2.86zM5.41 20L4 18.59l7.72-7.72 1.47 1.35L5.41 20z\"/>\n",
              "  </svg>\n",
              "      </button>\n",
              "      \n",
              "  <style>\n",
              "    .colab-df-container {\n",
              "      display:flex;\n",
              "      flex-wrap:wrap;\n",
              "      gap: 12px;\n",
              "    }\n",
              "\n",
              "    .colab-df-convert {\n",
              "      background-color: #E8F0FE;\n",
              "      border: none;\n",
              "      border-radius: 50%;\n",
              "      cursor: pointer;\n",
              "      display: none;\n",
              "      fill: #1967D2;\n",
              "      height: 32px;\n",
              "      padding: 0 0 0 0;\n",
              "      width: 32px;\n",
              "    }\n",
              "\n",
              "    .colab-df-convert:hover {\n",
              "      background-color: #E2EBFA;\n",
              "      box-shadow: 0px 1px 2px rgba(60, 64, 67, 0.3), 0px 1px 3px 1px rgba(60, 64, 67, 0.15);\n",
              "      fill: #174EA6;\n",
              "    }\n",
              "\n",
              "    [theme=dark] .colab-df-convert {\n",
              "      background-color: #3B4455;\n",
              "      fill: #D2E3FC;\n",
              "    }\n",
              "\n",
              "    [theme=dark] .colab-df-convert:hover {\n",
              "      background-color: #434B5C;\n",
              "      box-shadow: 0px 1px 3px 1px rgba(0, 0, 0, 0.15);\n",
              "      filter: drop-shadow(0px 1px 2px rgba(0, 0, 0, 0.3));\n",
              "      fill: #FFFFFF;\n",
              "    }\n",
              "  </style>\n",
              "\n",
              "      <script>\n",
              "        const buttonEl =\n",
              "          document.querySelector('#df-11f5e0fc-b919-4c21-847d-c9ecd3e370f6 button.colab-df-convert');\n",
              "        buttonEl.style.display =\n",
              "          google.colab.kernel.accessAllowed ? 'block' : 'none';\n",
              "\n",
              "        async function convertToInteractive(key) {\n",
              "          const element = document.querySelector('#df-11f5e0fc-b919-4c21-847d-c9ecd3e370f6');\n",
              "          const dataTable =\n",
              "            await google.colab.kernel.invokeFunction('convertToInteractive',\n",
              "                                                     [key], {});\n",
              "          if (!dataTable) return;\n",
              "\n",
              "          const docLinkHtml = 'Like what you see? Visit the ' +\n",
              "            '<a target=\"_blank\" href=https://colab.research.google.com/notebooks/data_table.ipynb>data table notebook</a>'\n",
              "            + ' to learn more about interactive tables.';\n",
              "          element.innerHTML = '';\n",
              "          dataTable['output_type'] = 'display_data';\n",
              "          await google.colab.output.renderOutput(dataTable, element);\n",
              "          const docLink = document.createElement('div');\n",
              "          docLink.innerHTML = docLinkHtml;\n",
              "          element.appendChild(docLink);\n",
              "        }\n",
              "      </script>\n",
              "    </div>\n",
              "  </div>\n",
              "  "
            ]
          },
          "metadata": {},
          "execution_count": 8
        }
      ]
    },
    {
      "cell_type": "code",
      "source": [
        "df_raw.describe(include='all').T"
      ],
      "metadata": {
        "colab": {
          "base_uri": "https://localhost:8080/"
        },
        "id": "aUVeupxIjtqS",
        "outputId": "2f3ab472-5285-49f8-fc73-2c65258c9e3a"
      },
      "execution_count": null,
      "outputs": [
        {
          "output_type": "execute_result",
          "data": {
            "text/plain": [
              "                        count unique                  top   freq        mean  \\\n",
              "total_images          23699.0    NaN                  NaN    NaN        9.86   \n",
              "last_price            23699.0    NaN                  NaN    NaN  6541548.77   \n",
              "total_area            23699.0    NaN                  NaN    NaN       60.35   \n",
              "first_day_exposition    23699   1491  2018-02-01T00:00:00    368         NaN   \n",
              "rooms                 23699.0    NaN                  NaN    NaN        2.07   \n",
              "ceiling_height        14504.0    NaN                  NaN    NaN        2.77   \n",
              "floors_total          23613.0    NaN                  NaN    NaN       10.67   \n",
              "living_area           21796.0    NaN                  NaN    NaN       34.46   \n",
              "floor                 23699.0    NaN                  NaN    NaN        5.89   \n",
              "is_apartment             2775      2                False   2725         NaN   \n",
              "studio                  23699      2                False  23550         NaN   \n",
              "open_plan               23699      2                False  23632         NaN   \n",
              "kitchen_area          21421.0    NaN                  NaN    NaN       10.57   \n",
              "balcony               12180.0    NaN                  NaN    NaN        1.15   \n",
              "locality_name           23650    364      Санкт-Петербург  15721         NaN   \n",
              "airports_nearest      18157.0    NaN                  NaN    NaN    28793.67   \n",
              "cityCenters_nearest   18180.0    NaN                  NaN    NaN    14191.28   \n",
              "parks_around3000      18181.0    NaN                  NaN    NaN        0.61   \n",
              "parks_nearest          8079.0    NaN                  NaN    NaN       490.8   \n",
              "ponds_around3000      18181.0    NaN                  NaN    NaN        0.77   \n",
              "ponds_nearest          9110.0    NaN                  NaN    NaN      517.98   \n",
              "days_exposition       20518.0    NaN                  NaN    NaN      180.89   \n",
              "\n",
              "                              std      min        25%        50%        75%  \\\n",
              "total_images                 5.68      0.0        6.0        9.0       14.0   \n",
              "last_price            10887013.27  12190.0  3400000.0  4650000.0  6800000.0   \n",
              "total_area                  35.65     12.0       40.0       52.0       69.9   \n",
              "first_day_exposition          NaN      NaN        NaN        NaN        NaN   \n",
              "rooms                        1.08      0.0        1.0        2.0        3.0   \n",
              "ceiling_height               1.26      1.0       2.52       2.65        2.8   \n",
              "floors_total                  6.6      1.0        5.0        9.0       16.0   \n",
              "living_area                 22.03      2.0       18.6       30.0       42.3   \n",
              "floor                        4.89      1.0        2.0        4.0        8.0   \n",
              "is_apartment                  NaN      NaN        NaN        NaN        NaN   \n",
              "studio                        NaN      NaN        NaN        NaN        NaN   \n",
              "open_plan                     NaN      NaN        NaN        NaN        NaN   \n",
              "kitchen_area                 5.91      1.3        7.0        9.1       12.0   \n",
              "balcony                      1.07      0.0        0.0        1.0        2.0   \n",
              "locality_name                 NaN      NaN        NaN        NaN        NaN   \n",
              "airports_nearest         12630.88      0.0    18585.0    26726.0    37273.0   \n",
              "cityCenters_nearest       8608.39    181.0     9238.0    13098.5    16293.0   \n",
              "parks_around3000              0.8      0.0        0.0        0.0        1.0   \n",
              "parks_nearest              342.32      1.0      288.0      455.0      612.0   \n",
              "ponds_around3000             0.94      0.0        0.0        1.0        1.0   \n",
              "ponds_nearest              277.72     13.0      294.0      502.0      729.0   \n",
              "days_exposition            219.73      1.0       45.0       95.0      232.0   \n",
              "\n",
              "                              max  \n",
              "total_images                 50.0  \n",
              "last_price            763000000.0  \n",
              "total_area                  900.0  \n",
              "first_day_exposition          NaN  \n",
              "rooms                        19.0  \n",
              "ceiling_height              100.0  \n",
              "floors_total                 60.0  \n",
              "living_area                 409.7  \n",
              "floor                        33.0  \n",
              "is_apartment                  NaN  \n",
              "studio                        NaN  \n",
              "open_plan                     NaN  \n",
              "kitchen_area                112.0  \n",
              "balcony                       5.0  \n",
              "locality_name                 NaN  \n",
              "airports_nearest          84869.0  \n",
              "cityCenters_nearest       65968.0  \n",
              "parks_around3000              3.0  \n",
              "parks_nearest              3190.0  \n",
              "ponds_around3000              3.0  \n",
              "ponds_nearest              1344.0  \n",
              "days_exposition            1580.0  "
            ],
            "text/html": [
              "\n",
              "  <div id=\"df-e6adddf6-bd01-4ddc-9688-b7f615aaa64e\">\n",
              "    <div class=\"colab-df-container\">\n",
              "      <div>\n",
              "<style scoped>\n",
              "    .dataframe tbody tr th:only-of-type {\n",
              "        vertical-align: middle;\n",
              "    }\n",
              "\n",
              "    .dataframe tbody tr th {\n",
              "        vertical-align: top;\n",
              "    }\n",
              "\n",
              "    .dataframe thead th {\n",
              "        text-align: right;\n",
              "    }\n",
              "</style>\n",
              "<table border=\"1\" class=\"dataframe\">\n",
              "  <thead>\n",
              "    <tr style=\"text-align: right;\">\n",
              "      <th></th>\n",
              "      <th>count</th>\n",
              "      <th>unique</th>\n",
              "      <th>top</th>\n",
              "      <th>freq</th>\n",
              "      <th>mean</th>\n",
              "      <th>std</th>\n",
              "      <th>min</th>\n",
              "      <th>25%</th>\n",
              "      <th>50%</th>\n",
              "      <th>75%</th>\n",
              "      <th>max</th>\n",
              "    </tr>\n",
              "  </thead>\n",
              "  <tbody>\n",
              "    <tr>\n",
              "      <th>total_images</th>\n",
              "      <td>23699.0</td>\n",
              "      <td>NaN</td>\n",
              "      <td>NaN</td>\n",
              "      <td>NaN</td>\n",
              "      <td>9.86</td>\n",
              "      <td>5.68</td>\n",
              "      <td>0.0</td>\n",
              "      <td>6.0</td>\n",
              "      <td>9.0</td>\n",
              "      <td>14.0</td>\n",
              "      <td>50.0</td>\n",
              "    </tr>\n",
              "    <tr>\n",
              "      <th>last_price</th>\n",
              "      <td>23699.0</td>\n",
              "      <td>NaN</td>\n",
              "      <td>NaN</td>\n",
              "      <td>NaN</td>\n",
              "      <td>6541548.77</td>\n",
              "      <td>10887013.27</td>\n",
              "      <td>12190.0</td>\n",
              "      <td>3400000.0</td>\n",
              "      <td>4650000.0</td>\n",
              "      <td>6800000.0</td>\n",
              "      <td>763000000.0</td>\n",
              "    </tr>\n",
              "    <tr>\n",
              "      <th>total_area</th>\n",
              "      <td>23699.0</td>\n",
              "      <td>NaN</td>\n",
              "      <td>NaN</td>\n",
              "      <td>NaN</td>\n",
              "      <td>60.35</td>\n",
              "      <td>35.65</td>\n",
              "      <td>12.0</td>\n",
              "      <td>40.0</td>\n",
              "      <td>52.0</td>\n",
              "      <td>69.9</td>\n",
              "      <td>900.0</td>\n",
              "    </tr>\n",
              "    <tr>\n",
              "      <th>first_day_exposition</th>\n",
              "      <td>23699</td>\n",
              "      <td>1491</td>\n",
              "      <td>2018-02-01T00:00:00</td>\n",
              "      <td>368</td>\n",
              "      <td>NaN</td>\n",
              "      <td>NaN</td>\n",
              "      <td>NaN</td>\n",
              "      <td>NaN</td>\n",
              "      <td>NaN</td>\n",
              "      <td>NaN</td>\n",
              "      <td>NaN</td>\n",
              "    </tr>\n",
              "    <tr>\n",
              "      <th>rooms</th>\n",
              "      <td>23699.0</td>\n",
              "      <td>NaN</td>\n",
              "      <td>NaN</td>\n",
              "      <td>NaN</td>\n",
              "      <td>2.07</td>\n",
              "      <td>1.08</td>\n",
              "      <td>0.0</td>\n",
              "      <td>1.0</td>\n",
              "      <td>2.0</td>\n",
              "      <td>3.0</td>\n",
              "      <td>19.0</td>\n",
              "    </tr>\n",
              "    <tr>\n",
              "      <th>ceiling_height</th>\n",
              "      <td>14504.0</td>\n",
              "      <td>NaN</td>\n",
              "      <td>NaN</td>\n",
              "      <td>NaN</td>\n",
              "      <td>2.77</td>\n",
              "      <td>1.26</td>\n",
              "      <td>1.0</td>\n",
              "      <td>2.52</td>\n",
              "      <td>2.65</td>\n",
              "      <td>2.8</td>\n",
              "      <td>100.0</td>\n",
              "    </tr>\n",
              "    <tr>\n",
              "      <th>floors_total</th>\n",
              "      <td>23613.0</td>\n",
              "      <td>NaN</td>\n",
              "      <td>NaN</td>\n",
              "      <td>NaN</td>\n",
              "      <td>10.67</td>\n",
              "      <td>6.6</td>\n",
              "      <td>1.0</td>\n",
              "      <td>5.0</td>\n",
              "      <td>9.0</td>\n",
              "      <td>16.0</td>\n",
              "      <td>60.0</td>\n",
              "    </tr>\n",
              "    <tr>\n",
              "      <th>living_area</th>\n",
              "      <td>21796.0</td>\n",
              "      <td>NaN</td>\n",
              "      <td>NaN</td>\n",
              "      <td>NaN</td>\n",
              "      <td>34.46</td>\n",
              "      <td>22.03</td>\n",
              "      <td>2.0</td>\n",
              "      <td>18.6</td>\n",
              "      <td>30.0</td>\n",
              "      <td>42.3</td>\n",
              "      <td>409.7</td>\n",
              "    </tr>\n",
              "    <tr>\n",
              "      <th>floor</th>\n",
              "      <td>23699.0</td>\n",
              "      <td>NaN</td>\n",
              "      <td>NaN</td>\n",
              "      <td>NaN</td>\n",
              "      <td>5.89</td>\n",
              "      <td>4.89</td>\n",
              "      <td>1.0</td>\n",
              "      <td>2.0</td>\n",
              "      <td>4.0</td>\n",
              "      <td>8.0</td>\n",
              "      <td>33.0</td>\n",
              "    </tr>\n",
              "    <tr>\n",
              "      <th>is_apartment</th>\n",
              "      <td>2775</td>\n",
              "      <td>2</td>\n",
              "      <td>False</td>\n",
              "      <td>2725</td>\n",
              "      <td>NaN</td>\n",
              "      <td>NaN</td>\n",
              "      <td>NaN</td>\n",
              "      <td>NaN</td>\n",
              "      <td>NaN</td>\n",
              "      <td>NaN</td>\n",
              "      <td>NaN</td>\n",
              "    </tr>\n",
              "    <tr>\n",
              "      <th>studio</th>\n",
              "      <td>23699</td>\n",
              "      <td>2</td>\n",
              "      <td>False</td>\n",
              "      <td>23550</td>\n",
              "      <td>NaN</td>\n",
              "      <td>NaN</td>\n",
              "      <td>NaN</td>\n",
              "      <td>NaN</td>\n",
              "      <td>NaN</td>\n",
              "      <td>NaN</td>\n",
              "      <td>NaN</td>\n",
              "    </tr>\n",
              "    <tr>\n",
              "      <th>open_plan</th>\n",
              "      <td>23699</td>\n",
              "      <td>2</td>\n",
              "      <td>False</td>\n",
              "      <td>23632</td>\n",
              "      <td>NaN</td>\n",
              "      <td>NaN</td>\n",
              "      <td>NaN</td>\n",
              "      <td>NaN</td>\n",
              "      <td>NaN</td>\n",
              "      <td>NaN</td>\n",
              "      <td>NaN</td>\n",
              "    </tr>\n",
              "    <tr>\n",
              "      <th>kitchen_area</th>\n",
              "      <td>21421.0</td>\n",
              "      <td>NaN</td>\n",
              "      <td>NaN</td>\n",
              "      <td>NaN</td>\n",
              "      <td>10.57</td>\n",
              "      <td>5.91</td>\n",
              "      <td>1.3</td>\n",
              "      <td>7.0</td>\n",
              "      <td>9.1</td>\n",
              "      <td>12.0</td>\n",
              "      <td>112.0</td>\n",
              "    </tr>\n",
              "    <tr>\n",
              "      <th>balcony</th>\n",
              "      <td>12180.0</td>\n",
              "      <td>NaN</td>\n",
              "      <td>NaN</td>\n",
              "      <td>NaN</td>\n",
              "      <td>1.15</td>\n",
              "      <td>1.07</td>\n",
              "      <td>0.0</td>\n",
              "      <td>0.0</td>\n",
              "      <td>1.0</td>\n",
              "      <td>2.0</td>\n",
              "      <td>5.0</td>\n",
              "    </tr>\n",
              "    <tr>\n",
              "      <th>locality_name</th>\n",
              "      <td>23650</td>\n",
              "      <td>364</td>\n",
              "      <td>Санкт-Петербург</td>\n",
              "      <td>15721</td>\n",
              "      <td>NaN</td>\n",
              "      <td>NaN</td>\n",
              "      <td>NaN</td>\n",
              "      <td>NaN</td>\n",
              "      <td>NaN</td>\n",
              "      <td>NaN</td>\n",
              "      <td>NaN</td>\n",
              "    </tr>\n",
              "    <tr>\n",
              "      <th>airports_nearest</th>\n",
              "      <td>18157.0</td>\n",
              "      <td>NaN</td>\n",
              "      <td>NaN</td>\n",
              "      <td>NaN</td>\n",
              "      <td>28793.67</td>\n",
              "      <td>12630.88</td>\n",
              "      <td>0.0</td>\n",
              "      <td>18585.0</td>\n",
              "      <td>26726.0</td>\n",
              "      <td>37273.0</td>\n",
              "      <td>84869.0</td>\n",
              "    </tr>\n",
              "    <tr>\n",
              "      <th>cityCenters_nearest</th>\n",
              "      <td>18180.0</td>\n",
              "      <td>NaN</td>\n",
              "      <td>NaN</td>\n",
              "      <td>NaN</td>\n",
              "      <td>14191.28</td>\n",
              "      <td>8608.39</td>\n",
              "      <td>181.0</td>\n",
              "      <td>9238.0</td>\n",
              "      <td>13098.5</td>\n",
              "      <td>16293.0</td>\n",
              "      <td>65968.0</td>\n",
              "    </tr>\n",
              "    <tr>\n",
              "      <th>parks_around3000</th>\n",
              "      <td>18181.0</td>\n",
              "      <td>NaN</td>\n",
              "      <td>NaN</td>\n",
              "      <td>NaN</td>\n",
              "      <td>0.61</td>\n",
              "      <td>0.8</td>\n",
              "      <td>0.0</td>\n",
              "      <td>0.0</td>\n",
              "      <td>0.0</td>\n",
              "      <td>1.0</td>\n",
              "      <td>3.0</td>\n",
              "    </tr>\n",
              "    <tr>\n",
              "      <th>parks_nearest</th>\n",
              "      <td>8079.0</td>\n",
              "      <td>NaN</td>\n",
              "      <td>NaN</td>\n",
              "      <td>NaN</td>\n",
              "      <td>490.8</td>\n",
              "      <td>342.32</td>\n",
              "      <td>1.0</td>\n",
              "      <td>288.0</td>\n",
              "      <td>455.0</td>\n",
              "      <td>612.0</td>\n",
              "      <td>3190.0</td>\n",
              "    </tr>\n",
              "    <tr>\n",
              "      <th>ponds_around3000</th>\n",
              "      <td>18181.0</td>\n",
              "      <td>NaN</td>\n",
              "      <td>NaN</td>\n",
              "      <td>NaN</td>\n",
              "      <td>0.77</td>\n",
              "      <td>0.94</td>\n",
              "      <td>0.0</td>\n",
              "      <td>0.0</td>\n",
              "      <td>1.0</td>\n",
              "      <td>1.0</td>\n",
              "      <td>3.0</td>\n",
              "    </tr>\n",
              "    <tr>\n",
              "      <th>ponds_nearest</th>\n",
              "      <td>9110.0</td>\n",
              "      <td>NaN</td>\n",
              "      <td>NaN</td>\n",
              "      <td>NaN</td>\n",
              "      <td>517.98</td>\n",
              "      <td>277.72</td>\n",
              "      <td>13.0</td>\n",
              "      <td>294.0</td>\n",
              "      <td>502.0</td>\n",
              "      <td>729.0</td>\n",
              "      <td>1344.0</td>\n",
              "    </tr>\n",
              "    <tr>\n",
              "      <th>days_exposition</th>\n",
              "      <td>20518.0</td>\n",
              "      <td>NaN</td>\n",
              "      <td>NaN</td>\n",
              "      <td>NaN</td>\n",
              "      <td>180.89</td>\n",
              "      <td>219.73</td>\n",
              "      <td>1.0</td>\n",
              "      <td>45.0</td>\n",
              "      <td>95.0</td>\n",
              "      <td>232.0</td>\n",
              "      <td>1580.0</td>\n",
              "    </tr>\n",
              "  </tbody>\n",
              "</table>\n",
              "</div>\n",
              "      <button class=\"colab-df-convert\" onclick=\"convertToInteractive('df-e6adddf6-bd01-4ddc-9688-b7f615aaa64e')\"\n",
              "              title=\"Convert this dataframe to an interactive table.\"\n",
              "              style=\"display:none;\">\n",
              "        \n",
              "  <svg xmlns=\"http://www.w3.org/2000/svg\" height=\"24px\"viewBox=\"0 0 24 24\"\n",
              "       width=\"24px\">\n",
              "    <path d=\"M0 0h24v24H0V0z\" fill=\"none\"/>\n",
              "    <path d=\"M18.56 5.44l.94 2.06.94-2.06 2.06-.94-2.06-.94-.94-2.06-.94 2.06-2.06.94zm-11 1L8.5 8.5l.94-2.06 2.06-.94-2.06-.94L8.5 2.5l-.94 2.06-2.06.94zm10 10l.94 2.06.94-2.06 2.06-.94-2.06-.94-.94-2.06-.94 2.06-2.06.94z\"/><path d=\"M17.41 7.96l-1.37-1.37c-.4-.4-.92-.59-1.43-.59-.52 0-1.04.2-1.43.59L10.3 9.45l-7.72 7.72c-.78.78-.78 2.05 0 2.83L4 21.41c.39.39.9.59 1.41.59.51 0 1.02-.2 1.41-.59l7.78-7.78 2.81-2.81c.8-.78.8-2.07 0-2.86zM5.41 20L4 18.59l7.72-7.72 1.47 1.35L5.41 20z\"/>\n",
              "  </svg>\n",
              "      </button>\n",
              "      \n",
              "  <style>\n",
              "    .colab-df-container {\n",
              "      display:flex;\n",
              "      flex-wrap:wrap;\n",
              "      gap: 12px;\n",
              "    }\n",
              "\n",
              "    .colab-df-convert {\n",
              "      background-color: #E8F0FE;\n",
              "      border: none;\n",
              "      border-radius: 50%;\n",
              "      cursor: pointer;\n",
              "      display: none;\n",
              "      fill: #1967D2;\n",
              "      height: 32px;\n",
              "      padding: 0 0 0 0;\n",
              "      width: 32px;\n",
              "    }\n",
              "\n",
              "    .colab-df-convert:hover {\n",
              "      background-color: #E2EBFA;\n",
              "      box-shadow: 0px 1px 2px rgba(60, 64, 67, 0.3), 0px 1px 3px 1px rgba(60, 64, 67, 0.15);\n",
              "      fill: #174EA6;\n",
              "    }\n",
              "\n",
              "    [theme=dark] .colab-df-convert {\n",
              "      background-color: #3B4455;\n",
              "      fill: #D2E3FC;\n",
              "    }\n",
              "\n",
              "    [theme=dark] .colab-df-convert:hover {\n",
              "      background-color: #434B5C;\n",
              "      box-shadow: 0px 1px 3px 1px rgba(0, 0, 0, 0.15);\n",
              "      filter: drop-shadow(0px 1px 2px rgba(0, 0, 0, 0.3));\n",
              "      fill: #FFFFFF;\n",
              "    }\n",
              "  </style>\n",
              "\n",
              "      <script>\n",
              "        const buttonEl =\n",
              "          document.querySelector('#df-e6adddf6-bd01-4ddc-9688-b7f615aaa64e button.colab-df-convert');\n",
              "        buttonEl.style.display =\n",
              "          google.colab.kernel.accessAllowed ? 'block' : 'none';\n",
              "\n",
              "        async function convertToInteractive(key) {\n",
              "          const element = document.querySelector('#df-e6adddf6-bd01-4ddc-9688-b7f615aaa64e');\n",
              "          const dataTable =\n",
              "            await google.colab.kernel.invokeFunction('convertToInteractive',\n",
              "                                                     [key], {});\n",
              "          if (!dataTable) return;\n",
              "\n",
              "          const docLinkHtml = 'Like what you see? Visit the ' +\n",
              "            '<a target=\"_blank\" href=https://colab.research.google.com/notebooks/data_table.ipynb>data table notebook</a>'\n",
              "            + ' to learn more about interactive tables.';\n",
              "          element.innerHTML = '';\n",
              "          dataTable['output_type'] = 'display_data';\n",
              "          await google.colab.output.renderOutput(dataTable, element);\n",
              "          const docLink = document.createElement('div');\n",
              "          docLink.innerHTML = docLinkHtml;\n",
              "          element.appendChild(docLink);\n",
              "        }\n",
              "      </script>\n",
              "    </div>\n",
              "  </div>\n",
              "  "
            ]
          },
          "metadata": {},
          "execution_count": 9
        }
      ]
    },
    {
      "cell_type": "code",
      "source": [
        "df_raw.info()"
      ],
      "metadata": {
        "colab": {
          "base_uri": "https://localhost:8080/"
        },
        "id": "LNNNT__2dvmx",
        "outputId": "6e9bcad3-595d-49ec-c172-a30290118d62"
      },
      "execution_count": null,
      "outputs": [
        {
          "output_type": "stream",
          "name": "stdout",
          "text": [
            "<class 'pandas.core.frame.DataFrame'>\n",
            "RangeIndex: 23699 entries, 0 to 23698\n",
            "Data columns (total 22 columns):\n",
            " #   Column                Non-Null Count  Dtype  \n",
            "---  ------                --------------  -----  \n",
            " 0   total_images          23699 non-null  Int64  \n",
            " 1   last_price            23699 non-null  Int64  \n",
            " 2   total_area            23699 non-null  Float64\n",
            " 3   first_day_exposition  23699 non-null  string \n",
            " 4   rooms                 23699 non-null  Int64  \n",
            " 5   ceiling_height        14504 non-null  Float64\n",
            " 6   floors_total          23613 non-null  Int64  \n",
            " 7   living_area           21796 non-null  Float64\n",
            " 8   floor                 23699 non-null  Int64  \n",
            " 9   is_apartment          2775 non-null   boolean\n",
            " 10  studio                23699 non-null  boolean\n",
            " 11  open_plan             23699 non-null  boolean\n",
            " 12  kitchen_area          21421 non-null  Float64\n",
            " 13  balcony               12180 non-null  Int64  \n",
            " 14  locality_name         23650 non-null  string \n",
            " 15  airports_nearest      18157 non-null  Int64  \n",
            " 16  cityCenters_nearest   18180 non-null  Int64  \n",
            " 17  parks_around3000      18181 non-null  Int64  \n",
            " 18  parks_nearest         8079 non-null   Int64  \n",
            " 19  ponds_around3000      18181 non-null  Int64  \n",
            " 20  ponds_nearest         9110 non-null   Int64  \n",
            " 21  days_exposition       20518 non-null  Float64\n",
            "dtypes: Float64(5), Int64(12), boolean(3), string(2)\n",
            "memory usage: 4.0 MB\n"
          ]
        }
      ]
    },
    {
      "cell_type": "markdown",
      "source": [
        "## План работы по предобработке\n",
        "|Признак|Замечание|\n",
        "|--:|:--|\n",
        "|`first_day_exposition`|дата не формате даты, конвертировать|\n",
        "|`cityCenters_nearest`|переименовать в нижний регистр для единообразия|\n",
        "||Проверить дубли и удалить|\n",
        "|`ceiling_height`|минимум 1 метр, максимум 100м - поделить на 10, которые в диапазоне 20-50, по остальным удалить записи|\n",
        "|`days_exposition`|проанализировать и устранить выбросы|\n",
        "|`floors_total`|не большое количество пропусков - удалить|\n",
        "|`is_apartment`|много пропусков, у кого пропуски заполнить False так как не указание показателя скорее означает, что это квартира|\n",
        "|`locality_name`|содержит 49 пропусков, можем удалить|\n",
        "|`rooms`|содержит 194 записи со значением 0, что не даст посчитать цену на м2. Удалить|\n",
        "|`living_area`|пропуски заполним расчетным значением медианы соотношения жилой и общей|\n",
        "|`kitchen_area`|пропуски заполним расчетным значением медианы соотношения жилой и общей|\n",
        "|`balcony`|заполняем пропуски 0|\n",
        "|`parks_nearest`|заполняем пропуски штрафом 10000|\n",
        "|`parks_around3000`|заполняем пропуски штрафом 10000|\n",
        "|`ponds_nearest`|заполняем пропуски штрафом 10000|\n",
        "|`ponds_around3000`|заполняем пропуски штрафом 10000|\n",
        "|`cityCenters_nearest`|заполняем пропуски штрафом 10000|\n",
        "|`airports_nearest`|заполняем пропуски штрафом 0|\n",
        "|`ceiling_height`|38% пропусков анализ и удаление с копированием в другой датасет|\n"
      ],
      "metadata": {
        "id": "hflY6hpMdSgh"
      }
    },
    {
      "cell_type": "markdown",
      "source": [
        "#### first_day_exposition"
      ],
      "metadata": {
        "id": "OczzDBtXurUg"
      }
    },
    {
      "cell_type": "code",
      "source": [
        "# Преобразуем дату из типа Object в тип datetime\n",
        "df_raw.first_day_exposition = pd.to_datetime(df_raw.first_day_exposition)\n",
        "df_raw.info()"
      ],
      "metadata": {
        "colab": {
          "base_uri": "https://localhost:8080/"
        },
        "id": "jBxm_ahpXNKn",
        "outputId": "90fb22fa-13cd-4ba3-c611-017bfdb02333"
      },
      "execution_count": null,
      "outputs": [
        {
          "output_type": "stream",
          "name": "stdout",
          "text": [
            "<class 'pandas.core.frame.DataFrame'>\n",
            "RangeIndex: 23699 entries, 0 to 23698\n",
            "Data columns (total 22 columns):\n",
            " #   Column                Non-Null Count  Dtype         \n",
            "---  ------                --------------  -----         \n",
            " 0   total_images          23699 non-null  Int64         \n",
            " 1   last_price            23699 non-null  Int64         \n",
            " 2   total_area            23699 non-null  Float64       \n",
            " 3   first_day_exposition  23699 non-null  datetime64[ns]\n",
            " 4   rooms                 23699 non-null  Int64         \n",
            " 5   ceiling_height        14504 non-null  Float64       \n",
            " 6   floors_total          23613 non-null  Int64         \n",
            " 7   living_area           21796 non-null  Float64       \n",
            " 8   floor                 23699 non-null  Int64         \n",
            " 9   is_apartment          2775 non-null   boolean       \n",
            " 10  studio                23699 non-null  boolean       \n",
            " 11  open_plan             23699 non-null  boolean       \n",
            " 12  kitchen_area          21421 non-null  Float64       \n",
            " 13  balcony               12180 non-null  Int64         \n",
            " 14  locality_name         23650 non-null  string        \n",
            " 15  airports_nearest      18157 non-null  Int64         \n",
            " 16  cityCenters_nearest   18180 non-null  Int64         \n",
            " 17  parks_around3000      18181 non-null  Int64         \n",
            " 18  parks_nearest         8079 non-null   Int64         \n",
            " 19  ponds_around3000      18181 non-null  Int64         \n",
            " 20  ponds_nearest         9110 non-null   Int64         \n",
            " 21  days_exposition       20518 non-null  Float64       \n",
            "dtypes: Float64(5), Int64(12), boolean(3), datetime64[ns](1), string(1)\n",
            "memory usage: 4.0 MB\n"
          ]
        }
      ]
    },
    {
      "cell_type": "markdown",
      "source": [
        "#### cityCenters_nearest переименуем в нижний регистр в snake-case стиль"
      ],
      "metadata": {
        "id": "zfQKUOnpZKr6"
      }
    },
    {
      "cell_type": "code",
      "source": [
        "df_raw.rename(columns={'cityCenters_nearest': 'city_centers_nearest'}, inplace=True)"
      ],
      "metadata": {
        "id": "WDr_UJU_ZOIR"
      },
      "execution_count": null,
      "outputs": []
    },
    {
      "cell_type": "markdown",
      "source": [
        "#### Определим наличие дублей"
      ],
      "metadata": {
        "id": "u90Hp-LcybEU"
      }
    },
    {
      "cell_type": "code",
      "source": [
        "# Дублей нет\n",
        "df_raw.duplicated().sum()"
      ],
      "metadata": {
        "colab": {
          "base_uri": "https://localhost:8080/"
        },
        "id": "1wZRbpVDyZnX",
        "outputId": "01888f74-3d73-449e-c462-1821cb5d9506"
      },
      "execution_count": null,
      "outputs": [
        {
          "output_type": "execute_result",
          "data": {
            "text/plain": [
              "0"
            ]
          },
          "metadata": {},
          "execution_count": 13
        }
      ]
    },
    {
      "cell_type": "markdown",
      "source": [
        "#### ceiling_height работа с выбросами "
      ],
      "metadata": {
        "id": "9mT7YGKIueYJ"
      }
    },
    {
      "cell_type": "code",
      "source": [
        "df_raw.ceiling_height.plot(kind='box')"
      ],
      "metadata": {
        "colab": {
          "base_uri": "https://localhost:8080/",
          "height": 392
        },
        "id": "tijVXJLGSx0a",
        "outputId": "2683bcaf-1225-44a8-9774-0e0f86f8782a"
      },
      "execution_count": null,
      "outputs": [
        {
          "output_type": "execute_result",
          "data": {
            "text/plain": [
              "<matplotlib.axes._subplots.AxesSubplot at 0x7fa8f4fcc850>"
            ]
          },
          "metadata": {},
          "execution_count": 14
        },
        {
          "output_type": "display_data",
          "data": {
            "text/plain": [
              "<Figure size 720x432 with 1 Axes>"
            ],
            "image/png": "[encoded data removed]"
          },
          "metadata": {
            "needs_background": "light"
          }
        }
      ]
    },
    {
      "cell_type": "code",
      "source": [
        "# высота потолков имеет не реальные значения, но похоже, что данные в диапазоне 25м - 50м были введены без десятичной точки и их можно разделить на 10\n",
        "df_raw.ceiling_height[(df_raw.ceiling_height > 25) & (df_raw.ceiling_height < 50)]"
      ],
      "metadata": {
        "colab": {
          "base_uri": "https://localhost:8080/"
        },
        "id": "dU0g9MmDyXxi",
        "outputId": "73fe3eea-1c65-4b24-a530-e67afac8c6fc"
      },
      "execution_count": null,
      "outputs": [
        {
          "output_type": "execute_result",
          "data": {
            "text/plain": [
              "3148     32.0\n",
              "4876     27.0\n",
              "5246     27.0\n",
              "5669     26.0\n",
              "5807     27.0\n",
              "10773    27.0\n",
              "17857    27.0\n",
              "20478    27.0\n",
              "21377    27.5\n",
              "21824    27.0\n",
              "22336    32.0\n",
              "22938    27.0\n",
              "Name: ceiling_height, dtype: Float64"
            ]
          },
          "metadata": {},
          "execution_count": 15
        }
      ]
    },
    {
      "cell_type": "code",
      "source": [
        "# поделим на 10 высоты от 25 до 50 метров\n",
        "df_raw.ceiling_height[(df_raw.ceiling_height > 25) & (df_raw.ceiling_height < 50)] = df_raw.ceiling_height[(df_raw.ceiling_height > 25) & (df_raw.ceiling_height < 50)] /10"
      ],
      "metadata": {
        "id": "zFyrhPtLwtAU"
      },
      "execution_count": null,
      "outputs": []
    },
    {
      "cell_type": "code",
      "source": [
        "# какие еще значения высоты полотка являются выбросами?\n",
        "df_raw.ceiling_height[(df_raw.ceiling_height > 50) | (df_raw.ceiling_height < 2)]"
      ],
      "metadata": {
        "colab": {
          "base_uri": "https://localhost:8080/"
        },
        "id": "qC7f26QzyG_c",
        "outputId": "697cd0c7-2bf2-4c1b-a4d8-5d8ed369411b"
      },
      "execution_count": null,
      "outputs": [
        {
          "output_type": "execute_result",
          "data": {
            "text/plain": [
              "5712       1.2\n",
              "16934     1.75\n",
              "22590      1.0\n",
              "22869    100.0\n",
              "Name: ceiling_height, dtype: Float64"
            ]
          },
          "metadata": {},
          "execution_count": 17
        }
      ]
    },
    {
      "cell_type": "code",
      "source": [
        "# удалим их\n",
        "df_raw = df_raw.drop(df_raw.ceiling_height[(df_raw.ceiling_height > 50) | (df_raw.ceiling_height < 2)].index)"
      ],
      "metadata": {
        "id": "xPw9UM7YshMy"
      },
      "execution_count": null,
      "outputs": []
    },
    {
      "cell_type": "markdown",
      "source": [
        "#### days_exposition работа с пропусками"
      ],
      "metadata": {
        "id": "4af8OGkobLkD"
      }
    },
    {
      "cell_type": "code",
      "source": [
        "# 3181 строки имеют не заполненное количество дней экспозиции\n",
        "df_raw.days_exposition.isnull().sum()"
      ],
      "metadata": {
        "colab": {
          "base_uri": "https://localhost:8080/"
        },
        "id": "oVJITYwXikX_",
        "outputId": "23eddfed-4647-40a2-d5f5-31e36ae91485"
      },
      "execution_count": null,
      "outputs": [
        {
          "output_type": "execute_result",
          "data": {
            "text/plain": [
              "3181"
            ]
          },
          "metadata": {},
          "execution_count": 19
        }
      ]
    },
    {
      "cell_type": "code",
      "source": [
        "# при этом у нас нет строк, у которых дней экспозиции была пустая и цена была не определена. \n",
        "# Таким образом все объекты проданы и можно вычислить дни экспозиции\n",
        "df_raw.last_price[(df_raw.days_exposition.isnull()) & (df_raw.last_price == 0)].count()"
      ],
      "metadata": {
        "colab": {
          "base_uri": "https://localhost:8080/"
        },
        "id": "NQ03H8Vyp2ym",
        "outputId": "f33fb946-83ff-425f-8c01-0d5b0132ba38"
      },
      "execution_count": null,
      "outputs": [
        {
          "output_type": "execute_result",
          "data": {
            "text/plain": [
              "0"
            ]
          },
          "metadata": {},
          "execution_count": 20
        }
      ]
    },
    {
      "cell_type": "markdown",
      "source": [
        "Рассчитаем дни экспозиции как разница между конечной датой в таблице и датой first_day_exposition, где конечная дата - максимальная дата, полученная как сумма first_day_exposition и days_exposition.  \n",
        "Если бы таблица была сформирована прямо сейчас, то мы моглы бы использовать текущаю дату, но так как это не так, то мы не можем использовать текущую дату, так как в этом случае по строкам, где количество дней экспозиции нулевая будет в итоге самое большое количество дней экспозиции. "
      ],
      "metadata": {
        "id": "QxLdSuNjeHGu"
      }
    },
    {
      "cell_type": "code",
      "source": [
        "# сформируем временную таблицу, с не нулевыми значениями дней экспозиции\n",
        "df_tmp = df_raw[['first_day_exposition', 'days_exposition']][~df_raw.days_exposition.isnull()]\n",
        "df_tmp.info()"
      ],
      "metadata": {
        "id": "HEHcZFCyfsqQ",
        "colab": {
          "base_uri": "https://localhost:8080/"
        },
        "outputId": "4e7c0de7-cee7-4613-af81-1e995a50d5e7"
      },
      "execution_count": null,
      "outputs": [
        {
          "output_type": "stream",
          "name": "stdout",
          "text": [
            "<class 'pandas.core.frame.DataFrame'>\n",
            "Int64Index: 20514 entries, 1 to 23697\n",
            "Data columns (total 2 columns):\n",
            " #   Column                Non-Null Count  Dtype         \n",
            "---  ------                --------------  -----         \n",
            " 0   first_day_exposition  20514 non-null  datetime64[ns]\n",
            " 1   days_exposition       20514 non-null  Float64       \n",
            "dtypes: Float64(1), datetime64[ns](1)\n",
            "memory usage: 500.8 KB\n"
          ]
        }
      ]
    },
    {
      "cell_type": "code",
      "source": [
        "# получим конечную дату для каждой строки\n",
        "df_tmp['end_date'] = df_tmp.first_day_exposition + pd.to_timedelta(np.ceil(df_tmp.days_exposition), unit=\"D\")"
      ],
      "metadata": {
        "id": "jaJvi9P5k2tS"
      },
      "execution_count": null,
      "outputs": []
    },
    {
      "cell_type": "code",
      "source": [
        "df_tmp.info()"
      ],
      "metadata": {
        "colab": {
          "base_uri": "https://localhost:8080/"
        },
        "id": "xfrsn4y8pmR4",
        "outputId": "1d5ff54c-a613-4110-b129-beace17cb100"
      },
      "execution_count": null,
      "outputs": [
        {
          "output_type": "stream",
          "name": "stdout",
          "text": [
            "<class 'pandas.core.frame.DataFrame'>\n",
            "Int64Index: 20514 entries, 1 to 23697\n",
            "Data columns (total 3 columns):\n",
            " #   Column                Non-Null Count  Dtype         \n",
            "---  ------                --------------  -----         \n",
            " 0   first_day_exposition  20514 non-null  datetime64[ns]\n",
            " 1   days_exposition       20514 non-null  Float64       \n",
            " 2   end_date              20514 non-null  datetime64[ns]\n",
            "dtypes: Float64(1), datetime64[ns](2)\n",
            "memory usage: 661.1 KB\n"
          ]
        }
      ]
    },
    {
      "cell_type": "code",
      "source": [
        "# получим конечную дату в таблице как максимальную дату по показателю end_date\n",
        "end_date = df_tmp.end_date.max()"
      ],
      "metadata": {
        "id": "cOJhG8nznZeh"
      },
      "execution_count": null,
      "outputs": []
    },
    {
      "cell_type": "code",
      "source": [
        "# вернемся в основную таблицу и установим в строках с нулевыми днями экспозиции дату end_date\n",
        "df_raw['end_date'] = np.NaN\n",
        "df_raw['end_date'][df_raw.days_exposition.isnull()] = end_date\n",
        "df_raw.info()"
      ],
      "metadata": {
        "colab": {
          "base_uri": "https://localhost:8080/"
        },
        "id": "Ua5oatt1iljp",
        "outputId": "ce6c0dd7-44ba-4054-944d-1964f7dd4654"
      },
      "execution_count": null,
      "outputs": [
        {
          "output_type": "stream",
          "name": "stdout",
          "text": [
            "<class 'pandas.core.frame.DataFrame'>\n",
            "Int64Index: 23695 entries, 0 to 23698\n",
            "Data columns (total 23 columns):\n",
            " #   Column                Non-Null Count  Dtype         \n",
            "---  ------                --------------  -----         \n",
            " 0   total_images          23695 non-null  Int64         \n",
            " 1   last_price            23695 non-null  Int64         \n",
            " 2   total_area            23695 non-null  Float64       \n",
            " 3   first_day_exposition  23695 non-null  datetime64[ns]\n",
            " 4   rooms                 23695 non-null  Int64         \n",
            " 5   ceiling_height        14500 non-null  Float64       \n",
            " 6   floors_total          23609 non-null  Int64         \n",
            " 7   living_area           21792 non-null  Float64       \n",
            " 8   floor                 23695 non-null  Int64         \n",
            " 9   is_apartment          2774 non-null   boolean       \n",
            " 10  studio                23695 non-null  boolean       \n",
            " 11  open_plan             23695 non-null  boolean       \n",
            " 12  kitchen_area          21417 non-null  Float64       \n",
            " 13  balcony               12179 non-null  Int64         \n",
            " 14  locality_name         23646 non-null  string        \n",
            " 15  airports_nearest      18154 non-null  Int64         \n",
            " 16  city_centers_nearest  18177 non-null  Int64         \n",
            " 17  parks_around3000      18178 non-null  Int64         \n",
            " 18  parks_nearest         8077 non-null   Int64         \n",
            " 19  ponds_around3000      18178 non-null  Int64         \n",
            " 20  ponds_nearest         9107 non-null   Int64         \n",
            " 21  days_exposition       20514 non-null  Float64       \n",
            " 22  end_date              3181 non-null   object        \n",
            "dtypes: Float64(5), Int64(12), boolean(3), datetime64[ns](1), object(1), string(1)\n",
            "memory usage: 4.3+ MB\n"
          ]
        }
      ]
    },
    {
      "cell_type": "code",
      "source": [
        "# вычислим дни экспозиции для строк, где этот показатель пропущен\n",
        "df_raw.days_exposition = df_raw.apply(lambda row: (row.end_date - row.first_day_exposition).days if pd.isnull(row.days_exposition) else row.days_exposition, axis=1)\n",
        "df_raw.days_exposition = df_raw.days_exposition.astype(int)"
      ],
      "metadata": {
        "id": "fEPJ2xsCAEMi"
      },
      "execution_count": null,
      "outputs": []
    },
    {
      "cell_type": "markdown",
      "source": [
        "#### days_exposition работа с аномалиями"
      ],
      "metadata": {
        "id": "kMQvux96dbuk"
      }
    },
    {
      "cell_type": "code",
      "source": [
        "# построим ящик с усами для оценки наличия выбросов\n",
        "df_raw.days_exposition.plot(kind='box')"
      ],
      "metadata": {
        "colab": {
          "base_uri": "https://localhost:8080/"
        },
        "id": "BAyPZ3XSbZVi",
        "outputId": "44f844c2-0117-44f2-daea-44c43464125b"
      },
      "execution_count": null,
      "outputs": [
        {
          "output_type": "execute_result",
          "data": {
            "text/plain": [
              "<matplotlib.axes._subplots.AxesSubplot at 0x7fa8f50b4150>"
            ]
          },
          "metadata": {},
          "execution_count": 27
        },
        {
          "output_type": "display_data",
          "data": {
            "text/plain": [
              "<Figure size 720x432 with 1 Axes>"
            ],
            "image/png": "[encoded data removed]"
          },
          "metadata": {
            "needs_background": "light"
          }
        }
      ]
    },
    {
      "cell_type": "code",
      "source": [
        "# оценим распределение по квантилям. Видно, что бОльшая часть данных помещается до 95% квантиля\n",
        "df_raw.days_exposition.describe(percentiles=[0, .25, .50, .75, .80, .90, .95, .99])"
      ],
      "metadata": {
        "colab": {
          "base_uri": "https://localhost:8080/"
        },
        "id": "03yuriDqbrC2",
        "outputId": "3e72eead-016d-448e-af4d-32254730dff3"
      },
      "execution_count": null,
      "outputs": [
        {
          "output_type": "execute_result",
          "data": {
            "text/plain": [
              "count    23695.00\n",
              "mean       185.84\n",
              "std        233.39\n",
              "min          0.00\n",
              "0%           0.00\n",
              "25%         43.00\n",
              "50%         94.00\n",
              "75%        237.00\n",
              "80%        295.00\n",
              "90%        475.60\n",
              "95%        668.00\n",
              "99%       1135.00\n",
              "max       1618.00\n",
              "Name: days_exposition, dtype: float64"
            ]
          },
          "metadata": {},
          "execution_count": 28
        }
      ]
    },
    {
      "cell_type": "code",
      "source": [
        "# количество строк с крайне большим количеством дней экспозиции по квантилю 95\n",
        "df_raw.days_exposition[df_raw.days_exposition > 668].count()"
      ],
      "metadata": {
        "colab": {
          "base_uri": "https://localhost:8080/"
        },
        "id": "hajfYvRacHhu",
        "outputId": "8ba6c015-41a7-4bed-eb56-76eefa6d4846"
      },
      "execution_count": null,
      "outputs": [
        {
          "output_type": "execute_result",
          "data": {
            "text/plain": [
              "1181"
            ]
          },
          "metadata": {},
          "execution_count": 29
        }
      ]
    },
    {
      "cell_type": "code",
      "source": [
        "# удалим их ПОКА НЕ УДАЛЯЕМ!!!\n",
        "# df_raw = df_raw.drop(df_raw[df_raw.days_exposition > 668].index)"
      ],
      "metadata": {
        "id": "eUr-HOBRdesf"
      },
      "execution_count": null,
      "outputs": []
    },
    {
      "cell_type": "code",
      "source": [
        "df_raw.days_exposition.plot(kind='box')"
      ],
      "metadata": {
        "colab": {
          "base_uri": "https://localhost:8080/"
        },
        "id": "OanK6UhizBKv",
        "outputId": "046a1e04-c185-4f4c-f720-38d520568bce"
      },
      "execution_count": null,
      "outputs": [
        {
          "output_type": "execute_result",
          "data": {
            "text/plain": [
              "<matplotlib.axes._subplots.AxesSubplot at 0x7fa8f47d0650>"
            ]
          },
          "metadata": {},
          "execution_count": 31
        },
        {
          "output_type": "display_data",
          "data": {
            "text/plain": [
              "<Figure size 720x432 with 1 Axes>"
            ],
            "image/png": "[encoded data removed]"
          },
          "metadata": {
            "needs_background": "light"
          }
        }
      ]
    },
    {
      "cell_type": "code",
      "source": [
        "df_raw.drop('end_date', axis=1, inplace=True)"
      ],
      "metadata": {
        "id": "g5SAmtPU4i3D"
      },
      "execution_count": null,
      "outputs": []
    },
    {
      "cell_type": "markdown",
      "source": [
        "#### floors_total"
      ],
      "metadata": {
        "id": "flfePVMQuknn"
      }
    },
    {
      "cell_type": "code",
      "source": [
        "# удалим строки где floors_total пустое так как количество таких записей не существенно\n",
        "df_raw = df_raw.drop(df_raw[df_raw.floors_total.isnull()].index)"
      ],
      "metadata": {
        "id": "KVnXK6kbtG99"
      },
      "execution_count": null,
      "outputs": []
    },
    {
      "cell_type": "markdown",
      "source": [
        "#### is_apartment"
      ],
      "metadata": {
        "id": "ihD5qFQbuv3n"
      }
    },
    {
      "cell_type": "code",
      "source": [
        "# заполним is_apartment значением False так как апартамены представлены на рынке в гораздо меньшей степени, чем жилая недвижимость \n",
        "# и отсутствие значения означает скорее квартиру (по умолчанию) нежели апартаменты, когда это указывают как правило специально \n",
        "df_raw.is_apartment = df_raw.is_apartment.fillna(False)"
      ],
      "metadata": {
        "id": "M_Id2wkiXCl3"
      },
      "execution_count": null,
      "outputs": []
    },
    {
      "cell_type": "markdown",
      "source": [
        "#### locality_name удалим с пустыми значениями"
      ],
      "metadata": {
        "id": "f94FSHFuu3m3"
      }
    },
    {
      "cell_type": "code",
      "source": [
        "# удаляем строки с пустыми значениями locality_name\n",
        "df_raw = df_raw.drop(df_raw[df_raw.locality_name.isnull()].index)"
      ],
      "metadata": {
        "id": "IRVOmGZjyTVv"
      },
      "execution_count": null,
      "outputs": []
    },
    {
      "cell_type": "markdown",
      "source": [
        "#### rooms где количество комнат не пустое, но равно 0 удалим"
      ],
      "metadata": {
        "id": "5Ww-4QJlxU4m"
      }
    },
    {
      "cell_type": "code",
      "source": [
        "# удалим строки где rooms равно 0\n",
        "df_raw = df_raw.drop(df_raw[df_raw.rooms == 0].index)"
      ],
      "metadata": {
        "id": "oXh1rtS8xVf0"
      },
      "execution_count": null,
      "outputs": []
    },
    {
      "cell_type": "markdown",
      "source": [
        "#### living_area большое количество пропусков, заполним медианой соотношения жилой к общей"
      ],
      "metadata": {
        "id": "6oq_c3G5bpAC"
      }
    },
    {
      "cell_type": "code",
      "source": [
        "# создадим временную таблицу с не пустыми значениями жилой и общей площади\n",
        "df_liv_vs_tot = df_raw[['living_area', 'total_area']][~df_raw.living_area.isnull() & ~df_raw.total_area.isnull()]"
      ],
      "metadata": {
        "id": "nD_uc6Zmv47D"
      },
      "execution_count": null,
      "outputs": []
    },
    {
      "cell_type": "code",
      "source": [
        "# получим соотношение жилой к общей площади\n",
        "df_liv_vs_tot['liv_vs_tot'] = df_liv_vs_tot.living_area / df_liv_vs_tot.total_area"
      ],
      "metadata": {
        "id": "dRvqUV1SwVZ2"
      },
      "execution_count": null,
      "outputs": []
    },
    {
      "cell_type": "code",
      "source": [
        "liv_tot_median = df_liv_vs_tot.liv_vs_tot.median()\n",
        "liv_tot_median"
      ],
      "metadata": {
        "colab": {
          "base_uri": "https://localhost:8080/"
        },
        "id": "sFM8B4VUwlum",
        "outputId": "8b23c905-ed54-42a2-855c-7c1dac94d7be"
      },
      "execution_count": null,
      "outputs": [
        {
          "output_type": "execute_result",
          "data": {
            "text/plain": [
              "0.5671641791044777"
            ]
          },
          "metadata": {},
          "execution_count": 39
        }
      ]
    },
    {
      "cell_type": "code",
      "source": [
        "df_raw.living_area = df_raw.apply(lambda row: (row.total_area * liv_tot_median) if pd.isnull(row.living_area) else row.living_area, axis=1)"
      ],
      "metadata": {
        "id": "X3IO44MIw4G6"
      },
      "execution_count": null,
      "outputs": []
    },
    {
      "cell_type": "markdown",
      "source": [
        "#### kitchen_area"
      ],
      "metadata": {
        "id": "U5EpOzeacN5c"
      }
    },
    {
      "cell_type": "code",
      "source": [
        "# создадим временную таблицу с не пустыми значениями кухонной и общей площади\n",
        "df_kit_vs_tot = df_raw[['kitchen_area', 'total_area']][~df_raw.kitchen_area.isnull() & ~df_raw.total_area.isnull()]"
      ],
      "metadata": {
        "id": "QInXj3pbzcFF"
      },
      "execution_count": null,
      "outputs": []
    },
    {
      "cell_type": "code",
      "source": [
        "# получим соотношение кухонной к общей площади\n",
        "df_kit_vs_tot['kit_vs_tot'] = df_kit_vs_tot.kitchen_area / df_kit_vs_tot.total_area"
      ],
      "metadata": {
        "id": "rkSmGyFezcFF"
      },
      "execution_count": null,
      "outputs": []
    },
    {
      "cell_type": "code",
      "source": [
        "kit_tot_median = df_kit_vs_tot.kit_vs_tot.median()\n",
        "kit_tot_median"
      ],
      "metadata": {
        "colab": {
          "base_uri": "https://localhost:8080/"
        },
        "outputId": "741c104d-7c1a-41d9-fa11-2e037da400d7",
        "id": "OikYzoCrzcFF"
      },
      "execution_count": null,
      "outputs": [
        {
          "output_type": "execute_result",
          "data": {
            "text/plain": [
              "0.17235772357723578"
            ]
          },
          "metadata": {},
          "execution_count": 43
        }
      ]
    },
    {
      "cell_type": "code",
      "source": [
        "df_raw.kitchen_area = df_raw.apply(lambda row: (row.total_area * kit_tot_median) if pd.isnull(row.kitchen_area) else row.kitchen_area, axis=1)"
      ],
      "metadata": {
        "id": "oJ6uzReVzcFF"
      },
      "execution_count": null,
      "outputs": []
    },
    {
      "cell_type": "markdown",
      "source": [
        "#### balcony"
      ],
      "metadata": {
        "id": "lYHcd7jQT7IG"
      }
    },
    {
      "cell_type": "code",
      "source": [
        "# заполним значения по количеству балконов 0, где это не указано\n",
        "df_raw.balcony = df_raw.balcony.fillna(0)"
      ],
      "metadata": {
        "id": "T8vXtQKIQ7jd"
      },
      "execution_count": null,
      "outputs": []
    },
    {
      "cell_type": "markdown",
      "source": [
        "#### parks_nearest parks_around3000"
      ],
      "metadata": {
        "id": "ADQflOnrUII8"
      }
    },
    {
      "cell_type": "code",
      "source": [
        "# заплняем пропуски штрафом 10000 м\n",
        "df_raw.parks_nearest = df_raw.parks_nearest.fillna(10000)"
      ],
      "metadata": {
        "id": "HIqIkWS-UKRt"
      },
      "execution_count": null,
      "outputs": []
    },
    {
      "cell_type": "code",
      "source": [
        "# количество парков заполним 0\n",
        "df_raw.parks_around3000 = df_raw.parks_around3000.fillna(0)"
      ],
      "metadata": {
        "id": "vKMUUKDuajtS"
      },
      "execution_count": null,
      "outputs": []
    },
    {
      "cell_type": "markdown",
      "source": [
        "#### ponds_nearest"
      ],
      "metadata": {
        "id": "mC4Q7_9pUKs6"
      }
    },
    {
      "cell_type": "code",
      "source": [
        "# заплняем пропуски штрафом 10000 м\n",
        "df_raw.ponds_nearest = df_raw.ponds_nearest.fillna(10000)"
      ],
      "metadata": {
        "id": "HHgtLs-tURNX"
      },
      "execution_count": null,
      "outputs": []
    },
    {
      "cell_type": "code",
      "source": [
        "df_raw.ponds_around3000 = df_raw.ponds_around3000.fillna(0)"
      ],
      "metadata": {
        "id": "SX46Qf21apWh"
      },
      "execution_count": null,
      "outputs": []
    },
    {
      "cell_type": "markdown",
      "source": [
        "#### cityCenters_nearest работаем с пропусками"
      ],
      "metadata": {
        "id": "FP5oT1l8UXIf"
      }
    },
    {
      "cell_type": "code",
      "source": [
        "df_raw.city_centers_nearest.isnull().count()"
      ],
      "metadata": {
        "colab": {
          "base_uri": "https://localhost:8080/"
        },
        "id": "mYNxdvsVjH1z",
        "outputId": "5e8746e1-4d5e-4d4c-92a3-9869c6c9af08"
      },
      "execution_count": null,
      "outputs": [
        {
          "output_type": "execute_result",
          "data": {
            "text/plain": [
              "23367"
            ]
          },
          "metadata": {},
          "execution_count": 50
        }
      ]
    },
    {
      "cell_type": "code",
      "source": [
        "df_raw.city_centers_nearest[df_raw.locality_name=='Санкт-Петербург'].describe()"
      ],
      "metadata": {
        "colab": {
          "base_uri": "https://localhost:8080/"
        },
        "id": "kcZVx4HZCKnt",
        "outputId": "be611b2b-1934-4b13-eb89-fb2c8c9623af"
      },
      "execution_count": null,
      "outputs": [
        {
          "output_type": "execute_result",
          "data": {
            "text/plain": [
              "count    15479.00\n",
              "mean     11579.30\n",
              "std       4832.96\n",
              "min        181.00\n",
              "25%       8310.00\n",
              "50%      12226.00\n",
              "75%      14938.00\n",
              "max      29493.00\n",
              "Name: city_centers_nearest, dtype: float64"
            ]
          },
          "metadata": {},
          "execution_count": 51
        }
      ]
    },
    {
      "cell_type": "markdown",
      "source": [
        "Сравним статистические характеристики объектов в СПБ у которых расстояние от центра не указано с объектами в СПБ у которых расстояние до центра указано и не превышает 3 км"
      ],
      "metadata": {
        "id": "52HoRbi4UqNS"
      }
    },
    {
      "cell_type": "code",
      "source": [
        "(df_raw[df_raw.city_centers_nearest.isna() & (df_raw.locality_name=='Санкт-Петербург')].describe() - \\\n",
        "df_raw[~df_raw.city_centers_nearest.isna() & (df_raw.city_centers_nearest < 3000) & (df_raw.locality_name=='Санкт-Петербург')].describe()).T"
      ],
      "metadata": {
        "colab": {
          "base_uri": "https://localhost:8080/",
          "height": 677
        },
        "id": "R1APOfFVAkYK",
        "outputId": "8876ba0a-f6a2-4ee1-c4e3-74ba99ba46b3"
      },
      "execution_count": null,
      "outputs": [
        {
          "output_type": "execute_result",
          "data": {
            "text/plain": [
              "                      count unique  top  freq        mean          std  \\\n",
              "total_images         -570.0    NaN  NaN   NaN         0.6        -1.37   \n",
              "last_price           -570.0    NaN  NaN   NaN -2362309.34 -10141961.38   \n",
              "total_area           -570.0    NaN  NaN   NaN       -13.0         12.5   \n",
              "rooms                -570.0    NaN  NaN   NaN       -0.86        -0.05   \n",
              "ceiling_height       -418.0    NaN  NaN   NaN       -0.25        -0.08   \n",
              "floors_total         -570.0    NaN  NaN   NaN        5.55          4.9   \n",
              "living_area          -570.0    NaN  NaN   NaN      -14.27        -0.54   \n",
              "floor                -570.0    NaN  NaN   NaN        2.95         3.26   \n",
              "is_apartment           -570     -1    0  -564         NaN          NaN   \n",
              "studio                 -570      0    0  -570         NaN          NaN   \n",
              "open_plan              -570     -1    0  -569         NaN          NaN   \n",
              "kitchen_area         -570.0    NaN  NaN   NaN        0.58         1.84   \n",
              "balcony              -570.0    NaN  NaN   NaN        0.52         0.77   \n",
              "airports_nearest     -630.0    NaN  NaN   NaN        <NA>         <NA>   \n",
              "city_centers_nearest -630.0    NaN  NaN   NaN        <NA>         <NA>   \n",
              "parks_around3000     -570.0    NaN  NaN   NaN       -1.62        -1.07   \n",
              "parks_nearest        -570.0    NaN  NaN   NaN     7742.54     -3801.31   \n",
              "ponds_around3000     -570.0    NaN  NaN   NaN       -2.18        -0.98   \n",
              "ponds_nearest        -570.0    NaN  NaN   NaN     8991.46     -2535.73   \n",
              "days_exposition      -570.0    NaN  NaN   NaN     -151.96      -136.99   \n",
              "\n",
              "                           min        25%        50%      75%          max  \n",
              "total_images               3.0        1.0        0.5      0.0        -30.0  \n",
              "last_price            715000.0 -2002500.0 -1450000.0  -7500.0 -271300000.0  \n",
              "total_area               12.64     -14.06     -20.85   -17.57        -86.0  \n",
              "rooms                      0.0       -1.0       -1.0     -1.0         -7.0  \n",
              "ceiling_height             0.0      -0.26       -0.2     -0.3         -1.2  \n",
              "floors_total               1.0       2.75        4.0      5.0         16.0  \n",
              "living_area                1.5       -9.8     -14.93   -18.62       -112.0  \n",
              "floor                      0.0        1.0        2.0      3.0         15.0  \n",
              "is_apartment               NaN        NaN        NaN      NaN          NaN  \n",
              "studio                     NaN        NaN        NaN      NaN          NaN  \n",
              "open_plan                  NaN        NaN        NaN      NaN          NaN  \n",
              "kitchen_area              2.18       -0.1      -0.29      0.3        -24.2  \n",
              "balcony                    0.0        0.0        0.0      1.0          1.0  \n",
              "airports_nearest          <NA>       <NA>       <NA>     <NA>         <NA>  \n",
              "city_centers_nearest      <NA>       <NA>       <NA>     <NA>         <NA>  \n",
              "parks_around3000           0.0       -1.0       -2.0     -3.0         -3.0  \n",
              "parks_nearest           9982.0     9705.0     9554.0  9313.25          0.0  \n",
              "ponds_around3000           0.0       -1.0       -3.0     -3.0         -3.0  \n",
              "ponds_nearest           9978.0     9890.0     9735.0   9457.0          0.0  \n",
              "days_exposition           -2.0      -39.5      -93.0   -267.0       -762.0  "
            ],
            "text/html": [
              "\n",
              "  <div id=\"df-04474755-b153-4088-9e1b-b0de2d1c2779\">\n",
              "    <div class=\"colab-df-container\">\n",
              "      <div>\n",
              "<style scoped>\n",
              "    .dataframe tbody tr th:only-of-type {\n",
              "        vertical-align: middle;\n",
              "    }\n",
              "\n",
              "    .dataframe tbody tr th {\n",
              "        vertical-align: top;\n",
              "    }\n",
              "\n",
              "    .dataframe thead th {\n",
              "        text-align: right;\n",
              "    }\n",
              "</style>\n",
              "<table border=\"1\" class=\"dataframe\">\n",
              "  <thead>\n",
              "    <tr style=\"text-align: right;\">\n",
              "      <th></th>\n",
              "      <th>count</th>\n",
              "      <th>unique</th>\n",
              "      <th>top</th>\n",
              "      <th>freq</th>\n",
              "      <th>mean</th>\n",
              "      <th>std</th>\n",
              "      <th>min</th>\n",
              "      <th>25%</th>\n",
              "      <th>50%</th>\n",
              "      <th>75%</th>\n",
              "      <th>max</th>\n",
              "    </tr>\n",
              "  </thead>\n",
              "  <tbody>\n",
              "    <tr>\n",
              "      <th>total_images</th>\n",
              "      <td>-570.0</td>\n",
              "      <td>NaN</td>\n",
              "      <td>NaN</td>\n",
              "      <td>NaN</td>\n",
              "      <td>0.6</td>\n",
              "      <td>-1.37</td>\n",
              "      <td>3.0</td>\n",
              "      <td>1.0</td>\n",
              "      <td>0.5</td>\n",
              "      <td>0.0</td>\n",
              "      <td>-30.0</td>\n",
              "    </tr>\n",
              "    <tr>\n",
              "      <th>last_price</th>\n",
              "      <td>-570.0</td>\n",
              "      <td>NaN</td>\n",
              "      <td>NaN</td>\n",
              "      <td>NaN</td>\n",
              "      <td>-2362309.34</td>\n",
              "      <td>-10141961.38</td>\n",
              "      <td>715000.0</td>\n",
              "      <td>-2002500.0</td>\n",
              "      <td>-1450000.0</td>\n",
              "      <td>-7500.0</td>\n",
              "      <td>-271300000.0</td>\n",
              "    </tr>\n",
              "    <tr>\n",
              "      <th>total_area</th>\n",
              "      <td>-570.0</td>\n",
              "      <td>NaN</td>\n",
              "      <td>NaN</td>\n",
              "      <td>NaN</td>\n",
              "      <td>-13.0</td>\n",
              "      <td>12.5</td>\n",
              "      <td>12.64</td>\n",
              "      <td>-14.06</td>\n",
              "      <td>-20.85</td>\n",
              "      <td>-17.57</td>\n",
              "      <td>-86.0</td>\n",
              "    </tr>\n",
              "    <tr>\n",
              "      <th>rooms</th>\n",
              "      <td>-570.0</td>\n",
              "      <td>NaN</td>\n",
              "      <td>NaN</td>\n",
              "      <td>NaN</td>\n",
              "      <td>-0.86</td>\n",
              "      <td>-0.05</td>\n",
              "      <td>0.0</td>\n",
              "      <td>-1.0</td>\n",
              "      <td>-1.0</td>\n",
              "      <td>-1.0</td>\n",
              "      <td>-7.0</td>\n",
              "    </tr>\n",
              "    <tr>\n",
              "      <th>ceiling_height</th>\n",
              "      <td>-418.0</td>\n",
              "      <td>NaN</td>\n",
              "      <td>NaN</td>\n",
              "      <td>NaN</td>\n",
              "      <td>-0.25</td>\n",
              "      <td>-0.08</td>\n",
              "      <td>0.0</td>\n",
              "      <td>-0.26</td>\n",
              "      <td>-0.2</td>\n",
              "      <td>-0.3</td>\n",
              "      <td>-1.2</td>\n",
              "    </tr>\n",
              "    <tr>\n",
              "      <th>floors_total</th>\n",
              "      <td>-570.0</td>\n",
              "      <td>NaN</td>\n",
              "      <td>NaN</td>\n",
              "      <td>NaN</td>\n",
              "      <td>5.55</td>\n",
              "      <td>4.9</td>\n",
              "      <td>1.0</td>\n",
              "      <td>2.75</td>\n",
              "      <td>4.0</td>\n",
              "      <td>5.0</td>\n",
              "      <td>16.0</td>\n",
              "    </tr>\n",
              "    <tr>\n",
              "      <th>living_area</th>\n",
              "      <td>-570.0</td>\n",
              "      <td>NaN</td>\n",
              "      <td>NaN</td>\n",
              "      <td>NaN</td>\n",
              "      <td>-14.27</td>\n",
              "      <td>-0.54</td>\n",
              "      <td>1.5</td>\n",
              "      <td>-9.8</td>\n",
              "      <td>-14.93</td>\n",
              "      <td>-18.62</td>\n",
              "      <td>-112.0</td>\n",
              "    </tr>\n",
              "    <tr>\n",
              "      <th>floor</th>\n",
              "      <td>-570.0</td>\n",
              "      <td>NaN</td>\n",
              "      <td>NaN</td>\n",
              "      <td>NaN</td>\n",
              "      <td>2.95</td>\n",
              "      <td>3.26</td>\n",
              "      <td>0.0</td>\n",
              "      <td>1.0</td>\n",
              "      <td>2.0</td>\n",
              "      <td>3.0</td>\n",
              "      <td>15.0</td>\n",
              "    </tr>\n",
              "    <tr>\n",
              "      <th>is_apartment</th>\n",
              "      <td>-570</td>\n",
              "      <td>-1</td>\n",
              "      <td>0</td>\n",
              "      <td>-564</td>\n",
              "      <td>NaN</td>\n",
              "      <td>NaN</td>\n",
              "      <td>NaN</td>\n",
              "      <td>NaN</td>\n",
              "      <td>NaN</td>\n",
              "      <td>NaN</td>\n",
              "      <td>NaN</td>\n",
              "    </tr>\n",
              "    <tr>\n",
              "      <th>studio</th>\n",
              "      <td>-570</td>\n",
              "      <td>0</td>\n",
              "      <td>0</td>\n",
              "      <td>-570</td>\n",
              "      <td>NaN</td>\n",
              "      <td>NaN</td>\n",
              "      <td>NaN</td>\n",
              "      <td>NaN</td>\n",
              "      <td>NaN</td>\n",
              "      <td>NaN</td>\n",
              "      <td>NaN</td>\n",
              "    </tr>\n",
              "    <tr>\n",
              "      <th>open_plan</th>\n",
              "      <td>-570</td>\n",
              "      <td>-1</td>\n",
              "      <td>0</td>\n",
              "      <td>-569</td>\n",
              "      <td>NaN</td>\n",
              "      <td>NaN</td>\n",
              "      <td>NaN</td>\n",
              "      <td>NaN</td>\n",
              "      <td>NaN</td>\n",
              "      <td>NaN</td>\n",
              "      <td>NaN</td>\n",
              "    </tr>\n",
              "    <tr>\n",
              "      <th>kitchen_area</th>\n",
              "      <td>-570.0</td>\n",
              "      <td>NaN</td>\n",
              "      <td>NaN</td>\n",
              "      <td>NaN</td>\n",
              "      <td>0.58</td>\n",
              "      <td>1.84</td>\n",
              "      <td>2.18</td>\n",
              "      <td>-0.1</td>\n",
              "      <td>-0.29</td>\n",
              "      <td>0.3</td>\n",
              "      <td>-24.2</td>\n",
              "    </tr>\n",
              "    <tr>\n",
              "      <th>balcony</th>\n",
              "      <td>-570.0</td>\n",
              "      <td>NaN</td>\n",
              "      <td>NaN</td>\n",
              "      <td>NaN</td>\n",
              "      <td>0.52</td>\n",
              "      <td>0.77</td>\n",
              "      <td>0.0</td>\n",
              "      <td>0.0</td>\n",
              "      <td>0.0</td>\n",
              "      <td>1.0</td>\n",
              "      <td>1.0</td>\n",
              "    </tr>\n",
              "    <tr>\n",
              "      <th>airports_nearest</th>\n",
              "      <td>-630.0</td>\n",
              "      <td>NaN</td>\n",
              "      <td>NaN</td>\n",
              "      <td>NaN</td>\n",
              "      <td>&lt;NA&gt;</td>\n",
              "      <td>&lt;NA&gt;</td>\n",
              "      <td>&lt;NA&gt;</td>\n",
              "      <td>&lt;NA&gt;</td>\n",
              "      <td>&lt;NA&gt;</td>\n",
              "      <td>&lt;NA&gt;</td>\n",
              "      <td>&lt;NA&gt;</td>\n",
              "    </tr>\n",
              "    <tr>\n",
              "      <th>city_centers_nearest</th>\n",
              "      <td>-630.0</td>\n",
              "      <td>NaN</td>\n",
              "      <td>NaN</td>\n",
              "      <td>NaN</td>\n",
              "      <td>&lt;NA&gt;</td>\n",
              "      <td>&lt;NA&gt;</td>\n",
              "      <td>&lt;NA&gt;</td>\n",
              "      <td>&lt;NA&gt;</td>\n",
              "      <td>&lt;NA&gt;</td>\n",
              "      <td>&lt;NA&gt;</td>\n",
              "      <td>&lt;NA&gt;</td>\n",
              "    </tr>\n",
              "    <tr>\n",
              "      <th>parks_around3000</th>\n",
              "      <td>-570.0</td>\n",
              "      <td>NaN</td>\n",
              "      <td>NaN</td>\n",
              "      <td>NaN</td>\n",
              "      <td>-1.62</td>\n",
              "      <td>-1.07</td>\n",
              "      <td>0.0</td>\n",
              "      <td>-1.0</td>\n",
              "      <td>-2.0</td>\n",
              "      <td>-3.0</td>\n",
              "      <td>-3.0</td>\n",
              "    </tr>\n",
              "    <tr>\n",
              "      <th>parks_nearest</th>\n",
              "      <td>-570.0</td>\n",
              "      <td>NaN</td>\n",
              "      <td>NaN</td>\n",
              "      <td>NaN</td>\n",
              "      <td>7742.54</td>\n",
              "      <td>-3801.31</td>\n",
              "      <td>9982.0</td>\n",
              "      <td>9705.0</td>\n",
              "      <td>9554.0</td>\n",
              "      <td>9313.25</td>\n",
              "      <td>0.0</td>\n",
              "    </tr>\n",
              "    <tr>\n",
              "      <th>ponds_around3000</th>\n",
              "      <td>-570.0</td>\n",
              "      <td>NaN</td>\n",
              "      <td>NaN</td>\n",
              "      <td>NaN</td>\n",
              "      <td>-2.18</td>\n",
              "      <td>-0.98</td>\n",
              "      <td>0.0</td>\n",
              "      <td>-1.0</td>\n",
              "      <td>-3.0</td>\n",
              "      <td>-3.0</td>\n",
              "      <td>-3.0</td>\n",
              "    </tr>\n",
              "    <tr>\n",
              "      <th>ponds_nearest</th>\n",
              "      <td>-570.0</td>\n",
              "      <td>NaN</td>\n",
              "      <td>NaN</td>\n",
              "      <td>NaN</td>\n",
              "      <td>8991.46</td>\n",
              "      <td>-2535.73</td>\n",
              "      <td>9978.0</td>\n",
              "      <td>9890.0</td>\n",
              "      <td>9735.0</td>\n",
              "      <td>9457.0</td>\n",
              "      <td>0.0</td>\n",
              "    </tr>\n",
              "    <tr>\n",
              "      <th>days_exposition</th>\n",
              "      <td>-570.0</td>\n",
              "      <td>NaN</td>\n",
              "      <td>NaN</td>\n",
              "      <td>NaN</td>\n",
              "      <td>-151.96</td>\n",
              "      <td>-136.99</td>\n",
              "      <td>-2.0</td>\n",
              "      <td>-39.5</td>\n",
              "      <td>-93.0</td>\n",
              "      <td>-267.0</td>\n",
              "      <td>-762.0</td>\n",
              "    </tr>\n",
              "  </tbody>\n",
              "</table>\n",
              "</div>\n",
              "      <button class=\"colab-df-convert\" onclick=\"convertToInteractive('df-04474755-b153-4088-9e1b-b0de2d1c2779')\"\n",
              "              title=\"Convert this dataframe to an interactive table.\"\n",
              "              style=\"display:none;\">\n",
              "        \n",
              "  <svg xmlns=\"http://www.w3.org/2000/svg\" height=\"24px\"viewBox=\"0 0 24 24\"\n",
              "       width=\"24px\">\n",
              "    <path d=\"M0 0h24v24H0V0z\" fill=\"none\"/>\n",
              "    <path d=\"M18.56 5.44l.94 2.06.94-2.06 2.06-.94-2.06-.94-.94-2.06-.94 2.06-2.06.94zm-11 1L8.5 8.5l.94-2.06 2.06-.94-2.06-.94L8.5 2.5l-.94 2.06-2.06.94zm10 10l.94 2.06.94-2.06 2.06-.94-2.06-.94-.94-2.06-.94 2.06-2.06.94z\"/><path d=\"M17.41 7.96l-1.37-1.37c-.4-.4-.92-.59-1.43-.59-.52 0-1.04.2-1.43.59L10.3 9.45l-7.72 7.72c-.78.78-.78 2.05 0 2.83L4 21.41c.39.39.9.59 1.41.59.51 0 1.02-.2 1.41-.59l7.78-7.78 2.81-2.81c.8-.78.8-2.07 0-2.86zM5.41 20L4 18.59l7.72-7.72 1.47 1.35L5.41 20z\"/>\n",
              "  </svg>\n",
              "      </button>\n",
              "      \n",
              "  <style>\n",
              "    .colab-df-container {\n",
              "      display:flex;\n",
              "      flex-wrap:wrap;\n",
              "      gap: 12px;\n",
              "    }\n",
              "\n",
              "    .colab-df-convert {\n",
              "      background-color: #E8F0FE;\n",
              "      border: none;\n",
              "      border-radius: 50%;\n",
              "      cursor: pointer;\n",
              "      display: none;\n",
              "      fill: #1967D2;\n",
              "      height: 32px;\n",
              "      padding: 0 0 0 0;\n",
              "      width: 32px;\n",
              "    }\n",
              "\n",
              "    .colab-df-convert:hover {\n",
              "      background-color: #E2EBFA;\n",
              "      box-shadow: 0px 1px 2px rgba(60, 64, 67, 0.3), 0px 1px 3px 1px rgba(60, 64, 67, 0.15);\n",
              "      fill: #174EA6;\n",
              "    }\n",
              "\n",
              "    [theme=dark] .colab-df-convert {\n",
              "      background-color: #3B4455;\n",
              "      fill: #D2E3FC;\n",
              "    }\n",
              "\n",
              "    [theme=dark] .colab-df-convert:hover {\n",
              "      background-color: #434B5C;\n",
              "      box-shadow: 0px 1px 3px 1px rgba(0, 0, 0, 0.15);\n",
              "      filter: drop-shadow(0px 1px 2px rgba(0, 0, 0, 0.3));\n",
              "      fill: #FFFFFF;\n",
              "    }\n",
              "  </style>\n",
              "\n",
              "      <script>\n",
              "        const buttonEl =\n",
              "          document.querySelector('#df-04474755-b153-4088-9e1b-b0de2d1c2779 button.colab-df-convert');\n",
              "        buttonEl.style.display =\n",
              "          google.colab.kernel.accessAllowed ? 'block' : 'none';\n",
              "\n",
              "        async function convertToInteractive(key) {\n",
              "          const element = document.querySelector('#df-04474755-b153-4088-9e1b-b0de2d1c2779');\n",
              "          const dataTable =\n",
              "            await google.colab.kernel.invokeFunction('convertToInteractive',\n",
              "                                                     [key], {});\n",
              "          if (!dataTable) return;\n",
              "\n",
              "          const docLinkHtml = 'Like what you see? Visit the ' +\n",
              "            '<a target=\"_blank\" href=https://colab.research.google.com/notebooks/data_table.ipynb>data table notebook</a>'\n",
              "            + ' to learn more about interactive tables.';\n",
              "          element.innerHTML = '';\n",
              "          dataTable['output_type'] = 'display_data';\n",
              "          await google.colab.output.renderOutput(dataTable, element);\n",
              "          const docLink = document.createElement('div');\n",
              "          docLink.innerHTML = docLinkHtml;\n",
              "          element.appendChild(docLink);\n",
              "        }\n",
              "      </script>\n",
              "    </div>\n",
              "  </div>\n",
              "  "
            ]
          },
          "metadata": {},
          "execution_count": 52
        }
      ]
    },
    {
      "cell_type": "markdown",
      "source": [
        "Стастистические характеристики показывают, что объекты у которых в СПБ не указано расстояние до центра могут считаться объектами НЕ в центре по следующим причинам:\n",
        "1. средняя и медиана цены меньше, чем у объектов в СПБ в центре\n",
        "2. общая и жилая площадь также меньше, соответственно, цена за м2 меньше, чем у объектов в центре\n",
        "3. этажность больше\n",
        "4. количество парков меньше, а удаленность от парков и водоемов больше. Учитывая, что в центре СПБ сплошные водоемы, данные объекты скорее находятся вдали от центра "
      ],
      "metadata": {
        "id": "QuNVWcnsT8Jt"
      }
    },
    {
      "cell_type": "code",
      "source": [
        "# заполняем пропуски штрафом 100 000 м\n",
        "df_raw.city_centers_nearest = df_raw.city_centers_nearest.fillna(100000)"
      ],
      "metadata": {
        "id": "6L7ui7NjUY8Y"
      },
      "execution_count": null,
      "outputs": []
    },
    {
      "cell_type": "markdown",
      "source": [
        "#### airports_nearest"
      ],
      "metadata": {
        "id": "5SLU0wJEbFh2"
      }
    },
    {
      "cell_type": "code",
      "source": [
        "df_raw.airports_nearest = df_raw.airports_nearest.fillna(0)"
      ],
      "metadata": {
        "id": "AY7nqys3bJeu"
      },
      "execution_count": null,
      "outputs": []
    },
    {
      "cell_type": "markdown",
      "source": [
        "#### ceiling_height анализируем пропуски"
      ],
      "metadata": {
        "id": "2EjHh8SIUzRf"
      }
    },
    {
      "cell_type": "code",
      "source": [
        "# оценим по разнице показателей описательной статистики набора данных, где ceiling_height не указан и где указан. Оценка нужна для того, чтобы оценить возможные потери данных, \n",
        "# при исколючении большого набора\n",
        "(df_raw[df_raw.ceiling_height.isna()].describe() - df_raw[~df_raw.ceiling_height.isna()].describe()).T"
      ],
      "metadata": {
        "colab": {
          "base_uri": "https://localhost:8080/",
          "height": 677
        },
        "id": "Sa-_Azl1S9PZ",
        "outputId": "a085940b-9f14-493d-a308-89c8562f608c"
      },
      "execution_count": null,
      "outputs": [
        {
          "output_type": "execute_result",
          "data": {
            "text/plain": [
              "                        count unique  top   freq       mean         std  \\\n",
              "total_images          -5423.0    NaN  NaN    NaN      -1.16        0.06   \n",
              "last_price            -5423.0    NaN  NaN    NaN -733199.95  1829769.58   \n",
              "total_area            -5423.0    NaN  NaN    NaN      -3.81       -3.65   \n",
              "rooms                 -5423.0    NaN  NaN    NaN      -0.16       -0.07   \n",
              "ceiling_height       -14395.0    NaN  NaN    NaN       <NA>        <NA>   \n",
              "floors_total          -5423.0    NaN  NaN    NaN       1.25         0.9   \n",
              "living_area           -5423.0    NaN  NaN    NaN      -3.02       -2.42   \n",
              "floor                 -5423.0    NaN  NaN    NaN       0.64         0.6   \n",
              "is_apartment            -5423      0    0  -5386        NaN         NaN   \n",
              "studio                  -5423      0    0  -5424        NaN         NaN   \n",
              "open_plan               -5423      0    0  -5421        NaN         NaN   \n",
              "kitchen_area          -5423.0    NaN  NaN    NaN      -0.12       -0.57   \n",
              "balcony               -5423.0    NaN  NaN    NaN      -0.23       -0.17   \n",
              "airports_nearest      -5423.0    NaN  NaN    NaN   -2231.04      601.44   \n",
              "city_centers_nearest  -5423.0    NaN  NaN    NaN    6852.23     3659.52   \n",
              "parks_around3000      -5423.0    NaN  NaN    NaN       -0.1       -0.08   \n",
              "parks_nearest         -5423.0    NaN  NaN    NaN     597.26     -221.91   \n",
              "ponds_around3000      -5423.0    NaN  NaN    NaN      -0.07       -0.05   \n",
              "ponds_nearest         -5423.0    NaN  NaN    NaN     274.74      -67.93   \n",
              "days_exposition       -5423.0    NaN  NaN    NaN     -22.35      -23.59   \n",
              "\n",
              "                           min       25%       50%       75%          max  \n",
              "total_images               0.0      -1.0      -1.0      -2.0          0.0  \n",
              "last_price            417810.0 -340000.0 -540000.0 -694500.0  343000000.0  \n",
              "total_area                 1.0     -2.23      -3.6      -4.8       -269.0  \n",
              "rooms                      0.0       0.0       0.0       0.0          3.0  \n",
              "ceiling_height            <NA>      <NA>      <NA>      <NA>         <NA>  \n",
              "floors_total               0.0       0.0       0.0       2.0        -24.0  \n",
              "living_area                1.0     -1.63     -1.41      -3.2       -51.82  \n",
              "floor                      0.0       0.0       1.0       2.0          3.0  \n",
              "is_apartment               NaN       NaN       NaN       NaN          NaN  \n",
              "studio                     NaN       NaN       NaN       NaN          NaN  \n",
              "open_plan                  NaN       NaN       NaN       NaN          NaN  \n",
              "kitchen_area               0.7       0.0      0.25       0.0         -5.0  \n",
              "balcony                    0.0       0.0       0.0       0.0          0.0  \n",
              "airports_nearest           0.0  -12034.0   -2556.5  -1486.75      -6342.0  \n",
              "city_centers_nearest     137.0     810.0    1350.0   68867.0          0.0  \n",
              "parks_around3000           0.0       0.0       0.0       0.0          0.0  \n",
              "parks_nearest             -2.0     143.0       0.0       0.0          0.0  \n",
              "ponds_around3000           0.0       0.0       0.0       0.0          0.0  \n",
              "ponds_nearest             -3.0      33.0       0.0       0.0          0.0  \n",
              "days_exposition            0.0       1.0     -11.0     -39.0         11.0  "
            ],
            "text/html": [
              "\n",
              "  <div id=\"df-b4ca4f50-f73f-4c31-9d55-3c9075eb2f9c\">\n",
              "    <div class=\"colab-df-container\">\n",
              "      <div>\n",
              "<style scoped>\n",
              "    .dataframe tbody tr th:only-of-type {\n",
              "        vertical-align: middle;\n",
              "    }\n",
              "\n",
              "    .dataframe tbody tr th {\n",
              "        vertical-align: top;\n",
              "    }\n",
              "\n",
              "    .dataframe thead th {\n",
              "        text-align: right;\n",
              "    }\n",
              "</style>\n",
              "<table border=\"1\" class=\"dataframe\">\n",
              "  <thead>\n",
              "    <tr style=\"text-align: right;\">\n",
              "      <th></th>\n",
              "      <th>count</th>\n",
              "      <th>unique</th>\n",
              "      <th>top</th>\n",
              "      <th>freq</th>\n",
              "      <th>mean</th>\n",
              "      <th>std</th>\n",
              "      <th>min</th>\n",
              "      <th>25%</th>\n",
              "      <th>50%</th>\n",
              "      <th>75%</th>\n",
              "      <th>max</th>\n",
              "    </tr>\n",
              "  </thead>\n",
              "  <tbody>\n",
              "    <tr>\n",
              "      <th>total_images</th>\n",
              "      <td>-5423.0</td>\n",
              "      <td>NaN</td>\n",
              "      <td>NaN</td>\n",
              "      <td>NaN</td>\n",
              "      <td>-1.16</td>\n",
              "      <td>0.06</td>\n",
              "      <td>0.0</td>\n",
              "      <td>-1.0</td>\n",
              "      <td>-1.0</td>\n",
              "      <td>-2.0</td>\n",
              "      <td>0.0</td>\n",
              "    </tr>\n",
              "    <tr>\n",
              "      <th>last_price</th>\n",
              "      <td>-5423.0</td>\n",
              "      <td>NaN</td>\n",
              "      <td>NaN</td>\n",
              "      <td>NaN</td>\n",
              "      <td>-733199.95</td>\n",
              "      <td>1829769.58</td>\n",
              "      <td>417810.0</td>\n",
              "      <td>-340000.0</td>\n",
              "      <td>-540000.0</td>\n",
              "      <td>-694500.0</td>\n",
              "      <td>343000000.0</td>\n",
              "    </tr>\n",
              "    <tr>\n",
              "      <th>total_area</th>\n",
              "      <td>-5423.0</td>\n",
              "      <td>NaN</td>\n",
              "      <td>NaN</td>\n",
              "      <td>NaN</td>\n",
              "      <td>-3.81</td>\n",
              "      <td>-3.65</td>\n",
              "      <td>1.0</td>\n",
              "      <td>-2.23</td>\n",
              "      <td>-3.6</td>\n",
              "      <td>-4.8</td>\n",
              "      <td>-269.0</td>\n",
              "    </tr>\n",
              "    <tr>\n",
              "      <th>rooms</th>\n",
              "      <td>-5423.0</td>\n",
              "      <td>NaN</td>\n",
              "      <td>NaN</td>\n",
              "      <td>NaN</td>\n",
              "      <td>-0.16</td>\n",
              "      <td>-0.07</td>\n",
              "      <td>0.0</td>\n",
              "      <td>0.0</td>\n",
              "      <td>0.0</td>\n",
              "      <td>0.0</td>\n",
              "      <td>3.0</td>\n",
              "    </tr>\n",
              "    <tr>\n",
              "      <th>ceiling_height</th>\n",
              "      <td>-14395.0</td>\n",
              "      <td>NaN</td>\n",
              "      <td>NaN</td>\n",
              "      <td>NaN</td>\n",
              "      <td>&lt;NA&gt;</td>\n",
              "      <td>&lt;NA&gt;</td>\n",
              "      <td>&lt;NA&gt;</td>\n",
              "      <td>&lt;NA&gt;</td>\n",
              "      <td>&lt;NA&gt;</td>\n",
              "      <td>&lt;NA&gt;</td>\n",
              "      <td>&lt;NA&gt;</td>\n",
              "    </tr>\n",
              "    <tr>\n",
              "      <th>floors_total</th>\n",
              "      <td>-5423.0</td>\n",
              "      <td>NaN</td>\n",
              "      <td>NaN</td>\n",
              "      <td>NaN</td>\n",
              "      <td>1.25</td>\n",
              "      <td>0.9</td>\n",
              "      <td>0.0</td>\n",
              "      <td>0.0</td>\n",
              "      <td>0.0</td>\n",
              "      <td>2.0</td>\n",
              "      <td>-24.0</td>\n",
              "    </tr>\n",
              "    <tr>\n",
              "      <th>living_area</th>\n",
              "      <td>-5423.0</td>\n",
              "      <td>NaN</td>\n",
              "      <td>NaN</td>\n",
              "      <td>NaN</td>\n",
              "      <td>-3.02</td>\n",
              "      <td>-2.42</td>\n",
              "      <td>1.0</td>\n",
              "      <td>-1.63</td>\n",
              "      <td>-1.41</td>\n",
              "      <td>-3.2</td>\n",
              "      <td>-51.82</td>\n",
              "    </tr>\n",
              "    <tr>\n",
              "      <th>floor</th>\n",
              "      <td>-5423.0</td>\n",
              "      <td>NaN</td>\n",
              "      <td>NaN</td>\n",
              "      <td>NaN</td>\n",
              "      <td>0.64</td>\n",
              "      <td>0.6</td>\n",
              "      <td>0.0</td>\n",
              "      <td>0.0</td>\n",
              "      <td>1.0</td>\n",
              "      <td>2.0</td>\n",
              "      <td>3.0</td>\n",
              "    </tr>\n",
              "    <tr>\n",
              "      <th>is_apartment</th>\n",
              "      <td>-5423</td>\n",
              "      <td>0</td>\n",
              "      <td>0</td>\n",
              "      <td>-5386</td>\n",
              "      <td>NaN</td>\n",
              "      <td>NaN</td>\n",
              "      <td>NaN</td>\n",
              "      <td>NaN</td>\n",
              "      <td>NaN</td>\n",
              "      <td>NaN</td>\n",
              "      <td>NaN</td>\n",
              "    </tr>\n",
              "    <tr>\n",
              "      <th>studio</th>\n",
              "      <td>-5423</td>\n",
              "      <td>0</td>\n",
              "      <td>0</td>\n",
              "      <td>-5424</td>\n",
              "      <td>NaN</td>\n",
              "      <td>NaN</td>\n",
              "      <td>NaN</td>\n",
              "      <td>NaN</td>\n",
              "      <td>NaN</td>\n",
              "      <td>NaN</td>\n",
              "      <td>NaN</td>\n",
              "    </tr>\n",
              "    <tr>\n",
              "      <th>open_plan</th>\n",
              "      <td>-5423</td>\n",
              "      <td>0</td>\n",
              "      <td>0</td>\n",
              "      <td>-5421</td>\n",
              "      <td>NaN</td>\n",
              "      <td>NaN</td>\n",
              "      <td>NaN</td>\n",
              "      <td>NaN</td>\n",
              "      <td>NaN</td>\n",
              "      <td>NaN</td>\n",
              "      <td>NaN</td>\n",
              "    </tr>\n",
              "    <tr>\n",
              "      <th>kitchen_area</th>\n",
              "      <td>-5423.0</td>\n",
              "      <td>NaN</td>\n",
              "      <td>NaN</td>\n",
              "      <td>NaN</td>\n",
              "      <td>-0.12</td>\n",
              "      <td>-0.57</td>\n",
              "      <td>0.7</td>\n",
              "      <td>0.0</td>\n",
              "      <td>0.25</td>\n",
              "      <td>0.0</td>\n",
              "      <td>-5.0</td>\n",
              "    </tr>\n",
              "    <tr>\n",
              "      <th>balcony</th>\n",
              "      <td>-5423.0</td>\n",
              "      <td>NaN</td>\n",
              "      <td>NaN</td>\n",
              "      <td>NaN</td>\n",
              "      <td>-0.23</td>\n",
              "      <td>-0.17</td>\n",
              "      <td>0.0</td>\n",
              "      <td>0.0</td>\n",
              "      <td>0.0</td>\n",
              "      <td>0.0</td>\n",
              "      <td>0.0</td>\n",
              "    </tr>\n",
              "    <tr>\n",
              "      <th>airports_nearest</th>\n",
              "      <td>-5423.0</td>\n",
              "      <td>NaN</td>\n",
              "      <td>NaN</td>\n",
              "      <td>NaN</td>\n",
              "      <td>-2231.04</td>\n",
              "      <td>601.44</td>\n",
              "      <td>0.0</td>\n",
              "      <td>-12034.0</td>\n",
              "      <td>-2556.5</td>\n",
              "      <td>-1486.75</td>\n",
              "      <td>-6342.0</td>\n",
              "    </tr>\n",
              "    <tr>\n",
              "      <th>city_centers_nearest</th>\n",
              "      <td>-5423.0</td>\n",
              "      <td>NaN</td>\n",
              "      <td>NaN</td>\n",
              "      <td>NaN</td>\n",
              "      <td>6852.23</td>\n",
              "      <td>3659.52</td>\n",
              "      <td>137.0</td>\n",
              "      <td>810.0</td>\n",
              "      <td>1350.0</td>\n",
              "      <td>68867.0</td>\n",
              "      <td>0.0</td>\n",
              "    </tr>\n",
              "    <tr>\n",
              "      <th>parks_around3000</th>\n",
              "      <td>-5423.0</td>\n",
              "      <td>NaN</td>\n",
              "      <td>NaN</td>\n",
              "      <td>NaN</td>\n",
              "      <td>-0.1</td>\n",
              "      <td>-0.08</td>\n",
              "      <td>0.0</td>\n",
              "      <td>0.0</td>\n",
              "      <td>0.0</td>\n",
              "      <td>0.0</td>\n",
              "      <td>0.0</td>\n",
              "    </tr>\n",
              "    <tr>\n",
              "      <th>parks_nearest</th>\n",
              "      <td>-5423.0</td>\n",
              "      <td>NaN</td>\n",
              "      <td>NaN</td>\n",
              "      <td>NaN</td>\n",
              "      <td>597.26</td>\n",
              "      <td>-221.91</td>\n",
              "      <td>-2.0</td>\n",
              "      <td>143.0</td>\n",
              "      <td>0.0</td>\n",
              "      <td>0.0</td>\n",
              "      <td>0.0</td>\n",
              "    </tr>\n",
              "    <tr>\n",
              "      <th>ponds_around3000</th>\n",
              "      <td>-5423.0</td>\n",
              "      <td>NaN</td>\n",
              "      <td>NaN</td>\n",
              "      <td>NaN</td>\n",
              "      <td>-0.07</td>\n",
              "      <td>-0.05</td>\n",
              "      <td>0.0</td>\n",
              "      <td>0.0</td>\n",
              "      <td>0.0</td>\n",
              "      <td>0.0</td>\n",
              "      <td>0.0</td>\n",
              "    </tr>\n",
              "    <tr>\n",
              "      <th>ponds_nearest</th>\n",
              "      <td>-5423.0</td>\n",
              "      <td>NaN</td>\n",
              "      <td>NaN</td>\n",
              "      <td>NaN</td>\n",
              "      <td>274.74</td>\n",
              "      <td>-67.93</td>\n",
              "      <td>-3.0</td>\n",
              "      <td>33.0</td>\n",
              "      <td>0.0</td>\n",
              "      <td>0.0</td>\n",
              "      <td>0.0</td>\n",
              "    </tr>\n",
              "    <tr>\n",
              "      <th>days_exposition</th>\n",
              "      <td>-5423.0</td>\n",
              "      <td>NaN</td>\n",
              "      <td>NaN</td>\n",
              "      <td>NaN</td>\n",
              "      <td>-22.35</td>\n",
              "      <td>-23.59</td>\n",
              "      <td>0.0</td>\n",
              "      <td>1.0</td>\n",
              "      <td>-11.0</td>\n",
              "      <td>-39.0</td>\n",
              "      <td>11.0</td>\n",
              "    </tr>\n",
              "  </tbody>\n",
              "</table>\n",
              "</div>\n",
              "      <button class=\"colab-df-convert\" onclick=\"convertToInteractive('df-b4ca4f50-f73f-4c31-9d55-3c9075eb2f9c')\"\n",
              "              title=\"Convert this dataframe to an interactive table.\"\n",
              "              style=\"display:none;\">\n",
              "        \n",
              "  <svg xmlns=\"http://www.w3.org/2000/svg\" height=\"24px\"viewBox=\"0 0 24 24\"\n",
              "       width=\"24px\">\n",
              "    <path d=\"M0 0h24v24H0V0z\" fill=\"none\"/>\n",
              "    <path d=\"M18.56 5.44l.94 2.06.94-2.06 2.06-.94-2.06-.94-.94-2.06-.94 2.06-2.06.94zm-11 1L8.5 8.5l.94-2.06 2.06-.94-2.06-.94L8.5 2.5l-.94 2.06-2.06.94zm10 10l.94 2.06.94-2.06 2.06-.94-2.06-.94-.94-2.06-.94 2.06-2.06.94z\"/><path d=\"M17.41 7.96l-1.37-1.37c-.4-.4-.92-.59-1.43-.59-.52 0-1.04.2-1.43.59L10.3 9.45l-7.72 7.72c-.78.78-.78 2.05 0 2.83L4 21.41c.39.39.9.59 1.41.59.51 0 1.02-.2 1.41-.59l7.78-7.78 2.81-2.81c.8-.78.8-2.07 0-2.86zM5.41 20L4 18.59l7.72-7.72 1.47 1.35L5.41 20z\"/>\n",
              "  </svg>\n",
              "      </button>\n",
              "      \n",
              "  <style>\n",
              "    .colab-df-container {\n",
              "      display:flex;\n",
              "      flex-wrap:wrap;\n",
              "      gap: 12px;\n",
              "    }\n",
              "\n",
              "    .colab-df-convert {\n",
              "      background-color: #E8F0FE;\n",
              "      border: none;\n",
              "      border-radius: 50%;\n",
              "      cursor: pointer;\n",
              "      display: none;\n",
              "      fill: #1967D2;\n",
              "      height: 32px;\n",
              "      padding: 0 0 0 0;\n",
              "      width: 32px;\n",
              "    }\n",
              "\n",
              "    .colab-df-convert:hover {\n",
              "      background-color: #E2EBFA;\n",
              "      box-shadow: 0px 1px 2px rgba(60, 64, 67, 0.3), 0px 1px 3px 1px rgba(60, 64, 67, 0.15);\n",
              "      fill: #174EA6;\n",
              "    }\n",
              "\n",
              "    [theme=dark] .colab-df-convert {\n",
              "      background-color: #3B4455;\n",
              "      fill: #D2E3FC;\n",
              "    }\n",
              "\n",
              "    [theme=dark] .colab-df-convert:hover {\n",
              "      background-color: #434B5C;\n",
              "      box-shadow: 0px 1px 3px 1px rgba(0, 0, 0, 0.15);\n",
              "      filter: drop-shadow(0px 1px 2px rgba(0, 0, 0, 0.3));\n",
              "      fill: #FFFFFF;\n",
              "    }\n",
              "  </style>\n",
              "\n",
              "      <script>\n",
              "        const buttonEl =\n",
              "          document.querySelector('#df-b4ca4f50-f73f-4c31-9d55-3c9075eb2f9c button.colab-df-convert');\n",
              "        buttonEl.style.display =\n",
              "          google.colab.kernel.accessAllowed ? 'block' : 'none';\n",
              "\n",
              "        async function convertToInteractive(key) {\n",
              "          const element = document.querySelector('#df-b4ca4f50-f73f-4c31-9d55-3c9075eb2f9c');\n",
              "          const dataTable =\n",
              "            await google.colab.kernel.invokeFunction('convertToInteractive',\n",
              "                                                     [key], {});\n",
              "          if (!dataTable) return;\n",
              "\n",
              "          const docLinkHtml = 'Like what you see? Visit the ' +\n",
              "            '<a target=\"_blank\" href=https://colab.research.google.com/notebooks/data_table.ipynb>data table notebook</a>'\n",
              "            + ' to learn more about interactive tables.';\n",
              "          element.innerHTML = '';\n",
              "          dataTable['output_type'] = 'display_data';\n",
              "          await google.colab.output.renderOutput(dataTable, element);\n",
              "          const docLink = document.createElement('div');\n",
              "          docLink.innerHTML = docLinkHtml;\n",
              "          element.appendChild(docLink);\n",
              "        }\n",
              "      </script>\n",
              "    </div>\n",
              "  </div>\n",
              "  "
            ]
          },
          "metadata": {},
          "execution_count": 55
        }
      ]
    },
    {
      "cell_type": "markdown",
      "source": [
        "видим, что набор данных, где высота потолков не указана отличается от набора, где указана в следующих показателях\n",
        "1. последняя цена - набор данных без высоты потолков дешевле в среднем на 500 тыс. руб.\n",
        "2. общая площадь у набора без высоты потолков меньше на 3.8 м2\n",
        "3. жилая площадь меньше на 1.5 в медане и 3.8 в среднем\n",
        "4. близость к аэропорту на 190 м ближе\n",
        "5. близость к центру на 309 м дальше\n",
        "\n",
        "В целом, я не считаю, что потери при исключении набора записей без высоты потолков существенны, тем не менее, я сформирую новый датасет где показатель высота потолка не будет иметь пропусков, чтобы там, где он существенный, использовать его, а во всех остальных случаях продолжать использовать датасет исходный"
      ],
      "metadata": {
        "id": "aQ7YxG0NOYod"
      }
    },
    {
      "cell_type": "code",
      "source": [
        "df_ceiling_notna = df_raw[~df_raw.ceiling_height.isna()]\n",
        "df_ceiling_notna.info()"
      ],
      "metadata": {
        "colab": {
          "base_uri": "https://localhost:8080/"
        },
        "id": "YLibbjwhQgkx",
        "outputId": "9dd32a5a-afe0-468c-d8a5-bfa5f91e0c73"
      },
      "execution_count": null,
      "outputs": [
        {
          "output_type": "stream",
          "name": "stdout",
          "text": [
            "<class 'pandas.core.frame.DataFrame'>\n",
            "Int64Index: 14395 entries, 0 to 23698\n",
            "Data columns (total 22 columns):\n",
            " #   Column                Non-Null Count  Dtype         \n",
            "---  ------                --------------  -----         \n",
            " 0   total_images          14395 non-null  Int64         \n",
            " 1   last_price            14395 non-null  Int64         \n",
            " 2   total_area            14395 non-null  Float64       \n",
            " 3   first_day_exposition  14395 non-null  datetime64[ns]\n",
            " 4   rooms                 14395 non-null  Int64         \n",
            " 5   ceiling_height        14395 non-null  Float64       \n",
            " 6   floors_total          14395 non-null  Int64         \n",
            " 7   living_area           14395 non-null  float64       \n",
            " 8   floor                 14395 non-null  Int64         \n",
            " 9   is_apartment          14395 non-null  boolean       \n",
            " 10  studio                14395 non-null  boolean       \n",
            " 11  open_plan             14395 non-null  boolean       \n",
            " 12  kitchen_area          14395 non-null  float64       \n",
            " 13  balcony               14395 non-null  Int64         \n",
            " 14  locality_name         14395 non-null  string        \n",
            " 15  airports_nearest      14395 non-null  Int64         \n",
            " 16  city_centers_nearest  14395 non-null  Int64         \n",
            " 17  parks_around3000      14395 non-null  Int64         \n",
            " 18  parks_nearest         14395 non-null  Int64         \n",
            " 19  ponds_around3000      14395 non-null  Int64         \n",
            " 20  ponds_nearest         14395 non-null  Int64         \n",
            " 21  days_exposition       14395 non-null  int64         \n",
            "dtypes: Float64(2), Int64(12), boolean(3), datetime64[ns](1), float64(2), int64(1), string(1)\n",
            "memory usage: 2.5 MB\n"
          ]
        }
      ]
    },
    {
      "cell_type": "markdown",
      "source": [
        "#### итоговый отчет по данным таблицы"
      ],
      "metadata": {
        "id": "hVl2nULca02E"
      }
    },
    {
      "cell_type": "code",
      "source": [
        "df_raw.info()"
      ],
      "metadata": {
        "colab": {
          "base_uri": "https://localhost:8080/"
        },
        "id": "pp1aRtRHXnxn",
        "outputId": "9d701559-eb18-4252-9789-2133758cc54b"
      },
      "execution_count": null,
      "outputs": [
        {
          "output_type": "stream",
          "name": "stdout",
          "text": [
            "<class 'pandas.core.frame.DataFrame'>\n",
            "Int64Index: 23367 entries, 0 to 23698\n",
            "Data columns (total 22 columns):\n",
            " #   Column                Non-Null Count  Dtype         \n",
            "---  ------                --------------  -----         \n",
            " 0   total_images          23367 non-null  Int64         \n",
            " 1   last_price            23367 non-null  Int64         \n",
            " 2   total_area            23367 non-null  Float64       \n",
            " 3   first_day_exposition  23367 non-null  datetime64[ns]\n",
            " 4   rooms                 23367 non-null  Int64         \n",
            " 5   ceiling_height        14395 non-null  Float64       \n",
            " 6   floors_total          23367 non-null  Int64         \n",
            " 7   living_area           23367 non-null  float64       \n",
            " 8   floor                 23367 non-null  Int64         \n",
            " 9   is_apartment          23367 non-null  boolean       \n",
            " 10  studio                23367 non-null  boolean       \n",
            " 11  open_plan             23367 non-null  boolean       \n",
            " 12  kitchen_area          23367 non-null  float64       \n",
            " 13  balcony               23367 non-null  Int64         \n",
            " 14  locality_name         23367 non-null  string        \n",
            " 15  airports_nearest      23367 non-null  Int64         \n",
            " 16  city_centers_nearest  23367 non-null  Int64         \n",
            " 17  parks_around3000      23367 non-null  Int64         \n",
            " 18  parks_nearest         23367 non-null  Int64         \n",
            " 19  ponds_around3000      23367 non-null  Int64         \n",
            " 20  ponds_nearest         23367 non-null  Int64         \n",
            " 21  days_exposition       23367 non-null  int64         \n",
            "dtypes: Float64(2), Int64(12), boolean(3), datetime64[ns](1), float64(2), int64(1), string(1)\n",
            "memory usage: 4.0 MB\n"
          ]
        }
      ]
    },
    {
      "cell_type": "markdown",
      "source": [
        "### Шаг 3. Посчитайте и добавьте в таблицу: цену квадратного метра; день недели, месяц и год публикации объявления; этаж квартиры; варианты — первый, последний, другой; соотношение жилой и общей площади, а также отношение площади кухни к общей."
      ],
      "metadata": {
        "id": "rQsb0ai_wDmK"
      }
    },
    {
      "cell_type": "code",
      "source": [
        "df_raw['price_per_m'] = df_raw.total_area / df_raw.rooms"
      ],
      "metadata": {
        "id": "yNTV00Szv5n4"
      },
      "execution_count": null,
      "outputs": []
    },
    {
      "cell_type": "code",
      "source": [
        "df_raw['day_of_week'] = df_raw.first_day_exposition.dt.day_of_week"
      ],
      "metadata": {
        "id": "S57bRE0rv7Fx"
      },
      "execution_count": null,
      "outputs": []
    },
    {
      "cell_type": "code",
      "source": [
        "df_raw['month'] = df_raw.first_day_exposition.dt.month"
      ],
      "metadata": {
        "id": "Q6TvF6hNYWta"
      },
      "execution_count": null,
      "outputs": []
    },
    {
      "cell_type": "code",
      "source": [
        "df_raw['year'] = df_raw.first_day_exposition.dt.year"
      ],
      "metadata": {
        "id": "GwKNThP2Ygxf"
      },
      "execution_count": null,
      "outputs": []
    },
    {
      "cell_type": "code",
      "source": [
        "df_raw[['price_per_m', 'day_of_week', 'month', 'year']].describe()"
      ],
      "metadata": {
        "colab": {
          "base_uri": "https://localhost:8080/",
          "height": 300
        },
        "id": "L3Py4bbV6EKL",
        "outputId": "90d29170-bbb9-472f-f384-a87634c4f76a"
      },
      "execution_count": null,
      "outputs": [
        {
          "output_type": "execute_result",
          "data": {
            "text/plain": [
              "       price_per_m  day_of_week     month      year\n",
              "count     23367.00     23367.00  23367.00  23367.00\n",
              "mean         30.81         2.57      6.40   2017.37\n",
              "std           9.75         1.79      3.49      1.04\n",
              "min           8.00         0.00      1.00   2014.00\n",
              "25%          23.70         1.00      3.00   2017.00\n",
              "50%          30.00         3.00      6.00   2017.00\n",
              "75%          36.00         4.00     10.00   2018.00\n",
              "max         494.10         6.00     12.00   2019.00"
            ],
            "text/html": [
              "\n",
              "  <div id=\"df-dce607bf-ae3b-4e3d-bc57-fce361438439\">\n",
              "    <div class=\"colab-df-container\">\n",
              "      <div>\n",
              "<style scoped>\n",
              "    .dataframe tbody tr th:only-of-type {\n",
              "        vertical-align: middle;\n",
              "    }\n",
              "\n",
              "    .dataframe tbody tr th {\n",
              "        vertical-align: top;\n",
              "    }\n",
              "\n",
              "    .dataframe thead th {\n",
              "        text-align: right;\n",
              "    }\n",
              "</style>\n",
              "<table border=\"1\" class=\"dataframe\">\n",
              "  <thead>\n",
              "    <tr style=\"text-align: right;\">\n",
              "      <th></th>\n",
              "      <th>price_per_m</th>\n",
              "      <th>day_of_week</th>\n",
              "      <th>month</th>\n",
              "      <th>year</th>\n",
              "    </tr>\n",
              "  </thead>\n",
              "  <tbody>\n",
              "    <tr>\n",
              "      <th>count</th>\n",
              "      <td>23367.00</td>\n",
              "      <td>23367.00</td>\n",
              "      <td>23367.00</td>\n",
              "      <td>23367.00</td>\n",
              "    </tr>\n",
              "    <tr>\n",
              "      <th>mean</th>\n",
              "      <td>30.81</td>\n",
              "      <td>2.57</td>\n",
              "      <td>6.40</td>\n",
              "      <td>2017.37</td>\n",
              "    </tr>\n",
              "    <tr>\n",
              "      <th>std</th>\n",
              "      <td>9.75</td>\n",
              "      <td>1.79</td>\n",
              "      <td>3.49</td>\n",
              "      <td>1.04</td>\n",
              "    </tr>\n",
              "    <tr>\n",
              "      <th>min</th>\n",
              "      <td>8.00</td>\n",
              "      <td>0.00</td>\n",
              "      <td>1.00</td>\n",
              "      <td>2014.00</td>\n",
              "    </tr>\n",
              "    <tr>\n",
              "      <th>25%</th>\n",
              "      <td>23.70</td>\n",
              "      <td>1.00</td>\n",
              "      <td>3.00</td>\n",
              "      <td>2017.00</td>\n",
              "    </tr>\n",
              "    <tr>\n",
              "      <th>50%</th>\n",
              "      <td>30.00</td>\n",
              "      <td>3.00</td>\n",
              "      <td>6.00</td>\n",
              "      <td>2017.00</td>\n",
              "    </tr>\n",
              "    <tr>\n",
              "      <th>75%</th>\n",
              "      <td>36.00</td>\n",
              "      <td>4.00</td>\n",
              "      <td>10.00</td>\n",
              "      <td>2018.00</td>\n",
              "    </tr>\n",
              "    <tr>\n",
              "      <th>max</th>\n",
              "      <td>494.10</td>\n",
              "      <td>6.00</td>\n",
              "      <td>12.00</td>\n",
              "      <td>2019.00</td>\n",
              "    </tr>\n",
              "  </tbody>\n",
              "</table>\n",
              "</div>\n",
              "      <button class=\"colab-df-convert\" onclick=\"convertToInteractive('df-dce607bf-ae3b-4e3d-bc57-fce361438439')\"\n",
              "              title=\"Convert this dataframe to an interactive table.\"\n",
              "              style=\"display:none;\">\n",
              "        \n",
              "  <svg xmlns=\"http://www.w3.org/2000/svg\" height=\"24px\"viewBox=\"0 0 24 24\"\n",
              "       width=\"24px\">\n",
              "    <path d=\"M0 0h24v24H0V0z\" fill=\"none\"/>\n",
              "    <path d=\"M18.56 5.44l.94 2.06.94-2.06 2.06-.94-2.06-.94-.94-2.06-.94 2.06-2.06.94zm-11 1L8.5 8.5l.94-2.06 2.06-.94-2.06-.94L8.5 2.5l-.94 2.06-2.06.94zm10 10l.94 2.06.94-2.06 2.06-.94-2.06-.94-.94-2.06-.94 2.06-2.06.94z\"/><path d=\"M17.41 7.96l-1.37-1.37c-.4-.4-.92-.59-1.43-.59-.52 0-1.04.2-1.43.59L10.3 9.45l-7.72 7.72c-.78.78-.78 2.05 0 2.83L4 21.41c.39.39.9.59 1.41.59.51 0 1.02-.2 1.41-.59l7.78-7.78 2.81-2.81c.8-.78.8-2.07 0-2.86zM5.41 20L4 18.59l7.72-7.72 1.47 1.35L5.41 20z\"/>\n",
              "  </svg>\n",
              "      </button>\n",
              "      \n",
              "  <style>\n",
              "    .colab-df-container {\n",
              "      display:flex;\n",
              "      flex-wrap:wrap;\n",
              "      gap: 12px;\n",
              "    }\n",
              "\n",
              "    .colab-df-convert {\n",
              "      background-color: #E8F0FE;\n",
              "      border: none;\n",
              "      border-radius: 50%;\n",
              "      cursor: pointer;\n",
              "      display: none;\n",
              "      fill: #1967D2;\n",
              "      height: 32px;\n",
              "      padding: 0 0 0 0;\n",
              "      width: 32px;\n",
              "    }\n",
              "\n",
              "    .colab-df-convert:hover {\n",
              "      background-color: #E2EBFA;\n",
              "      box-shadow: 0px 1px 2px rgba(60, 64, 67, 0.3), 0px 1px 3px 1px rgba(60, 64, 67, 0.15);\n",
              "      fill: #174EA6;\n",
              "    }\n",
              "\n",
              "    [theme=dark] .colab-df-convert {\n",
              "      background-color: #3B4455;\n",
              "      fill: #D2E3FC;\n",
              "    }\n",
              "\n",
              "    [theme=dark] .colab-df-convert:hover {\n",
              "      background-color: #434B5C;\n",
              "      box-shadow: 0px 1px 3px 1px rgba(0, 0, 0, 0.15);\n",
              "      filter: drop-shadow(0px 1px 2px rgba(0, 0, 0, 0.3));\n",
              "      fill: #FFFFFF;\n",
              "    }\n",
              "  </style>\n",
              "\n",
              "      <script>\n",
              "        const buttonEl =\n",
              "          document.querySelector('#df-dce607bf-ae3b-4e3d-bc57-fce361438439 button.colab-df-convert');\n",
              "        buttonEl.style.display =\n",
              "          google.colab.kernel.accessAllowed ? 'block' : 'none';\n",
              "\n",
              "        async function convertToInteractive(key) {\n",
              "          const element = document.querySelector('#df-dce607bf-ae3b-4e3d-bc57-fce361438439');\n",
              "          const dataTable =\n",
              "            await google.colab.kernel.invokeFunction('convertToInteractive',\n",
              "                                                     [key], {});\n",
              "          if (!dataTable) return;\n",
              "\n",
              "          const docLinkHtml = 'Like what you see? Visit the ' +\n",
              "            '<a target=\"_blank\" href=https://colab.research.google.com/notebooks/data_table.ipynb>data table notebook</a>'\n",
              "            + ' to learn more about interactive tables.';\n",
              "          element.innerHTML = '';\n",
              "          dataTable['output_type'] = 'display_data';\n",
              "          await google.colab.output.renderOutput(dataTable, element);\n",
              "          const docLink = document.createElement('div');\n",
              "          docLink.innerHTML = docLinkHtml;\n",
              "          element.appendChild(docLink);\n",
              "        }\n",
              "      </script>\n",
              "    </div>\n",
              "  </div>\n",
              "  "
            ]
          },
          "metadata": {},
          "execution_count": 62
        }
      ]
    },
    {
      "cell_type": "markdown",
      "source": [
        "Сформируем показатель floor_category, который будет принимать значение 1 - первый этаж, 2 - последний этаж, 3 - прочие этажи"
      ],
      "metadata": {
        "id": "OmskFTgAXEHN"
      }
    },
    {
      "cell_type": "code",
      "source": [
        "def categorize_floor(row):\n",
        "  if row.floor == row.floors_total:\n",
        "    return 2\n",
        "  elif row.floor == 1:\n",
        "    return 1\n",
        "  return 3"
      ],
      "metadata": {
        "id": "Fp-7Kb63MF21"
      },
      "execution_count": null,
      "outputs": []
    },
    {
      "cell_type": "code",
      "source": [
        "df_raw['floor_category'] = df_raw.apply (lambda row: categorize_floor(row), axis=1)"
      ],
      "metadata": {
        "id": "oj6gaa8UJp-b"
      },
      "execution_count": null,
      "outputs": []
    },
    {
      "cell_type": "code",
      "source": [
        "df_raw[['floor', 'floors_total', 'floor_category']]"
      ],
      "metadata": {
        "colab": {
          "base_uri": "https://localhost:8080/",
          "height": 424
        },
        "id": "vsyVekTeUv7s",
        "outputId": "e2f10d34-e954-4d2a-ff70-56e3cbac6d92"
      },
      "execution_count": null,
      "outputs": [
        {
          "output_type": "execute_result",
          "data": {
            "text/plain": [
              "       floor  floors_total  floor_category\n",
              "0          8            16               3\n",
              "1          1            11               1\n",
              "2          4             5               3\n",
              "3          9            14               3\n",
              "4         13            14               3\n",
              "...      ...           ...             ...\n",
              "23694      3             5               3\n",
              "23695      4             5               3\n",
              "23696      1             3               1\n",
              "23697     12            17               3\n",
              "23698      1             5               1\n",
              "\n",
              "[23367 rows x 3 columns]"
            ],
            "text/html": [
              "\n",
              "  <div id=\"df-23275d7a-09d8-4634-9a34-253da98052bc\">\n",
              "    <div class=\"colab-df-container\">\n",
              "      <div>\n",
              "<style scoped>\n",
              "    .dataframe tbody tr th:only-of-type {\n",
              "        vertical-align: middle;\n",
              "    }\n",
              "\n",
              "    .dataframe tbody tr th {\n",
              "        vertical-align: top;\n",
              "    }\n",
              "\n",
              "    .dataframe thead th {\n",
              "        text-align: right;\n",
              "    }\n",
              "</style>\n",
              "<table border=\"1\" class=\"dataframe\">\n",
              "  <thead>\n",
              "    <tr style=\"text-align: right;\">\n",
              "      <th></th>\n",
              "      <th>floor</th>\n",
              "      <th>floors_total</th>\n",
              "      <th>floor_category</th>\n",
              "    </tr>\n",
              "  </thead>\n",
              "  <tbody>\n",
              "    <tr>\n",
              "      <th>0</th>\n",
              "      <td>8</td>\n",
              "      <td>16</td>\n",
              "      <td>3</td>\n",
              "    </tr>\n",
              "    <tr>\n",
              "      <th>1</th>\n",
              "      <td>1</td>\n",
              "      <td>11</td>\n",
              "      <td>1</td>\n",
              "    </tr>\n",
              "    <tr>\n",
              "      <th>2</th>\n",
              "      <td>4</td>\n",
              "      <td>5</td>\n",
              "      <td>3</td>\n",
              "    </tr>\n",
              "    <tr>\n",
              "      <th>3</th>\n",
              "      <td>9</td>\n",
              "      <td>14</td>\n",
              "      <td>3</td>\n",
              "    </tr>\n",
              "    <tr>\n",
              "      <th>4</th>\n",
              "      <td>13</td>\n",
              "      <td>14</td>\n",
              "      <td>3</td>\n",
              "    </tr>\n",
              "    <tr>\n",
              "      <th>...</th>\n",
              "      <td>...</td>\n",
              "      <td>...</td>\n",
              "      <td>...</td>\n",
              "    </tr>\n",
              "    <tr>\n",
              "      <th>23694</th>\n",
              "      <td>3</td>\n",
              "      <td>5</td>\n",
              "      <td>3</td>\n",
              "    </tr>\n",
              "    <tr>\n",
              "      <th>23695</th>\n",
              "      <td>4</td>\n",
              "      <td>5</td>\n",
              "      <td>3</td>\n",
              "    </tr>\n",
              "    <tr>\n",
              "      <th>23696</th>\n",
              "      <td>1</td>\n",
              "      <td>3</td>\n",
              "      <td>1</td>\n",
              "    </tr>\n",
              "    <tr>\n",
              "      <th>23697</th>\n",
              "      <td>12</td>\n",
              "      <td>17</td>\n",
              "      <td>3</td>\n",
              "    </tr>\n",
              "    <tr>\n",
              "      <th>23698</th>\n",
              "      <td>1</td>\n",
              "      <td>5</td>\n",
              "      <td>1</td>\n",
              "    </tr>\n",
              "  </tbody>\n",
              "</table>\n",
              "<p>23367 rows × 3 columns</p>\n",
              "</div>\n",
              "      <button class=\"colab-df-convert\" onclick=\"convertToInteractive('df-23275d7a-09d8-4634-9a34-253da98052bc')\"\n",
              "              title=\"Convert this dataframe to an interactive table.\"\n",
              "              style=\"display:none;\">\n",
              "        \n",
              "  <svg xmlns=\"http://www.w3.org/2000/svg\" height=\"24px\"viewBox=\"0 0 24 24\"\n",
              "       width=\"24px\">\n",
              "    <path d=\"M0 0h24v24H0V0z\" fill=\"none\"/>\n",
              "    <path d=\"M18.56 5.44l.94 2.06.94-2.06 2.06-.94-2.06-.94-.94-2.06-.94 2.06-2.06.94zm-11 1L8.5 8.5l.94-2.06 2.06-.94-2.06-.94L8.5 2.5l-.94 2.06-2.06.94zm10 10l.94 2.06.94-2.06 2.06-.94-2.06-.94-.94-2.06-.94 2.06-2.06.94z\"/><path d=\"M17.41 7.96l-1.37-1.37c-.4-.4-.92-.59-1.43-.59-.52 0-1.04.2-1.43.59L10.3 9.45l-7.72 7.72c-.78.78-.78 2.05 0 2.83L4 21.41c.39.39.9.59 1.41.59.51 0 1.02-.2 1.41-.59l7.78-7.78 2.81-2.81c.8-.78.8-2.07 0-2.86zM5.41 20L4 18.59l7.72-7.72 1.47 1.35L5.41 20z\"/>\n",
              "  </svg>\n",
              "      </button>\n",
              "      \n",
              "  <style>\n",
              "    .colab-df-container {\n",
              "      display:flex;\n",
              "      flex-wrap:wrap;\n",
              "      gap: 12px;\n",
              "    }\n",
              "\n",
              "    .colab-df-convert {\n",
              "      background-color: #E8F0FE;\n",
              "      border: none;\n",
              "      border-radius: 50%;\n",
              "      cursor: pointer;\n",
              "      display: none;\n",
              "      fill: #1967D2;\n",
              "      height: 32px;\n",
              "      padding: 0 0 0 0;\n",
              "      width: 32px;\n",
              "    }\n",
              "\n",
              "    .colab-df-convert:hover {\n",
              "      background-color: #E2EBFA;\n",
              "      box-shadow: 0px 1px 2px rgba(60, 64, 67, 0.3), 0px 1px 3px 1px rgba(60, 64, 67, 0.15);\n",
              "      fill: #174EA6;\n",
              "    }\n",
              "\n",
              "    [theme=dark] .colab-df-convert {\n",
              "      background-color: #3B4455;\n",
              "      fill: #D2E3FC;\n",
              "    }\n",
              "\n",
              "    [theme=dark] .colab-df-convert:hover {\n",
              "      background-color: #434B5C;\n",
              "      box-shadow: 0px 1px 3px 1px rgba(0, 0, 0, 0.15);\n",
              "      filter: drop-shadow(0px 1px 2px rgba(0, 0, 0, 0.3));\n",
              "      fill: #FFFFFF;\n",
              "    }\n",
              "  </style>\n",
              "\n",
              "      <script>\n",
              "        const buttonEl =\n",
              "          document.querySelector('#df-23275d7a-09d8-4634-9a34-253da98052bc button.colab-df-convert');\n",
              "        buttonEl.style.display =\n",
              "          google.colab.kernel.accessAllowed ? 'block' : 'none';\n",
              "\n",
              "        async function convertToInteractive(key) {\n",
              "          const element = document.querySelector('#df-23275d7a-09d8-4634-9a34-253da98052bc');\n",
              "          const dataTable =\n",
              "            await google.colab.kernel.invokeFunction('convertToInteractive',\n",
              "                                                     [key], {});\n",
              "          if (!dataTable) return;\n",
              "\n",
              "          const docLinkHtml = 'Like what you see? Visit the ' +\n",
              "            '<a target=\"_blank\" href=https://colab.research.google.com/notebooks/data_table.ipynb>data table notebook</a>'\n",
              "            + ' to learn more about interactive tables.';\n",
              "          element.innerHTML = '';\n",
              "          dataTable['output_type'] = 'display_data';\n",
              "          await google.colab.output.renderOutput(dataTable, element);\n",
              "          const docLink = document.createElement('div');\n",
              "          docLink.innerHTML = docLinkHtml;\n",
              "          element.appendChild(docLink);\n",
              "        }\n",
              "      </script>\n",
              "    </div>\n",
              "  </div>\n",
              "  "
            ]
          },
          "metadata": {},
          "execution_count": 65
        }
      ]
    },
    {
      "cell_type": "markdown",
      "source": [
        "Сформируем показатели liv_vs_total соотношение жилой и общей площади, а также kicth_vs_total отношение площади кухни к общей"
      ],
      "metadata": {
        "id": "aK8IB2q9XVGZ"
      }
    },
    {
      "cell_type": "code",
      "source": [
        "df_raw['liv_vs_total'] = df_raw.living_area / df_raw.total_area\n",
        "df_raw['kicth_vs_total'] = df_raw.kitchen_area / df_raw.total_area"
      ],
      "metadata": {
        "id": "KxEaYuQNXUeI"
      },
      "execution_count": null,
      "outputs": []
    },
    {
      "cell_type": "code",
      "source": [
        "df_raw[['living_area', 'kitchen_area', 'total_area', 'liv_vs_total', 'kicth_vs_total']]"
      ],
      "metadata": {
        "colab": {
          "base_uri": "https://localhost:8080/",
          "height": 424
        },
        "id": "2wBXYsRzX_XU",
        "outputId": "67e1d5b9-f451-4c67-a485-610376a3d264"
      },
      "execution_count": null,
      "outputs": [
        {
          "output_type": "execute_result",
          "data": {
            "text/plain": [
              "       living_area  kitchen_area  total_area  liv_vs_total  kicth_vs_total\n",
              "0            51.00         25.00       108.0          0.47            0.23\n",
              "1            18.60         11.00        40.4          0.46            0.27\n",
              "2            34.30          8.30        56.0          0.61            0.15\n",
              "3            90.18         27.40       159.0          0.57            0.17\n",
              "4            32.00         41.00       100.0          0.32            0.41\n",
              "...            ...           ...         ...           ...             ...\n",
              "23694        73.30         13.83      133.81          0.55             0.1\n",
              "23695        38.00          8.50        59.0          0.64            0.14\n",
              "23696        29.70          9.77        56.7          0.52            0.17\n",
              "23697        43.53         23.30       76.75          0.57             0.3\n",
              "23698        12.30          9.00        32.3          0.38            0.28\n",
              "\n",
              "[23367 rows x 5 columns]"
            ],
            "text/html": [
              "\n",
              "  <div id=\"df-7839777b-0dee-4627-8af6-32e5e037433d\">\n",
              "    <div class=\"colab-df-container\">\n",
              "      <div>\n",
              "<style scoped>\n",
              "    .dataframe tbody tr th:only-of-type {\n",
              "        vertical-align: middle;\n",
              "    }\n",
              "\n",
              "    .dataframe tbody tr th {\n",
              "        vertical-align: top;\n",
              "    }\n",
              "\n",
              "    .dataframe thead th {\n",
              "        text-align: right;\n",
              "    }\n",
              "</style>\n",
              "<table border=\"1\" class=\"dataframe\">\n",
              "  <thead>\n",
              "    <tr style=\"text-align: right;\">\n",
              "      <th></th>\n",
              "      <th>living_area</th>\n",
              "      <th>kitchen_area</th>\n",
              "      <th>total_area</th>\n",
              "      <th>liv_vs_total</th>\n",
              "      <th>kicth_vs_total</th>\n",
              "    </tr>\n",
              "  </thead>\n",
              "  <tbody>\n",
              "    <tr>\n",
              "      <th>0</th>\n",
              "      <td>51.00</td>\n",
              "      <td>25.00</td>\n",
              "      <td>108.0</td>\n",
              "      <td>0.47</td>\n",
              "      <td>0.23</td>\n",
              "    </tr>\n",
              "    <tr>\n",
              "      <th>1</th>\n",
              "      <td>18.60</td>\n",
              "      <td>11.00</td>\n",
              "      <td>40.4</td>\n",
              "      <td>0.46</td>\n",
              "      <td>0.27</td>\n",
              "    </tr>\n",
              "    <tr>\n",
              "      <th>2</th>\n",
              "      <td>34.30</td>\n",
              "      <td>8.30</td>\n",
              "      <td>56.0</td>\n",
              "      <td>0.61</td>\n",
              "      <td>0.15</td>\n",
              "    </tr>\n",
              "    <tr>\n",
              "      <th>3</th>\n",
              "      <td>90.18</td>\n",
              "      <td>27.40</td>\n",
              "      <td>159.0</td>\n",
              "      <td>0.57</td>\n",
              "      <td>0.17</td>\n",
              "    </tr>\n",
              "    <tr>\n",
              "      <th>4</th>\n",
              "      <td>32.00</td>\n",
              "      <td>41.00</td>\n",
              "      <td>100.0</td>\n",
              "      <td>0.32</td>\n",
              "      <td>0.41</td>\n",
              "    </tr>\n",
              "    <tr>\n",
              "      <th>...</th>\n",
              "      <td>...</td>\n",
              "      <td>...</td>\n",
              "      <td>...</td>\n",
              "      <td>...</td>\n",
              "      <td>...</td>\n",
              "    </tr>\n",
              "    <tr>\n",
              "      <th>23694</th>\n",
              "      <td>73.30</td>\n",
              "      <td>13.83</td>\n",
              "      <td>133.81</td>\n",
              "      <td>0.55</td>\n",
              "      <td>0.1</td>\n",
              "    </tr>\n",
              "    <tr>\n",
              "      <th>23695</th>\n",
              "      <td>38.00</td>\n",
              "      <td>8.50</td>\n",
              "      <td>59.0</td>\n",
              "      <td>0.64</td>\n",
              "      <td>0.14</td>\n",
              "    </tr>\n",
              "    <tr>\n",
              "      <th>23696</th>\n",
              "      <td>29.70</td>\n",
              "      <td>9.77</td>\n",
              "      <td>56.7</td>\n",
              "      <td>0.52</td>\n",
              "      <td>0.17</td>\n",
              "    </tr>\n",
              "    <tr>\n",
              "      <th>23697</th>\n",
              "      <td>43.53</td>\n",
              "      <td>23.30</td>\n",
              "      <td>76.75</td>\n",
              "      <td>0.57</td>\n",
              "      <td>0.3</td>\n",
              "    </tr>\n",
              "    <tr>\n",
              "      <th>23698</th>\n",
              "      <td>12.30</td>\n",
              "      <td>9.00</td>\n",
              "      <td>32.3</td>\n",
              "      <td>0.38</td>\n",
              "      <td>0.28</td>\n",
              "    </tr>\n",
              "  </tbody>\n",
              "</table>\n",
              "<p>23367 rows × 5 columns</p>\n",
              "</div>\n",
              "      <button class=\"colab-df-convert\" onclick=\"convertToInteractive('df-7839777b-0dee-4627-8af6-32e5e037433d')\"\n",
              "              title=\"Convert this dataframe to an interactive table.\"\n",
              "              style=\"display:none;\">\n",
              "        \n",
              "  <svg xmlns=\"http://www.w3.org/2000/svg\" height=\"24px\"viewBox=\"0 0 24 24\"\n",
              "       width=\"24px\">\n",
              "    <path d=\"M0 0h24v24H0V0z\" fill=\"none\"/>\n",
              "    <path d=\"M18.56 5.44l.94 2.06.94-2.06 2.06-.94-2.06-.94-.94-2.06-.94 2.06-2.06.94zm-11 1L8.5 8.5l.94-2.06 2.06-.94-2.06-.94L8.5 2.5l-.94 2.06-2.06.94zm10 10l.94 2.06.94-2.06 2.06-.94-2.06-.94-.94-2.06-.94 2.06-2.06.94z\"/><path d=\"M17.41 7.96l-1.37-1.37c-.4-.4-.92-.59-1.43-.59-.52 0-1.04.2-1.43.59L10.3 9.45l-7.72 7.72c-.78.78-.78 2.05 0 2.83L4 21.41c.39.39.9.59 1.41.59.51 0 1.02-.2 1.41-.59l7.78-7.78 2.81-2.81c.8-.78.8-2.07 0-2.86zM5.41 20L4 18.59l7.72-7.72 1.47 1.35L5.41 20z\"/>\n",
              "  </svg>\n",
              "      </button>\n",
              "      \n",
              "  <style>\n",
              "    .colab-df-container {\n",
              "      display:flex;\n",
              "      flex-wrap:wrap;\n",
              "      gap: 12px;\n",
              "    }\n",
              "\n",
              "    .colab-df-convert {\n",
              "      background-color: #E8F0FE;\n",
              "      border: none;\n",
              "      border-radius: 50%;\n",
              "      cursor: pointer;\n",
              "      display: none;\n",
              "      fill: #1967D2;\n",
              "      height: 32px;\n",
              "      padding: 0 0 0 0;\n",
              "      width: 32px;\n",
              "    }\n",
              "\n",
              "    .colab-df-convert:hover {\n",
              "      background-color: #E2EBFA;\n",
              "      box-shadow: 0px 1px 2px rgba(60, 64, 67, 0.3), 0px 1px 3px 1px rgba(60, 64, 67, 0.15);\n",
              "      fill: #174EA6;\n",
              "    }\n",
              "\n",
              "    [theme=dark] .colab-df-convert {\n",
              "      background-color: #3B4455;\n",
              "      fill: #D2E3FC;\n",
              "    }\n",
              "\n",
              "    [theme=dark] .colab-df-convert:hover {\n",
              "      background-color: #434B5C;\n",
              "      box-shadow: 0px 1px 3px 1px rgba(0, 0, 0, 0.15);\n",
              "      filter: drop-shadow(0px 1px 2px rgba(0, 0, 0, 0.3));\n",
              "      fill: #FFFFFF;\n",
              "    }\n",
              "  </style>\n",
              "\n",
              "      <script>\n",
              "        const buttonEl =\n",
              "          document.querySelector('#df-7839777b-0dee-4627-8af6-32e5e037433d button.colab-df-convert');\n",
              "        buttonEl.style.display =\n",
              "          google.colab.kernel.accessAllowed ? 'block' : 'none';\n",
              "\n",
              "        async function convertToInteractive(key) {\n",
              "          const element = document.querySelector('#df-7839777b-0dee-4627-8af6-32e5e037433d');\n",
              "          const dataTable =\n",
              "            await google.colab.kernel.invokeFunction('convertToInteractive',\n",
              "                                                     [key], {});\n",
              "          if (!dataTable) return;\n",
              "\n",
              "          const docLinkHtml = 'Like what you see? Visit the ' +\n",
              "            '<a target=\"_blank\" href=https://colab.research.google.com/notebooks/data_table.ipynb>data table notebook</a>'\n",
              "            + ' to learn more about interactive tables.';\n",
              "          element.innerHTML = '';\n",
              "          dataTable['output_type'] = 'display_data';\n",
              "          await google.colab.output.renderOutput(dataTable, element);\n",
              "          const docLink = document.createElement('div');\n",
              "          docLink.innerHTML = docLinkHtml;\n",
              "          element.appendChild(docLink);\n",
              "        }\n",
              "      </script>\n",
              "    </div>\n",
              "  </div>\n",
              "  "
            ]
          },
          "metadata": {},
          "execution_count": 67
        }
      ]
    },
    {
      "cell_type": "markdown",
      "source": [
        "### Шаг 4. Исследовательский анализ данных"
      ],
      "metadata": {
        "id": "v3lz_eBpzlfS"
      }
    },
    {
      "cell_type": "markdown",
      "source": [
        "#### - Изучите следующие параметры: площадь, цена, число комнат, высота потолков. Постройте гистограммы для каждого параметра.\n",
        "\n",
        "\n",
        "\n"
      ],
      "metadata": {
        "id": "EEuVGEYhzp99"
      }
    },
    {
      "cell_type": "code",
      "source": [
        "df_raw[['total_area','last_price','rooms','ceiling_height']].describe().T"
      ],
      "metadata": {
        "colab": {
          "base_uri": "https://localhost:8080/",
          "height": 175
        },
        "id": "tcoiWEQGkI20",
        "outputId": "96da5ce8-1336-4a92-d235-aba3bd883116"
      },
      "execution_count": null,
      "outputs": [
        {
          "output_type": "execute_result",
          "data": {
            "text/plain": [
              "                  count      mean       std      min       25%       50%  \\\n",
              "total_area      23367.0  6.06e+01  3.56e+01     12.0  4.02e+01  5.20e+01   \n",
              "last_price      23367.0  6.57e+06  1.09e+07  12190.0  3.45e+06  4.65e+06   \n",
              "rooms           23367.0  2.09e+00  1.07e+00      1.0  1.00e+00  2.00e+00   \n",
              "ceiling_height  14395.0  2.74e+00  6.47e-01      2.0  2.51e+00  2.65e+00   \n",
              "\n",
              "                     75%       max  \n",
              "total_area      7.00e+01  9.00e+02  \n",
              "last_price      6.80e+06  7.63e+08  \n",
              "rooms           3.00e+00  1.90e+01  \n",
              "ceiling_height  2.80e+00  2.50e+01  "
            ],
            "text/html": [
              "\n",
              "  <div id=\"df-ef467aeb-4833-456c-abb3-b3117d4d4464\">\n",
              "    <div class=\"colab-df-container\">\n",
              "      <div>\n",
              "<style scoped>\n",
              "    .dataframe tbody tr th:only-of-type {\n",
              "        vertical-align: middle;\n",
              "    }\n",
              "\n",
              "    .dataframe tbody tr th {\n",
              "        vertical-align: top;\n",
              "    }\n",
              "\n",
              "    .dataframe thead th {\n",
              "        text-align: right;\n",
              "    }\n",
              "</style>\n",
              "<table border=\"1\" class=\"dataframe\">\n",
              "  <thead>\n",
              "    <tr style=\"text-align: right;\">\n",
              "      <th></th>\n",
              "      <th>count</th>\n",
              "      <th>mean</th>\n",
              "      <th>std</th>\n",
              "      <th>min</th>\n",
              "      <th>25%</th>\n",
              "      <th>50%</th>\n",
              "      <th>75%</th>\n",
              "      <th>max</th>\n",
              "    </tr>\n",
              "  </thead>\n",
              "  <tbody>\n",
              "    <tr>\n",
              "      <th>total_area</th>\n",
              "      <td>23367.0</td>\n",
              "      <td>6.06e+01</td>\n",
              "      <td>3.56e+01</td>\n",
              "      <td>12.0</td>\n",
              "      <td>4.02e+01</td>\n",
              "      <td>5.20e+01</td>\n",
              "      <td>7.00e+01</td>\n",
              "      <td>9.00e+02</td>\n",
              "    </tr>\n",
              "    <tr>\n",
              "      <th>last_price</th>\n",
              "      <td>23367.0</td>\n",
              "      <td>6.57e+06</td>\n",
              "      <td>1.09e+07</td>\n",
              "      <td>12190.0</td>\n",
              "      <td>3.45e+06</td>\n",
              "      <td>4.65e+06</td>\n",
              "      <td>6.80e+06</td>\n",
              "      <td>7.63e+08</td>\n",
              "    </tr>\n",
              "    <tr>\n",
              "      <th>rooms</th>\n",
              "      <td>23367.0</td>\n",
              "      <td>2.09e+00</td>\n",
              "      <td>1.07e+00</td>\n",
              "      <td>1.0</td>\n",
              "      <td>1.00e+00</td>\n",
              "      <td>2.00e+00</td>\n",
              "      <td>3.00e+00</td>\n",
              "      <td>1.90e+01</td>\n",
              "    </tr>\n",
              "    <tr>\n",
              "      <th>ceiling_height</th>\n",
              "      <td>14395.0</td>\n",
              "      <td>2.74e+00</td>\n",
              "      <td>6.47e-01</td>\n",
              "      <td>2.0</td>\n",
              "      <td>2.51e+00</td>\n",
              "      <td>2.65e+00</td>\n",
              "      <td>2.80e+00</td>\n",
              "      <td>2.50e+01</td>\n",
              "    </tr>\n",
              "  </tbody>\n",
              "</table>\n",
              "</div>\n",
              "      <button class=\"colab-df-convert\" onclick=\"convertToInteractive('df-ef467aeb-4833-456c-abb3-b3117d4d4464')\"\n",
              "              title=\"Convert this dataframe to an interactive table.\"\n",
              "              style=\"display:none;\">\n",
              "        \n",
              "  <svg xmlns=\"http://www.w3.org/2000/svg\" height=\"24px\"viewBox=\"0 0 24 24\"\n",
              "       width=\"24px\">\n",
              "    <path d=\"M0 0h24v24H0V0z\" fill=\"none\"/>\n",
              "    <path d=\"M18.56 5.44l.94 2.06.94-2.06 2.06-.94-2.06-.94-.94-2.06-.94 2.06-2.06.94zm-11 1L8.5 8.5l.94-2.06 2.06-.94-2.06-.94L8.5 2.5l-.94 2.06-2.06.94zm10 10l.94 2.06.94-2.06 2.06-.94-2.06-.94-.94-2.06-.94 2.06-2.06.94z\"/><path d=\"M17.41 7.96l-1.37-1.37c-.4-.4-.92-.59-1.43-.59-.52 0-1.04.2-1.43.59L10.3 9.45l-7.72 7.72c-.78.78-.78 2.05 0 2.83L4 21.41c.39.39.9.59 1.41.59.51 0 1.02-.2 1.41-.59l7.78-7.78 2.81-2.81c.8-.78.8-2.07 0-2.86zM5.41 20L4 18.59l7.72-7.72 1.47 1.35L5.41 20z\"/>\n",
              "  </svg>\n",
              "      </button>\n",
              "      \n",
              "  <style>\n",
              "    .colab-df-container {\n",
              "      display:flex;\n",
              "      flex-wrap:wrap;\n",
              "      gap: 12px;\n",
              "    }\n",
              "\n",
              "    .colab-df-convert {\n",
              "      background-color: #E8F0FE;\n",
              "      border: none;\n",
              "      border-radius: 50%;\n",
              "      cursor: pointer;\n",
              "      display: none;\n",
              "      fill: #1967D2;\n",
              "      height: 32px;\n",
              "      padding: 0 0 0 0;\n",
              "      width: 32px;\n",
              "    }\n",
              "\n",
              "    .colab-df-convert:hover {\n",
              "      background-color: #E2EBFA;\n",
              "      box-shadow: 0px 1px 2px rgba(60, 64, 67, 0.3), 0px 1px 3px 1px rgba(60, 64, 67, 0.15);\n",
              "      fill: #174EA6;\n",
              "    }\n",
              "\n",
              "    [theme=dark] .colab-df-convert {\n",
              "      background-color: #3B4455;\n",
              "      fill: #D2E3FC;\n",
              "    }\n",
              "\n",
              "    [theme=dark] .colab-df-convert:hover {\n",
              "      background-color: #434B5C;\n",
              "      box-shadow: 0px 1px 3px 1px rgba(0, 0, 0, 0.15);\n",
              "      filter: drop-shadow(0px 1px 2px rgba(0, 0, 0, 0.3));\n",
              "      fill: #FFFFFF;\n",
              "    }\n",
              "  </style>\n",
              "\n",
              "      <script>\n",
              "        const buttonEl =\n",
              "          document.querySelector('#df-ef467aeb-4833-456c-abb3-b3117d4d4464 button.colab-df-convert');\n",
              "        buttonEl.style.display =\n",
              "          google.colab.kernel.accessAllowed ? 'block' : 'none';\n",
              "\n",
              "        async function convertToInteractive(key) {\n",
              "          const element = document.querySelector('#df-ef467aeb-4833-456c-abb3-b3117d4d4464');\n",
              "          const dataTable =\n",
              "            await google.colab.kernel.invokeFunction('convertToInteractive',\n",
              "                                                     [key], {});\n",
              "          if (!dataTable) return;\n",
              "\n",
              "          const docLinkHtml = 'Like what you see? Visit the ' +\n",
              "            '<a target=\"_blank\" href=https://colab.research.google.com/notebooks/data_table.ipynb>data table notebook</a>'\n",
              "            + ' to learn more about interactive tables.';\n",
              "          element.innerHTML = '';\n",
              "          dataTable['output_type'] = 'display_data';\n",
              "          await google.colab.output.renderOutput(dataTable, element);\n",
              "          const docLink = document.createElement('div');\n",
              "          docLink.innerHTML = docLinkHtml;\n",
              "          element.appendChild(docLink);\n",
              "        }\n",
              "      </script>\n",
              "    </div>\n",
              "  </div>\n",
              "  "
            ]
          },
          "metadata": {},
          "execution_count": 68
        }
      ]
    },
    {
      "cell_type": "code",
      "source": [
        "sns.histplot(df_raw.total_area)"
      ],
      "metadata": {
        "colab": {
          "base_uri": "https://localhost:8080/",
          "height": 406
        },
        "id": "fH7jIT2IrTIb",
        "outputId": "f1054d15-72a1-40f4-9366-3f2020fc9308"
      },
      "execution_count": null,
      "outputs": [
        {
          "output_type": "execute_result",
          "data": {
            "text/plain": [
              "<matplotlib.axes._subplots.AxesSubplot at 0x7fa8f454c0d0>"
            ]
          },
          "metadata": {},
          "execution_count": 69
        },
        {
          "output_type": "display_data",
          "data": {
            "text/plain": [
              "<Figure size 720x432 with 1 Axes>"
            ],
            "image/png": "[encoded data removed]"
          },
          "metadata": {
            "needs_background": "light"
          }
        }
      ]
    },
    {
      "cell_type": "code",
      "source": [
        "sns.histplot(df_raw.last_price)"
      ],
      "metadata": {
        "colab": {
          "base_uri": "https://localhost:8080/",
          "height": 406
        },
        "id": "5WGsaDlNt53v",
        "outputId": "7f717ac7-342b-4f8f-d251-e98f142007e8"
      },
      "execution_count": null,
      "outputs": [
        {
          "output_type": "execute_result",
          "data": {
            "text/plain": [
              "<matplotlib.axes._subplots.AxesSubplot at 0x7fa8f4650f90>"
            ]
          },
          "metadata": {},
          "execution_count": 70
        },
        {
          "output_type": "display_data",
          "data": {
            "text/plain": [
              "<Figure size 720x432 with 1 Axes>"
            ],
            "image/png": "[encoded data removed]"
          },
          "metadata": {
            "needs_background": "light"
          }
        }
      ]
    },
    {
      "cell_type": "code",
      "source": [
        "sns.histplot(df_raw.rooms)"
      ],
      "metadata": {
        "colab": {
          "base_uri": "https://localhost:8080/",
          "height": 405
        },
        "id": "WfU4G8Xut5-p",
        "outputId": "6085d591-2986-413a-acb4-7e3a5be9e57c"
      },
      "execution_count": null,
      "outputs": [
        {
          "output_type": "execute_result",
          "data": {
            "text/plain": [
              "<matplotlib.axes._subplots.AxesSubplot at 0x7fa8f242b2d0>"
            ]
          },
          "metadata": {},
          "execution_count": 71
        },
        {
          "output_type": "display_data",
          "data": {
            "text/plain": [
              "<Figure size 720x432 with 1 Axes>"
            ],
            "image/png": "[encoded data removed]"
          },
          "metadata": {
            "needs_background": "light"
          }
        }
      ]
    },
    {
      "cell_type": "code",
      "source": [
        "sns.histplot(df_raw.ceiling_height)"
      ],
      "metadata": {
        "colab": {
          "base_uri": "https://localhost:8080/",
          "height": 406
        },
        "id": "6R_FiNG6t5ti",
        "outputId": "a9066f7c-749b-475a-c573-1b2d689af4e5"
      },
      "execution_count": null,
      "outputs": [
        {
          "output_type": "execute_result",
          "data": {
            "text/plain": [
              "<matplotlib.axes._subplots.AxesSubplot at 0x7fa8f1c0cad0>"
            ]
          },
          "metadata": {},
          "execution_count": 72
        },
        {
          "output_type": "display_data",
          "data": {
            "text/plain": [
              "<Figure size 720x432 with 1 Axes>"
            ],
            "image/png": "[encoded data removed]"
          },
          "metadata": {
            "needs_background": "light"
          }
        }
      ]
    },
    {
      "cell_type": "code",
      "source": [
        "sns.histplot(df_ceiling_notna.ceiling_height)"
      ],
      "metadata": {
        "colab": {
          "base_uri": "https://localhost:8080/",
          "height": 406
        },
        "id": "eQJ-mmikt5j_",
        "outputId": "61a7f75a-ad98-46c5-caed-1f3593823cfd"
      },
      "execution_count": null,
      "outputs": [
        {
          "output_type": "execute_result",
          "data": {
            "text/plain": [
              "<matplotlib.axes._subplots.AxesSubplot at 0x7fa8f1033310>"
            ]
          },
          "metadata": {},
          "execution_count": 73
        },
        {
          "output_type": "display_data",
          "data": {
            "text/plain": [
              "<Figure size 720x432 with 1 Axes>"
            ],
            "image/png": "[encoded data removed]"
          },
          "metadata": {
            "needs_background": "light"
          }
        }
      ]
    },
    {
      "cell_type": "code",
      "source": [],
      "metadata": {
        "id": "TdZUAQryt5bP"
      },
      "execution_count": null,
      "outputs": []
    },
    {
      "cell_type": "markdown",
      "source": [
        "#### - Изучите время продажи квартиры. Постройте гистограмму. Посчитайте среднее и медиану. "
      ],
      "metadata": {
        "id": "4ttuyjSZz5s7"
      }
    },
    {
      "cell_type": "code",
      "source": [
        "df_raw.days_exposition.describe()"
      ],
      "metadata": {
        "id": "kSm4jtBHz6XF",
        "colab": {
          "base_uri": "https://localhost:8080/"
        },
        "outputId": "c2143703-6ac1-4494-8b52-84a68ac83998"
      },
      "execution_count": null,
      "outputs": [
        {
          "output_type": "execute_result",
          "data": {
            "text/plain": [
              "count    23367.00\n",
              "mean       186.30\n",
              "std        233.65\n",
              "min          0.00\n",
              "25%         43.00\n",
              "50%         95.00\n",
              "75%        238.00\n",
              "max       1618.00\n",
              "Name: days_exposition, dtype: float64"
            ]
          },
          "metadata": {},
          "execution_count": 74
        }
      ]
    },
    {
      "cell_type": "code",
      "source": [
        "sns.histplot(df_raw.days_exposition)"
      ],
      "metadata": {
        "colab": {
          "base_uri": "https://localhost:8080/",
          "height": 406
        },
        "id": "72d0Z5qJyIP0",
        "outputId": "58457486-66b3-42dd-bb0b-d96dd19691b8"
      },
      "execution_count": null,
      "outputs": [
        {
          "output_type": "execute_result",
          "data": {
            "text/plain": [
              "<matplotlib.axes._subplots.AxesSubplot at 0x7fa8f039c550>"
            ]
          },
          "metadata": {},
          "execution_count": 75
        },
        {
          "output_type": "display_data",
          "data": {
            "text/plain": [
              "<Figure size 720x432 with 1 Axes>"
            ],
            "image/png": "[encoded data removed]"
          },
          "metadata": {
            "needs_background": "light"
          }
        }
      ]
    },
    {
      "cell_type": "code",
      "source": [
        "sns.boxplot(df_raw.days_exposition)"
      ],
      "metadata": {
        "colab": {
          "base_uri": "https://localhost:8080/",
          "height": 406
        },
        "id": "OaMSO96wbgo5",
        "outputId": "669eccd5-c828-4890-a270-af31d028ece3"
      },
      "execution_count": null,
      "outputs": [
        {
          "output_type": "execute_result",
          "data": {
            "text/plain": [
              "<matplotlib.axes._subplots.AxesSubplot at 0x7fa8f0450b10>"
            ]
          },
          "metadata": {},
          "execution_count": 76
        },
        {
          "output_type": "display_data",
          "data": {
            "text/plain": [
              "<Figure size 720x432 with 1 Axes>"
            ],
            "image/png": "[encoded data removed]"
          },
          "metadata": {
            "needs_background": "light"
          }
        }
      ]
    },
    {
      "cell_type": "markdown",
      "source": [
        "В среднем объекты продаются за 148 дней, медиана 91 дней.  \n",
        "Обычно (межквартильный размах) от 39 до 210 дей)"
      ],
      "metadata": {
        "id": "gtmobflrbJ7I"
      }
    },
    {
      "cell_type": "markdown",
      "source": [
        "#### - Какие факторы больше всего влияют на стоимость квартиры? Изучите, зависит ли цена от площади, числа комнат, удалённости от центра. Изучите зависимость цены от того, на каком этаже расположена квартира: первом, последнем или другом. Также изучите зависимость от даты размещения: дня недели, месяца и года."
      ],
      "metadata": {
        "id": "GMPFQ0Z_z6u9"
      }
    },
    {
      "cell_type": "code",
      "source": [
        "# создадим вспомогательный датасет с числовыми неприрывными показателями\n",
        "df_price = df_raw[['last_price', 'total_area', 'rooms', 'city_centers_nearest']]"
      ],
      "metadata": {
        "id": "RVmFMas31j_5"
      },
      "execution_count": null,
      "outputs": []
    },
    {
      "cell_type": "code",
      "source": [
        "# получим диаграммы рассеивания по всем показателям\n",
        "sns.pairplot(df_price)"
      ],
      "metadata": {
        "colab": {
          "base_uri": "https://localhost:8080/",
          "height": 743
        },
        "id": "n1K0-bRm2Pos",
        "outputId": "c6df45a3-5579-4745-d388-e2a31ba2ac9f"
      },
      "execution_count": null,
      "outputs": [
        {
          "output_type": "execute_result",
          "data": {
            "text/plain": [
              "<seaborn.axisgrid.PairGrid at 0x7fa8f021ef10>"
            ]
          },
          "metadata": {},
          "execution_count": 78
        },
        {
          "output_type": "display_data",
          "data": {
            "text/plain": [
              "<Figure size 720x720 with 20 Axes>"
            ],
            "image/png": "[encoded data removed]"
          },
          "metadata": {
            "needs_background": "light"
          }
        }
      ]
    },
    {
      "cell_type": "code",
      "source": [
        "df_raw[['last_price', 'total_area', 'rooms', 'city_centers_nearest']].corr()"
      ],
      "metadata": {
        "colab": {
          "base_uri": "https://localhost:8080/",
          "height": 175
        },
        "id": "7XJcyrdazMP_",
        "outputId": "80f670ab-b106-46e4-e3ad-20a530fc229f"
      },
      "execution_count": null,
      "outputs": [
        {
          "output_type": "execute_result",
          "data": {
            "text/plain": [
              "                      last_price  total_area  rooms  city_centers_nearest\n",
              "last_price                  1.00        0.65   0.36                 -0.21\n",
              "total_area                  0.65        1.00   0.76                 -0.19\n",
              "rooms                       0.36        0.76   1.00                 -0.14\n",
              "city_centers_nearest       -0.21       -0.19  -0.14                  1.00"
            ],
            "text/html": [
              "\n",
              "  <div id=\"df-17324fc4-976e-4f4a-bd05-7ddd4445104d\">\n",
              "    <div class=\"colab-df-container\">\n",
              "      <div>\n",
              "<style scoped>\n",
              "    .dataframe tbody tr th:only-of-type {\n",
              "        vertical-align: middle;\n",
              "    }\n",
              "\n",
              "    .dataframe tbody tr th {\n",
              "        vertical-align: top;\n",
              "    }\n",
              "\n",
              "    .dataframe thead th {\n",
              "        text-align: right;\n",
              "    }\n",
              "</style>\n",
              "<table border=\"1\" class=\"dataframe\">\n",
              "  <thead>\n",
              "    <tr style=\"text-align: right;\">\n",
              "      <th></th>\n",
              "      <th>last_price</th>\n",
              "      <th>total_area</th>\n",
              "      <th>rooms</th>\n",
              "      <th>city_centers_nearest</th>\n",
              "    </tr>\n",
              "  </thead>\n",
              "  <tbody>\n",
              "    <tr>\n",
              "      <th>last_price</th>\n",
              "      <td>1.00</td>\n",
              "      <td>0.65</td>\n",
              "      <td>0.36</td>\n",
              "      <td>-0.21</td>\n",
              "    </tr>\n",
              "    <tr>\n",
              "      <th>total_area</th>\n",
              "      <td>0.65</td>\n",
              "      <td>1.00</td>\n",
              "      <td>0.76</td>\n",
              "      <td>-0.19</td>\n",
              "    </tr>\n",
              "    <tr>\n",
              "      <th>rooms</th>\n",
              "      <td>0.36</td>\n",
              "      <td>0.76</td>\n",
              "      <td>1.00</td>\n",
              "      <td>-0.14</td>\n",
              "    </tr>\n",
              "    <tr>\n",
              "      <th>city_centers_nearest</th>\n",
              "      <td>-0.21</td>\n",
              "      <td>-0.19</td>\n",
              "      <td>-0.14</td>\n",
              "      <td>1.00</td>\n",
              "    </tr>\n",
              "  </tbody>\n",
              "</table>\n",
              "</div>\n",
              "      <button class=\"colab-df-convert\" onclick=\"convertToInteractive('df-17324fc4-976e-4f4a-bd05-7ddd4445104d')\"\n",
              "              title=\"Convert this dataframe to an interactive table.\"\n",
              "              style=\"display:none;\">\n",
              "        \n",
              "  <svg xmlns=\"http://www.w3.org/2000/svg\" height=\"24px\"viewBox=\"0 0 24 24\"\n",
              "       width=\"24px\">\n",
              "    <path d=\"M0 0h24v24H0V0z\" fill=\"none\"/>\n",
              "    <path d=\"M18.56 5.44l.94 2.06.94-2.06 2.06-.94-2.06-.94-.94-2.06-.94 2.06-2.06.94zm-11 1L8.5 8.5l.94-2.06 2.06-.94-2.06-.94L8.5 2.5l-.94 2.06-2.06.94zm10 10l.94 2.06.94-2.06 2.06-.94-2.06-.94-.94-2.06-.94 2.06-2.06.94z\"/><path d=\"M17.41 7.96l-1.37-1.37c-.4-.4-.92-.59-1.43-.59-.52 0-1.04.2-1.43.59L10.3 9.45l-7.72 7.72c-.78.78-.78 2.05 0 2.83L4 21.41c.39.39.9.59 1.41.59.51 0 1.02-.2 1.41-.59l7.78-7.78 2.81-2.81c.8-.78.8-2.07 0-2.86zM5.41 20L4 18.59l7.72-7.72 1.47 1.35L5.41 20z\"/>\n",
              "  </svg>\n",
              "      </button>\n",
              "      \n",
              "  <style>\n",
              "    .colab-df-container {\n",
              "      display:flex;\n",
              "      flex-wrap:wrap;\n",
              "      gap: 12px;\n",
              "    }\n",
              "\n",
              "    .colab-df-convert {\n",
              "      background-color: #E8F0FE;\n",
              "      border: none;\n",
              "      border-radius: 50%;\n",
              "      cursor: pointer;\n",
              "      display: none;\n",
              "      fill: #1967D2;\n",
              "      height: 32px;\n",
              "      padding: 0 0 0 0;\n",
              "      width: 32px;\n",
              "    }\n",
              "\n",
              "    .colab-df-convert:hover {\n",
              "      background-color: #E2EBFA;\n",
              "      box-shadow: 0px 1px 2px rgba(60, 64, 67, 0.3), 0px 1px 3px 1px rgba(60, 64, 67, 0.15);\n",
              "      fill: #174EA6;\n",
              "    }\n",
              "\n",
              "    [theme=dark] .colab-df-convert {\n",
              "      background-color: #3B4455;\n",
              "      fill: #D2E3FC;\n",
              "    }\n",
              "\n",
              "    [theme=dark] .colab-df-convert:hover {\n",
              "      background-color: #434B5C;\n",
              "      box-shadow: 0px 1px 3px 1px rgba(0, 0, 0, 0.15);\n",
              "      filter: drop-shadow(0px 1px 2px rgba(0, 0, 0, 0.3));\n",
              "      fill: #FFFFFF;\n",
              "    }\n",
              "  </style>\n",
              "\n",
              "      <script>\n",
              "        const buttonEl =\n",
              "          document.querySelector('#df-17324fc4-976e-4f4a-bd05-7ddd4445104d button.colab-df-convert');\n",
              "        buttonEl.style.display =\n",
              "          google.colab.kernel.accessAllowed ? 'block' : 'none';\n",
              "\n",
              "        async function convertToInteractive(key) {\n",
              "          const element = document.querySelector('#df-17324fc4-976e-4f4a-bd05-7ddd4445104d');\n",
              "          const dataTable =\n",
              "            await google.colab.kernel.invokeFunction('convertToInteractive',\n",
              "                                                     [key], {});\n",
              "          if (!dataTable) return;\n",
              "\n",
              "          const docLinkHtml = 'Like what you see? Visit the ' +\n",
              "            '<a target=\"_blank\" href=https://colab.research.google.com/notebooks/data_table.ipynb>data table notebook</a>'\n",
              "            + ' to learn more about interactive tables.';\n",
              "          element.innerHTML = '';\n",
              "          dataTable['output_type'] = 'display_data';\n",
              "          await google.colab.output.renderOutput(dataTable, element);\n",
              "          const docLink = document.createElement('div');\n",
              "          docLink.innerHTML = docLinkHtml;\n",
              "          element.appendChild(docLink);\n",
              "        }\n",
              "      </script>\n",
              "    </div>\n",
              "  </div>\n",
              "  "
            ]
          },
          "metadata": {},
          "execution_count": 79
        }
      ]
    },
    {
      "cell_type": "markdown",
      "source": [
        "Из всех признаков, общая площадь определенно коррелирует с ценой.  \n",
        "Количество комнат также небольшую положительную корреляцию.  \n",
        "Остальные - нет."
      ],
      "metadata": {
        "id": "1wFb_NjC6ORg"
      }
    },
    {
      "cell_type": "markdown",
      "source": [
        "Оценка корреляции Цена (неприрывная) и Категория этажа (категориальная)"
      ],
      "metadata": {
        "id": "tZmDVJ0654Ls"
      }
    },
    {
      "cell_type": "code",
      "source": [
        "stats.pointbiserialr(df_raw.last_price, df_raw.floor_category)"
      ],
      "metadata": {
        "colab": {
          "base_uri": "https://localhost:8080/"
        },
        "id": "JM5OpPnQ1CBX",
        "outputId": "f4c46f44-4f45-4d86-83a4-c8a70645d1dd"
      },
      "execution_count": null,
      "outputs": [
        {
          "output_type": "execute_result",
          "data": {
            "text/plain": [
              "PointbiserialrResult(correlation=0.04135007610422199, pvalue=2.5611886673879677e-10)"
            ]
          },
          "metadata": {},
          "execution_count": 80
        }
      ]
    },
    {
      "cell_type": "markdown",
      "source": [
        "Согласно полученным данным по биссериальной корреляции можно судить, что статистически значимой связи между ценой и категории этажа нет. P значение меньше, чем 0.05 указывает на очень высокий уровень определенности."
      ],
      "metadata": {
        "id": "ZT50NtH15fID"
      }
    },
    {
      "cell_type": "markdown",
      "source": [
        "Зависимость цены от дня недели, месяца, года"
      ],
      "metadata": {
        "id": "smNz5zN_cMFz"
      }
    },
    {
      "cell_type": "code",
      "source": [
        "sns.histplot(data=df_raw, x='day_of_week', y='last_price')"
      ],
      "metadata": {
        "colab": {
          "base_uri": "https://localhost:8080/",
          "height": 417
        },
        "id": "o5og7fbRyjlb",
        "outputId": "e171589c-a7a9-4ea4-b327-c34093c40e4d"
      },
      "execution_count": null,
      "outputs": [
        {
          "output_type": "execute_result",
          "data": {
            "text/plain": [
              "<matplotlib.axes._subplots.AxesSubplot at 0x7fa8ec4388d0>"
            ]
          },
          "metadata": {},
          "execution_count": 81
        },
        {
          "output_type": "display_data",
          "data": {
            "text/plain": [
              "<Figure size 720x432 with 1 Axes>"
            ],
            "image/png": "[encoded data removed]"
          },
          "metadata": {
            "needs_background": "light"
          }
        }
      ]
    },
    {
      "cell_type": "markdown",
      "source": [
        "В среду и субботу наибольшие значения цены продаж. В воскресенье - меньшая, что может быть следствием того, что в воскресенье не так удобно проводить сделку (не все организации, необходимые для оформления сделки могут работать) "
      ],
      "metadata": {
        "id": "YvnbwNbZd6qi"
      }
    },
    {
      "cell_type": "code",
      "source": [
        "sns.histplot(data=df_raw, x='month', y='last_price')"
      ],
      "metadata": {
        "colab": {
          "base_uri": "https://localhost:8080/",
          "height": 416
        },
        "id": "DFw3tqKayjg8",
        "outputId": "478741c2-85f7-4f7d-bbf6-3257540f02e8"
      },
      "execution_count": null,
      "outputs": [
        {
          "output_type": "execute_result",
          "data": {
            "text/plain": [
              "<matplotlib.axes._subplots.AxesSubplot at 0x7fa8efdb83d0>"
            ]
          },
          "metadata": {},
          "execution_count": 82
        },
        {
          "output_type": "display_data",
          "data": {
            "text/plain": [
              "<Figure size 720x432 with 1 Axes>"
            ],
            "image/png": "[encoded data removed]"
          },
          "metadata": {
            "needs_background": "light"
          }
        }
      ]
    },
    {
      "cell_type": "markdown",
      "source": [
        "Весной и в декабре цена продажи относительно больше. Возможно это влияние месяцев, когда сдаются новые дома (декабрь), а также месяцы, когда получают премию за год (весна и декабрь) "
      ],
      "metadata": {
        "id": "xTxCSBp5dkki"
      }
    },
    {
      "cell_type": "code",
      "source": [
        "sns.histplot(data=df_raw, x='year', y='last_price')"
      ],
      "metadata": {
        "colab": {
          "base_uri": "https://localhost:8080/",
          "height": 416
        },
        "id": "NnUM57wjyjcp",
        "outputId": "7d4ac341-6047-488d-a18b-3863be7331e9"
      },
      "execution_count": null,
      "outputs": [
        {
          "output_type": "execute_result",
          "data": {
            "text/plain": [
              "<matplotlib.axes._subplots.AxesSubplot at 0x7fa8ec504e10>"
            ]
          },
          "metadata": {},
          "execution_count": 83
        },
        {
          "output_type": "display_data",
          "data": {
            "text/plain": [
              "<Figure size 720x432 with 1 Axes>"
            ],
            "image/png": "[encoded data removed]"
          },
          "metadata": {
            "needs_background": "light"
          }
        }
      ]
    },
    {
      "cell_type": "markdown",
      "source": [
        "В 2017 году отмечается некий рост цены продаж. В среднем имеется тренд на рост цены."
      ],
      "metadata": {
        "id": "J0Th8UJ3elQ-"
      }
    },
    {
      "cell_type": "markdown",
      "source": [
        "#### - Выберите 10 населённых пунктов с наибольшим числом объявлений. Посчитайте среднюю цену квадратного метра в этих населённых пунктах. Выделите среди них населённые пункты с самой высокой и низкой стоимостью жилья. Эти данные можно найти по имени в столбце 'locality_name'."
      ],
      "metadata": {
        "id": "6t5OAaqjz7b7"
      }
    },
    {
      "cell_type": "code",
      "source": [
        "df_raw['locality_name'].value_counts()[:10].sort_values(ascending=False)"
      ],
      "metadata": {
        "colab": {
          "base_uri": "https://localhost:8080/"
        },
        "id": "0t0JPwr6Gzy1",
        "outputId": "02e0d446-7634-47df-e7de-ea513f84760f"
      },
      "execution_count": null,
      "outputs": [
        {
          "output_type": "execute_result",
          "data": {
            "text/plain": [
              "Санкт-Петербург      15539\n",
              "посёлок Мурино         494\n",
              "посёлок Шушары         435\n",
              "Всеволожск             392\n",
              "Пушкин                 369\n",
              "Колпино                338\n",
              "посёлок Парголово      323\n",
              "Гатчина                307\n",
              "деревня Кудрово        283\n",
              "Выборг                 237\n",
              "Name: locality_name, dtype: Int64"
            ]
          },
          "metadata": {},
          "execution_count": 85
        }
      ]
    },
    {
      "cell_type": "code",
      "source": [
        "cities_max_adv = df_raw['locality_name'].value_counts()[:10].index.to_list()"
      ],
      "metadata": {
        "id": "KpKGYpvKz77t"
      },
      "execution_count": null,
      "outputs": []
    },
    {
      "cell_type": "code",
      "source": [
        "df_raw[['locality_name', 'price_per_m']][df_raw.locality_name.isin(cities_max_adv)].groupby('locality_name').mean().sort_values(by='price_per_m', ascending=False)"
      ],
      "metadata": {
        "colab": {
          "base_uri": "https://localhost:8080/",
          "height": 394
        },
        "id": "Qs6DYqalC6Z_",
        "outputId": "10c48a42-9b73-47b4-a0af-eee48e412fa3"
      },
      "execution_count": null,
      "outputs": [
        {
          "output_type": "execute_result",
          "data": {
            "text/plain": [
              "                   price_per_m\n",
              "locality_name                 \n",
              "посёлок Парголово         34.6\n",
              "деревня Кудрово          33.03\n",
              "посёлок Мурино           32.67\n",
              "Пушкин                   32.23\n",
              "посёлок Шушары           31.97\n",
              "Всеволожск               31.54\n",
              "Санкт-Петербург          31.34\n",
              "Гатчина                  28.37\n",
              "Выборг                   27.93\n",
              "Колпино                  27.22"
            ],
            "text/html": [
              "\n",
              "  <div id=\"df-6bb57287-a4c6-4ae6-824c-267f5e587bd3\">\n",
              "    <div class=\"colab-df-container\">\n",
              "      <div>\n",
              "<style scoped>\n",
              "    .dataframe tbody tr th:only-of-type {\n",
              "        vertical-align: middle;\n",
              "    }\n",
              "\n",
              "    .dataframe tbody tr th {\n",
              "        vertical-align: top;\n",
              "    }\n",
              "\n",
              "    .dataframe thead th {\n",
              "        text-align: right;\n",
              "    }\n",
              "</style>\n",
              "<table border=\"1\" class=\"dataframe\">\n",
              "  <thead>\n",
              "    <tr style=\"text-align: right;\">\n",
              "      <th></th>\n",
              "      <th>price_per_m</th>\n",
              "    </tr>\n",
              "    <tr>\n",
              "      <th>locality_name</th>\n",
              "      <th></th>\n",
              "    </tr>\n",
              "  </thead>\n",
              "  <tbody>\n",
              "    <tr>\n",
              "      <th>посёлок Парголово</th>\n",
              "      <td>34.6</td>\n",
              "    </tr>\n",
              "    <tr>\n",
              "      <th>деревня Кудрово</th>\n",
              "      <td>33.03</td>\n",
              "    </tr>\n",
              "    <tr>\n",
              "      <th>посёлок Мурино</th>\n",
              "      <td>32.67</td>\n",
              "    </tr>\n",
              "    <tr>\n",
              "      <th>Пушкин</th>\n",
              "      <td>32.23</td>\n",
              "    </tr>\n",
              "    <tr>\n",
              "      <th>посёлок Шушары</th>\n",
              "      <td>31.97</td>\n",
              "    </tr>\n",
              "    <tr>\n",
              "      <th>Всеволожск</th>\n",
              "      <td>31.54</td>\n",
              "    </tr>\n",
              "    <tr>\n",
              "      <th>Санкт-Петербург</th>\n",
              "      <td>31.34</td>\n",
              "    </tr>\n",
              "    <tr>\n",
              "      <th>Гатчина</th>\n",
              "      <td>28.37</td>\n",
              "    </tr>\n",
              "    <tr>\n",
              "      <th>Выборг</th>\n",
              "      <td>27.93</td>\n",
              "    </tr>\n",
              "    <tr>\n",
              "      <th>Колпино</th>\n",
              "      <td>27.22</td>\n",
              "    </tr>\n",
              "  </tbody>\n",
              "</table>\n",
              "</div>\n",
              "      <button class=\"colab-df-convert\" onclick=\"convertToInteractive('df-6bb57287-a4c6-4ae6-824c-267f5e587bd3')\"\n",
              "              title=\"Convert this dataframe to an interactive table.\"\n",
              "              style=\"display:none;\">\n",
              "        \n",
              "  <svg xmlns=\"http://www.w3.org/2000/svg\" height=\"24px\"viewBox=\"0 0 24 24\"\n",
              "       width=\"24px\">\n",
              "    <path d=\"M0 0h24v24H0V0z\" fill=\"none\"/>\n",
              "    <path d=\"M18.56 5.44l.94 2.06.94-2.06 2.06-.94-2.06-.94-.94-2.06-.94 2.06-2.06.94zm-11 1L8.5 8.5l.94-2.06 2.06-.94-2.06-.94L8.5 2.5l-.94 2.06-2.06.94zm10 10l.94 2.06.94-2.06 2.06-.94-2.06-.94-.94-2.06-.94 2.06-2.06.94z\"/><path d=\"M17.41 7.96l-1.37-1.37c-.4-.4-.92-.59-1.43-.59-.52 0-1.04.2-1.43.59L10.3 9.45l-7.72 7.72c-.78.78-.78 2.05 0 2.83L4 21.41c.39.39.9.59 1.41.59.51 0 1.02-.2 1.41-.59l7.78-7.78 2.81-2.81c.8-.78.8-2.07 0-2.86zM5.41 20L4 18.59l7.72-7.72 1.47 1.35L5.41 20z\"/>\n",
              "  </svg>\n",
              "      </button>\n",
              "      \n",
              "  <style>\n",
              "    .colab-df-container {\n",
              "      display:flex;\n",
              "      flex-wrap:wrap;\n",
              "      gap: 12px;\n",
              "    }\n",
              "\n",
              "    .colab-df-convert {\n",
              "      background-color: #E8F0FE;\n",
              "      border: none;\n",
              "      border-radius: 50%;\n",
              "      cursor: pointer;\n",
              "      display: none;\n",
              "      fill: #1967D2;\n",
              "      height: 32px;\n",
              "      padding: 0 0 0 0;\n",
              "      width: 32px;\n",
              "    }\n",
              "\n",
              "    .colab-df-convert:hover {\n",
              "      background-color: #E2EBFA;\n",
              "      box-shadow: 0px 1px 2px rgba(60, 64, 67, 0.3), 0px 1px 3px 1px rgba(60, 64, 67, 0.15);\n",
              "      fill: #174EA6;\n",
              "    }\n",
              "\n",
              "    [theme=dark] .colab-df-convert {\n",
              "      background-color: #3B4455;\n",
              "      fill: #D2E3FC;\n",
              "    }\n",
              "\n",
              "    [theme=dark] .colab-df-convert:hover {\n",
              "      background-color: #434B5C;\n",
              "      box-shadow: 0px 1px 3px 1px rgba(0, 0, 0, 0.15);\n",
              "      filter: drop-shadow(0px 1px 2px rgba(0, 0, 0, 0.3));\n",
              "      fill: #FFFFFF;\n",
              "    }\n",
              "  </style>\n",
              "\n",
              "      <script>\n",
              "        const buttonEl =\n",
              "          document.querySelector('#df-6bb57287-a4c6-4ae6-824c-267f5e587bd3 button.colab-df-convert');\n",
              "        buttonEl.style.display =\n",
              "          google.colab.kernel.accessAllowed ? 'block' : 'none';\n",
              "\n",
              "        async function convertToInteractive(key) {\n",
              "          const element = document.querySelector('#df-6bb57287-a4c6-4ae6-824c-267f5e587bd3');\n",
              "          const dataTable =\n",
              "            await google.colab.kernel.invokeFunction('convertToInteractive',\n",
              "                                                     [key], {});\n",
              "          if (!dataTable) return;\n",
              "\n",
              "          const docLinkHtml = 'Like what you see? Visit the ' +\n",
              "            '<a target=\"_blank\" href=https://colab.research.google.com/notebooks/data_table.ipynb>data table notebook</a>'\n",
              "            + ' to learn more about interactive tables.';\n",
              "          element.innerHTML = '';\n",
              "          dataTable['output_type'] = 'display_data';\n",
              "          await google.colab.output.renderOutput(dataTable, element);\n",
              "          const docLink = document.createElement('div');\n",
              "          docLink.innerHTML = docLinkHtml;\n",
              "          element.appendChild(docLink);\n",
              "        }\n",
              "      </script>\n",
              "    </div>\n",
              "  </div>\n",
              "  "
            ]
          },
          "metadata": {},
          "execution_count": 87
        }
      ]
    },
    {
      "cell_type": "markdown",
      "source": [
        "Поселок Парголово имеет самую высокую среднюю цену квадратного метра, Колпино - самую низкую"
      ],
      "metadata": {
        "id": "zUpAfvOnH6WW"
      }
    },
    {
      "cell_type": "markdown",
      "source": [
        "#### - Изучите предложения квартир: для каждой квартиры есть информация о расстоянии до центра. Выделите квартиры в Санкт-Петербурге ('locality_name'). "
      ],
      "metadata": {
        "id": "gjzWeJAdz8bZ"
      }
    },
    {
      "cell_type": "code",
      "source": [
        "df_spb = df_raw[(df_raw.locality_name == 'Санкт-Петербург') & ~df_raw.is_apartment].reset_index(drop=True)\n",
        "df_spb"
      ],
      "metadata": {
        "id": "LRQ6jz5tz8ym",
        "colab": {
          "base_uri": "https://localhost:8080/",
          "height": 424
        },
        "outputId": "7805fa6d-3dc8-416e-d4cb-80b164631803"
      },
      "execution_count": null,
      "outputs": [
        {
          "output_type": "execute_result",
          "data": {
            "text/plain": [
              "       total_images  last_price  total_area first_day_exposition  rooms  \\\n",
              "0                20    13000000       108.0           2019-03-07      3   \n",
              "1                10     5196000        56.0           2015-08-20      2   \n",
              "2                 0    64900000       159.0           2015-07-24      3   \n",
              "3                 2    10000000       100.0           2018-06-19      2   \n",
              "4                 5     7915000        71.6           2019-04-18      2   \n",
              "...             ...         ...         ...                  ...    ...   \n",
              "15496            13     3550000        35.3           2018-02-28      1   \n",
              "15497             3     5500000        52.0           2018-07-19      2   \n",
              "15498            11     9470000        72.9           2016-10-13      2   \n",
              "15499             9     9700000      133.81           2017-03-21      3   \n",
              "15500            13    11475000       76.75           2017-03-28      2   \n",
              "\n",
              "       ceiling_height  floors_total  living_area  floor  is_apartment  ...  \\\n",
              "0                 2.7            16        51.00      8         False  ...   \n",
              "1                <NA>             5        34.30      4         False  ...   \n",
              "2                <NA>            14        90.18      9         False  ...   \n",
              "3                3.03            14        32.00     13         False  ...   \n",
              "4                <NA>            24        40.61     22         False  ...   \n",
              "...               ...           ...          ...    ...           ...  ...   \n",
              "15496            2.86            15        16.30      4         False  ...   \n",
              "15497            <NA>             5        31.00      2         False  ...   \n",
              "15498            2.75            25        40.30      7         False  ...   \n",
              "15499             3.7             5        73.30      3         False  ...   \n",
              "15500             3.0            17        43.53     12         False  ...   \n",
              "\n",
              "       ponds_around3000  ponds_nearest  days_exposition  price_per_m  \\\n",
              "0                     2            755               57         36.0   \n",
              "1                     2            574              558         28.0   \n",
              "2                     3            234              424         53.0   \n",
              "3                     1             48              121         50.0   \n",
              "4                     0          10000               15         35.8   \n",
              "...                 ...            ...              ...          ...   \n",
              "15496                 2            652               29         35.3   \n",
              "15497                 0          10000               15         26.0   \n",
              "15498                 1            806              519        36.45   \n",
              "15499                 3            381              773         44.6   \n",
              "15500                 3            196              602        38.38   \n",
              "\n",
              "      day_of_week  month  year  floor_category  liv_vs_total  kicth_vs_total  \n",
              "0               3      3  2019               3          0.47            0.23  \n",
              "1               3      8  2015               3          0.61            0.15  \n",
              "2               4      7  2015               3          0.57            0.17  \n",
              "3               1      6  2018               3          0.32            0.41  \n",
              "4               3      4  2019               3          0.57            0.26  \n",
              "...           ...    ...   ...             ...           ...             ...  \n",
              "15496           2      2  2018               3          0.46            0.26  \n",
              "15497           3      7  2018               3           0.6            0.12  \n",
              "15498           3     10  2016               3          0.55            0.15  \n",
              "15499           1      3  2017               3          0.55             0.1  \n",
              "15500           1      3  2017               3          0.57             0.3  \n",
              "\n",
              "[15501 rows x 29 columns]"
            ],
            "text/html": [
              "\n",
              "  <div id=\"df-07d70df4-c3cc-4437-8af0-fce23f912ddb\">\n",
              "    <div class=\"colab-df-container\">\n",
              "      <div>\n",
              "<style scoped>\n",
              "    .dataframe tbody tr th:only-of-type {\n",
              "        vertical-align: middle;\n",
              "    }\n",
              "\n",
              "    .dataframe tbody tr th {\n",
              "        vertical-align: top;\n",
              "    }\n",
              "\n",
              "    .dataframe thead th {\n",
              "        text-align: right;\n",
              "    }\n",
              "</style>\n",
              "<table border=\"1\" class=\"dataframe\">\n",
              "  <thead>\n",
              "    <tr style=\"text-align: right;\">\n",
              "      <th></th>\n",
              "      <th>total_images</th>\n",
              "      <th>last_price</th>\n",
              "      <th>total_area</th>\n",
              "      <th>first_day_exposition</th>\n",
              "      <th>rooms</th>\n",
              "      <th>ceiling_height</th>\n",
              "      <th>floors_total</th>\n",
              "      <th>living_area</th>\n",
              "      <th>floor</th>\n",
              "      <th>is_apartment</th>\n",
              "      <th>...</th>\n",
              "      <th>ponds_around3000</th>\n",
              "      <th>ponds_nearest</th>\n",
              "      <th>days_exposition</th>\n",
              "      <th>price_per_m</th>\n",
              "      <th>day_of_week</th>\n",
              "      <th>month</th>\n",
              "      <th>year</th>\n",
              "      <th>floor_category</th>\n",
              "      <th>liv_vs_total</th>\n",
              "      <th>kicth_vs_total</th>\n",
              "    </tr>\n",
              "  </thead>\n",
              "  <tbody>\n",
              "    <tr>\n",
              "      <th>0</th>\n",
              "      <td>20</td>\n",
              "      <td>13000000</td>\n",
              "      <td>108.0</td>\n",
              "      <td>2019-03-07</td>\n",
              "      <td>3</td>\n",
              "      <td>2.7</td>\n",
              "      <td>16</td>\n",
              "      <td>51.00</td>\n",
              "      <td>8</td>\n",
              "      <td>False</td>\n",
              "      <td>...</td>\n",
              "      <td>2</td>\n",
              "      <td>755</td>\n",
              "      <td>57</td>\n",
              "      <td>36.0</td>\n",
              "      <td>3</td>\n",
              "      <td>3</td>\n",
              "      <td>2019</td>\n",
              "      <td>3</td>\n",
              "      <td>0.47</td>\n",
              "      <td>0.23</td>\n",
              "    </tr>\n",
              "    <tr>\n",
              "      <th>1</th>\n",
              "      <td>10</td>\n",
              "      <td>5196000</td>\n",
              "      <td>56.0</td>\n",
              "      <td>2015-08-20</td>\n",
              "      <td>2</td>\n",
              "      <td>&lt;NA&gt;</td>\n",
              "      <td>5</td>\n",
              "      <td>34.30</td>\n",
              "      <td>4</td>\n",
              "      <td>False</td>\n",
              "      <td>...</td>\n",
              "      <td>2</td>\n",
              "      <td>574</td>\n",
              "      <td>558</td>\n",
              "      <td>28.0</td>\n",
              "      <td>3</td>\n",
              "      <td>8</td>\n",
              "      <td>2015</td>\n",
              "      <td>3</td>\n",
              "      <td>0.61</td>\n",
              "      <td>0.15</td>\n",
              "    </tr>\n",
              "    <tr>\n",
              "      <th>2</th>\n",
              "      <td>0</td>\n",
              "      <td>64900000</td>\n",
              "      <td>159.0</td>\n",
              "      <td>2015-07-24</td>\n",
              "      <td>3</td>\n",
              "      <td>&lt;NA&gt;</td>\n",
              "      <td>14</td>\n",
              "      <td>90.18</td>\n",
              "      <td>9</td>\n",
              "      <td>False</td>\n",
              "      <td>...</td>\n",
              "      <td>3</td>\n",
              "      <td>234</td>\n",
              "      <td>424</td>\n",
              "      <td>53.0</td>\n",
              "      <td>4</td>\n",
              "      <td>7</td>\n",
              "      <td>2015</td>\n",
              "      <td>3</td>\n",
              "      <td>0.57</td>\n",
              "      <td>0.17</td>\n",
              "    </tr>\n",
              "    <tr>\n",
              "      <th>3</th>\n",
              "      <td>2</td>\n",
              "      <td>10000000</td>\n",
              "      <td>100.0</td>\n",
              "      <td>2018-06-19</td>\n",
              "      <td>2</td>\n",
              "      <td>3.03</td>\n",
              "      <td>14</td>\n",
              "      <td>32.00</td>\n",
              "      <td>13</td>\n",
              "      <td>False</td>\n",
              "      <td>...</td>\n",
              "      <td>1</td>\n",
              "      <td>48</td>\n",
              "      <td>121</td>\n",
              "      <td>50.0</td>\n",
              "      <td>1</td>\n",
              "      <td>6</td>\n",
              "      <td>2018</td>\n",
              "      <td>3</td>\n",
              "      <td>0.32</td>\n",
              "      <td>0.41</td>\n",
              "    </tr>\n",
              "    <tr>\n",
              "      <th>4</th>\n",
              "      <td>5</td>\n",
              "      <td>7915000</td>\n",
              "      <td>71.6</td>\n",
              "      <td>2019-04-18</td>\n",
              "      <td>2</td>\n",
              "      <td>&lt;NA&gt;</td>\n",
              "      <td>24</td>\n",
              "      <td>40.61</td>\n",
              "      <td>22</td>\n",
              "      <td>False</td>\n",
              "      <td>...</td>\n",
              "      <td>0</td>\n",
              "      <td>10000</td>\n",
              "      <td>15</td>\n",
              "      <td>35.8</td>\n",
              "      <td>3</td>\n",
              "      <td>4</td>\n",
              "      <td>2019</td>\n",
              "      <td>3</td>\n",
              "      <td>0.57</td>\n",
              "      <td>0.26</td>\n",
              "    </tr>\n",
              "    <tr>\n",
              "      <th>...</th>\n",
              "      <td>...</td>\n",
              "      <td>...</td>\n",
              "      <td>...</td>\n",
              "      <td>...</td>\n",
              "      <td>...</td>\n",
              "      <td>...</td>\n",
              "      <td>...</td>\n",
              "      <td>...</td>\n",
              "      <td>...</td>\n",
              "      <td>...</td>\n",
              "      <td>...</td>\n",
              "      <td>...</td>\n",
              "      <td>...</td>\n",
              "      <td>...</td>\n",
              "      <td>...</td>\n",
              "      <td>...</td>\n",
              "      <td>...</td>\n",
              "      <td>...</td>\n",
              "      <td>...</td>\n",
              "      <td>...</td>\n",
              "      <td>...</td>\n",
              "    </tr>\n",
              "    <tr>\n",
              "      <th>15496</th>\n",
              "      <td>13</td>\n",
              "      <td>3550000</td>\n",
              "      <td>35.3</td>\n",
              "      <td>2018-02-28</td>\n",
              "      <td>1</td>\n",
              "      <td>2.86</td>\n",
              "      <td>15</td>\n",
              "      <td>16.30</td>\n",
              "      <td>4</td>\n",
              "      <td>False</td>\n",
              "      <td>...</td>\n",
              "      <td>2</td>\n",
              "      <td>652</td>\n",
              "      <td>29</td>\n",
              "      <td>35.3</td>\n",
              "      <td>2</td>\n",
              "      <td>2</td>\n",
              "      <td>2018</td>\n",
              "      <td>3</td>\n",
              "      <td>0.46</td>\n",
              "      <td>0.26</td>\n",
              "    </tr>\n",
              "    <tr>\n",
              "      <th>15497</th>\n",
              "      <td>3</td>\n",
              "      <td>5500000</td>\n",
              "      <td>52.0</td>\n",
              "      <td>2018-07-19</td>\n",
              "      <td>2</td>\n",
              "      <td>&lt;NA&gt;</td>\n",
              "      <td>5</td>\n",
              "      <td>31.00</td>\n",
              "      <td>2</td>\n",
              "      <td>False</td>\n",
              "      <td>...</td>\n",
              "      <td>0</td>\n",
              "      <td>10000</td>\n",
              "      <td>15</td>\n",
              "      <td>26.0</td>\n",
              "      <td>3</td>\n",
              "      <td>7</td>\n",
              "      <td>2018</td>\n",
              "      <td>3</td>\n",
              "      <td>0.6</td>\n",
              "      <td>0.12</td>\n",
              "    </tr>\n",
              "    <tr>\n",
              "      <th>15498</th>\n",
              "      <td>11</td>\n",
              "      <td>9470000</td>\n",
              "      <td>72.9</td>\n",
              "      <td>2016-10-13</td>\n",
              "      <td>2</td>\n",
              "      <td>2.75</td>\n",
              "      <td>25</td>\n",
              "      <td>40.30</td>\n",
              "      <td>7</td>\n",
              "      <td>False</td>\n",
              "      <td>...</td>\n",
              "      <td>1</td>\n",
              "      <td>806</td>\n",
              "      <td>519</td>\n",
              "      <td>36.45</td>\n",
              "      <td>3</td>\n",
              "      <td>10</td>\n",
              "      <td>2016</td>\n",
              "      <td>3</td>\n",
              "      <td>0.55</td>\n",
              "      <td>0.15</td>\n",
              "    </tr>\n",
              "    <tr>\n",
              "      <th>15499</th>\n",
              "      <td>9</td>\n",
              "      <td>9700000</td>\n",
              "      <td>133.81</td>\n",
              "      <td>2017-03-21</td>\n",
              "      <td>3</td>\n",
              "      <td>3.7</td>\n",
              "      <td>5</td>\n",
              "      <td>73.30</td>\n",
              "      <td>3</td>\n",
              "      <td>False</td>\n",
              "      <td>...</td>\n",
              "      <td>3</td>\n",
              "      <td>381</td>\n",
              "      <td>773</td>\n",
              "      <td>44.6</td>\n",
              "      <td>1</td>\n",
              "      <td>3</td>\n",
              "      <td>2017</td>\n",
              "      <td>3</td>\n",
              "      <td>0.55</td>\n",
              "      <td>0.1</td>\n",
              "    </tr>\n",
              "    <tr>\n",
              "      <th>15500</th>\n",
              "      <td>13</td>\n",
              "      <td>11475000</td>\n",
              "      <td>76.75</td>\n",
              "      <td>2017-03-28</td>\n",
              "      <td>2</td>\n",
              "      <td>3.0</td>\n",
              "      <td>17</td>\n",
              "      <td>43.53</td>\n",
              "      <td>12</td>\n",
              "      <td>False</td>\n",
              "      <td>...</td>\n",
              "      <td>3</td>\n",
              "      <td>196</td>\n",
              "      <td>602</td>\n",
              "      <td>38.38</td>\n",
              "      <td>1</td>\n",
              "      <td>3</td>\n",
              "      <td>2017</td>\n",
              "      <td>3</td>\n",
              "      <td>0.57</td>\n",
              "      <td>0.3</td>\n",
              "    </tr>\n",
              "  </tbody>\n",
              "</table>\n",
              "<p>15501 rows × 29 columns</p>\n",
              "</div>\n",
              "      <button class=\"colab-df-convert\" onclick=\"convertToInteractive('df-07d70df4-c3cc-4437-8af0-fce23f912ddb')\"\n",
              "              title=\"Convert this dataframe to an interactive table.\"\n",
              "              style=\"display:none;\">\n",
              "        \n",
              "  <svg xmlns=\"http://www.w3.org/2000/svg\" height=\"24px\"viewBox=\"0 0 24 24\"\n",
              "       width=\"24px\">\n",
              "    <path d=\"M0 0h24v24H0V0z\" fill=\"none\"/>\n",
              "    <path d=\"M18.56 5.44l.94 2.06.94-2.06 2.06-.94-2.06-.94-.94-2.06-.94 2.06-2.06.94zm-11 1L8.5 8.5l.94-2.06 2.06-.94-2.06-.94L8.5 2.5l-.94 2.06-2.06.94zm10 10l.94 2.06.94-2.06 2.06-.94-2.06-.94-.94-2.06-.94 2.06-2.06.94z\"/><path d=\"M17.41 7.96l-1.37-1.37c-.4-.4-.92-.59-1.43-.59-.52 0-1.04.2-1.43.59L10.3 9.45l-7.72 7.72c-.78.78-.78 2.05 0 2.83L4 21.41c.39.39.9.59 1.41.59.51 0 1.02-.2 1.41-.59l7.78-7.78 2.81-2.81c.8-.78.8-2.07 0-2.86zM5.41 20L4 18.59l7.72-7.72 1.47 1.35L5.41 20z\"/>\n",
              "  </svg>\n",
              "      </button>\n",
              "      \n",
              "  <style>\n",
              "    .colab-df-container {\n",
              "      display:flex;\n",
              "      flex-wrap:wrap;\n",
              "      gap: 12px;\n",
              "    }\n",
              "\n",
              "    .colab-df-convert {\n",
              "      background-color: #E8F0FE;\n",
              "      border: none;\n",
              "      border-radius: 50%;\n",
              "      cursor: pointer;\n",
              "      display: none;\n",
              "      fill: #1967D2;\n",
              "      height: 32px;\n",
              "      padding: 0 0 0 0;\n",
              "      width: 32px;\n",
              "    }\n",
              "\n",
              "    .colab-df-convert:hover {\n",
              "      background-color: #E2EBFA;\n",
              "      box-shadow: 0px 1px 2px rgba(60, 64, 67, 0.3), 0px 1px 3px 1px rgba(60, 64, 67, 0.15);\n",
              "      fill: #174EA6;\n",
              "    }\n",
              "\n",
              "    [theme=dark] .colab-df-convert {\n",
              "      background-color: #3B4455;\n",
              "      fill: #D2E3FC;\n",
              "    }\n",
              "\n",
              "    [theme=dark] .colab-df-convert:hover {\n",
              "      background-color: #434B5C;\n",
              "      box-shadow: 0px 1px 3px 1px rgba(0, 0, 0, 0.15);\n",
              "      filter: drop-shadow(0px 1px 2px rgba(0, 0, 0, 0.3));\n",
              "      fill: #FFFFFF;\n",
              "    }\n",
              "  </style>\n",
              "\n",
              "      <script>\n",
              "        const buttonEl =\n",
              "          document.querySelector('#df-07d70df4-c3cc-4437-8af0-fce23f912ddb button.colab-df-convert');\n",
              "        buttonEl.style.display =\n",
              "          google.colab.kernel.accessAllowed ? 'block' : 'none';\n",
              "\n",
              "        async function convertToInteractive(key) {\n",
              "          const element = document.querySelector('#df-07d70df4-c3cc-4437-8af0-fce23f912ddb');\n",
              "          const dataTable =\n",
              "            await google.colab.kernel.invokeFunction('convertToInteractive',\n",
              "                                                     [key], {});\n",
              "          if (!dataTable) return;\n",
              "\n",
              "          const docLinkHtml = 'Like what you see? Visit the ' +\n",
              "            '<a target=\"_blank\" href=https://colab.research.google.com/notebooks/data_table.ipynb>data table notebook</a>'\n",
              "            + ' to learn more about interactive tables.';\n",
              "          element.innerHTML = '';\n",
              "          dataTable['output_type'] = 'display_data';\n",
              "          await google.colab.output.renderOutput(dataTable, element);\n",
              "          const docLink = document.createElement('div');\n",
              "          docLink.innerHTML = docLinkHtml;\n",
              "          element.appendChild(docLink);\n",
              "        }\n",
              "      </script>\n",
              "    </div>\n",
              "  </div>\n",
              "  "
            ]
          },
          "metadata": {},
          "execution_count": 88
        }
      ]
    },
    {
      "cell_type": "code",
      "source": [
        "# у нас есть квартиры со штрафом по расстоянию до центра, им присвоено расстояние 100км. Удалим их из данного датасета\n",
        "df_spb = df_spb.drop(df_spb[df_spb.city_centers_nearest == 100000].index)"
      ],
      "metadata": {
        "id": "k9XT6WysTdGq"
      },
      "execution_count": null,
      "outputs": []
    },
    {
      "cell_type": "code",
      "source": [
        "df_spb.city_centers_nearest.describe()"
      ],
      "metadata": {
        "colab": {
          "base_uri": "https://localhost:8080/"
        },
        "id": "OPMHMMABL5fr",
        "outputId": "b744688b-1386-4642-f933-4a8ab816e9af"
      },
      "execution_count": null,
      "outputs": [
        {
          "output_type": "execute_result",
          "data": {
            "text/plain": [
              "count    15479.00\n",
              "mean     11579.30\n",
              "std       4832.96\n",
              "min        181.00\n",
              "25%       8310.00\n",
              "50%      12226.00\n",
              "75%      14938.00\n",
              "max      29493.00\n",
              "Name: city_centers_nearest, dtype: float64"
            ]
          },
          "metadata": {},
          "execution_count": 85
        }
      ]
    },
    {
      "cell_type": "code",
      "source": [
        "df_spb.city_centers_nearest.plot(kind='hist', bins=50)"
      ],
      "metadata": {
        "colab": {
          "base_uri": "https://localhost:8080/",
          "height": 391
        },
        "id": "zYdwDbMRLstY",
        "outputId": "3c0a8433-bcb3-4158-c42a-44228d6cc4ab"
      },
      "execution_count": null,
      "outputs": [
        {
          "output_type": "execute_result",
          "data": {
            "text/plain": [
              "<matplotlib.axes._subplots.AxesSubplot at 0x7fa8e8a26850>"
            ]
          },
          "metadata": {},
          "execution_count": 90
        },
        {
          "output_type": "display_data",
          "data": {
            "text/plain": [
              "<Figure size 720x432 with 1 Axes>"
            ],
            "image/png": "[encoded data removed]"
          },
          "metadata": {
            "needs_background": "light"
          }
        }
      ]
    },
    {
      "cell_type": "markdown",
      "source": [
        "Основываясь на распределении квартир по расстоянию от центра можно сказать, что большая часть предложения приходится на 12 км от центра.  \n",
        "Далее 17 км предложение резко снижается"
      ],
      "metadata": {
        "id": "5yJuIQ8-MEav"
      }
    },
    {
      "cell_type": "markdown",
      "source": [
        "#### - Выделите сегмент квартир в центре. Проанализируйте эту территорию и изучите следующие параметры: площадь, цена, число комнат, высота потолков. Также выделите факторы, которые влияют на стоимость квартиры (число комнат, этаж, удалённость от центра, дата размещения объявления). "
      ],
      "metadata": {
        "id": "zeK2pgXkz9Gf"
      }
    },
    {
      "cell_type": "markdown",
      "source": [
        "Выполним сравнение статистических показателей для объектов в СПБ у которых расстояние до центра не превышает 1 км с остальными объектами в СПБ"
      ],
      "metadata": {
        "id": "keJXZ87Snl36"
      }
    },
    {
      "cell_type": "code",
      "source": [
        "df_spb_center = df_spb[df_spb.city_centers_nearest <= 3000]\n",
        "print('Санкт-Петербург центр', df_spb_center.shape)\n",
        "df_spb_suburbs = df_spb[df_spb.city_centers_nearest > 3000]\n",
        "print('Санкт-Петербург не центра', df_spb_suburbs.shape)"
      ],
      "metadata": {
        "colab": {
          "base_uri": "https://localhost:8080/"
        },
        "id": "gyIrF_0PpnQh",
        "outputId": "46054d62-6b14-4d91-967c-657eec0e42a3"
      },
      "execution_count": null,
      "outputs": [
        {
          "output_type": "stream",
          "name": "stdout",
          "text": [
            "Санкт-Петербург центр (624, 29)\n",
            "Санкт-Петербург не центра (14817, 29)\n"
          ]
        }
      ]
    },
    {
      "cell_type": "code",
      "source": [
        "(df_spb[df_spb.city_centers_nearest <= 3000].describe() - \\\n",
        "df_spb[df_spb.city_centers_nearest > 3000].describe()).T"
      ],
      "metadata": {
        "colab": {
          "base_uri": "https://localhost:8080/",
          "height": 896
        },
        "outputId": "070b31d8-25c8-40b9-89ba-1e240e1d9a80",
        "id": "sYFnjiM5jfKo"
      },
      "execution_count": null,
      "outputs": [
        {
          "output_type": "execute_result",
          "data": {
            "text/plain": [
              "                        count unique  top    freq         mean         std  \\\n",
              "total_images         -14193.0    NaN  NaN     NaN         0.36        0.66   \n",
              "last_price           -14193.0    NaN  NaN     NaN  10422831.06  18922823.7   \n",
              "total_area           -14193.0    NaN  NaN     NaN        39.27       21.71   \n",
              "rooms                -14193.0    NaN  NaN     NaN         1.06        0.41   \n",
              "ceiling_height        -9082.0    NaN  NaN     NaN         0.47       -0.19   \n",
              "floors_total         -14193.0    NaN  NaN     NaN        -6.78       -5.16   \n",
              "living_area          -14193.0    NaN  NaN     NaN        27.28       17.08   \n",
              "floor                -14193.0    NaN  NaN     NaN        -3.25       -3.49   \n",
              "is_apartment           -14193      0    0  -14193          NaN         NaN   \n",
              "studio                 -14193     -1    0  -14189          NaN         NaN   \n",
              "open_plan              -14193      0    0  -14190          NaN         NaN   \n",
              "kitchen_area         -14193.0    NaN  NaN     NaN         4.32        3.38   \n",
              "balcony              -14193.0    NaN  NaN     NaN        -0.49       -0.56   \n",
              "airports_nearest     -14193.0    NaN  NaN     NaN     -6222.81   -10261.43   \n",
              "city_centers_nearest -14193.0    NaN  NaN     NaN    -10137.95    -3773.88   \n",
              "parks_around3000     -14193.0    NaN  NaN     NaN         1.03        0.33   \n",
              "parks_nearest        -14193.0    NaN  NaN     NaN     -3427.12     -917.18   \n",
              "ponds_around3000     -14193.0    NaN  NaN     NaN         1.46         0.1   \n",
              "ponds_nearest        -14193.0    NaN  NaN     NaN     -4346.59    -2187.04   \n",
              "days_exposition      -14193.0    NaN  NaN     NaN        87.16       67.19   \n",
              "price_per_m          -14193.0    NaN  NaN     NaN         1.55        1.62   \n",
              "day_of_week          -14193.0    NaN  NaN     NaN         0.09       -0.07   \n",
              "month                -14193.0    NaN  NaN     NaN        -0.17        0.07   \n",
              "year                 -14193.0    NaN  NaN     NaN        -0.24         0.1   \n",
              "floor_category       -14193.0    NaN  NaN     NaN        -0.22        0.09   \n",
              "liv_vs_total         -14193.0    NaN  NaN     NaN         0.05         0.0   \n",
              "kicth_vs_total       -14193.0    NaN  NaN     NaN        -0.02        0.01   \n",
              "\n",
              "                            min        25%        50%        75%          max  \n",
              "total_images                0.0        0.0        0.0        1.0          0.0  \n",
              "last_price            2372810.0  3383250.0  4575000.0  7750000.0 -361700000.0  \n",
              "total_area                 -1.0      23.28       33.0      47.62       -383.0  \n",
              "rooms                       0.0        1.0        1.0        1.0         -5.0  \n",
              "ceiling_height              0.5       0.45       0.52        0.7        -20.1  \n",
              "floors_total                1.0       -2.0       -4.0      -10.0        -43.0  \n",
              "living_area                 7.0      16.92      21.55      31.86        -77.7  \n",
              "floor                       0.0       -1.0       -2.0       -5.0        -24.0  \n",
              "is_apartment                NaN        NaN        NaN        NaN          NaN  \n",
              "studio                      NaN        NaN        NaN        NaN          NaN  \n",
              "open_plan                   NaN        NaN        NaN        NaN          NaN  \n",
              "kitchen_area               0.77        1.9       2.45       6.44        -35.0  \n",
              "balcony                     0.0        0.0        0.0       -1.0         -1.0  \n",
              "airports_nearest        17863.0    2842.25    -5554.0  -13798.75     -23055.0  \n",
              "city_centers_nearest    -2823.0    -7693.0   -10467.0   -12637.0     -26344.0  \n",
              "parks_around3000            0.0        1.0        2.0        2.0          0.0  \n",
              "parks_nearest              17.0     -202.0    -9553.0    -9311.0          0.0  \n",
              "ponds_around3000            0.0        1.0        3.0        2.0          0.0  \n",
              "ponds_nearest               9.0    -421.25    -9735.5    -9461.0          0.0  \n",
              "days_exposition             3.0       22.0       64.5     162.25        -55.0  \n",
              "price_per_m                 2.0       1.36      -0.08       0.32       -366.8  \n",
              "day_of_week                 0.0        0.0        1.0        0.0          0.0  \n",
              "month                       0.0        0.0        0.0       -1.0          0.0  \n",
              "year                        0.0       -1.0        0.0        0.0          0.0  \n",
              "floor_category              0.0       -1.0        0.0        0.0          0.0  \n",
              "liv_vs_total               0.19       0.05       0.05       0.05        -0.11  \n",
              "kicth_vs_total             -0.0      -0.03      -0.03      -0.05        -0.23  "
            ],
            "text/html": [
              "\n",
              "  <div id=\"df-f34c9901-ab53-43b1-aa8b-67a90418831c\">\n",
              "    <div class=\"colab-df-container\">\n",
              "      <div>\n",
              "<style scoped>\n",
              "    .dataframe tbody tr th:only-of-type {\n",
              "        vertical-align: middle;\n",
              "    }\n",
              "\n",
              "    .dataframe tbody tr th {\n",
              "        vertical-align: top;\n",
              "    }\n",
              "\n",
              "    .dataframe thead th {\n",
              "        text-align: right;\n",
              "    }\n",
              "</style>\n",
              "<table border=\"1\" class=\"dataframe\">\n",
              "  <thead>\n",
              "    <tr style=\"text-align: right;\">\n",
              "      <th></th>\n",
              "      <th>count</th>\n",
              "      <th>unique</th>\n",
              "      <th>top</th>\n",
              "      <th>freq</th>\n",
              "      <th>mean</th>\n",
              "      <th>std</th>\n",
              "      <th>min</th>\n",
              "      <th>25%</th>\n",
              "      <th>50%</th>\n",
              "      <th>75%</th>\n",
              "      <th>max</th>\n",
              "    </tr>\n",
              "  </thead>\n",
              "  <tbody>\n",
              "    <tr>\n",
              "      <th>total_images</th>\n",
              "      <td>-14193.0</td>\n",
              "      <td>NaN</td>\n",
              "      <td>NaN</td>\n",
              "      <td>NaN</td>\n",
              "      <td>0.36</td>\n",
              "      <td>0.66</td>\n",
              "      <td>0.0</td>\n",
              "      <td>0.0</td>\n",
              "      <td>0.0</td>\n",
              "      <td>1.0</td>\n",
              "      <td>0.0</td>\n",
              "    </tr>\n",
              "    <tr>\n",
              "      <th>last_price</th>\n",
              "      <td>-14193.0</td>\n",
              "      <td>NaN</td>\n",
              "      <td>NaN</td>\n",
              "      <td>NaN</td>\n",
              "      <td>10422831.06</td>\n",
              "      <td>18922823.7</td>\n",
              "      <td>2372810.0</td>\n",
              "      <td>3383250.0</td>\n",
              "      <td>4575000.0</td>\n",
              "      <td>7750000.0</td>\n",
              "      <td>-361700000.0</td>\n",
              "    </tr>\n",
              "    <tr>\n",
              "      <th>total_area</th>\n",
              "      <td>-14193.0</td>\n",
              "      <td>NaN</td>\n",
              "      <td>NaN</td>\n",
              "      <td>NaN</td>\n",
              "      <td>39.27</td>\n",
              "      <td>21.71</td>\n",
              "      <td>-1.0</td>\n",
              "      <td>23.28</td>\n",
              "      <td>33.0</td>\n",
              "      <td>47.62</td>\n",
              "      <td>-383.0</td>\n",
              "    </tr>\n",
              "    <tr>\n",
              "      <th>rooms</th>\n",
              "      <td>-14193.0</td>\n",
              "      <td>NaN</td>\n",
              "      <td>NaN</td>\n",
              "      <td>NaN</td>\n",
              "      <td>1.06</td>\n",
              "      <td>0.41</td>\n",
              "      <td>0.0</td>\n",
              "      <td>1.0</td>\n",
              "      <td>1.0</td>\n",
              "      <td>1.0</td>\n",
              "      <td>-5.0</td>\n",
              "    </tr>\n",
              "    <tr>\n",
              "      <th>ceiling_height</th>\n",
              "      <td>-9082.0</td>\n",
              "      <td>NaN</td>\n",
              "      <td>NaN</td>\n",
              "      <td>NaN</td>\n",
              "      <td>0.47</td>\n",
              "      <td>-0.19</td>\n",
              "      <td>0.5</td>\n",
              "      <td>0.45</td>\n",
              "      <td>0.52</td>\n",
              "      <td>0.7</td>\n",
              "      <td>-20.1</td>\n",
              "    </tr>\n",
              "    <tr>\n",
              "      <th>floors_total</th>\n",
              "      <td>-14193.0</td>\n",
              "      <td>NaN</td>\n",
              "      <td>NaN</td>\n",
              "      <td>NaN</td>\n",
              "      <td>-6.78</td>\n",
              "      <td>-5.16</td>\n",
              "      <td>1.0</td>\n",
              "      <td>-2.0</td>\n",
              "      <td>-4.0</td>\n",
              "      <td>-10.0</td>\n",
              "      <td>-43.0</td>\n",
              "    </tr>\n",
              "    <tr>\n",
              "      <th>living_area</th>\n",
              "      <td>-14193.0</td>\n",
              "      <td>NaN</td>\n",
              "      <td>NaN</td>\n",
              "      <td>NaN</td>\n",
              "      <td>27.28</td>\n",
              "      <td>17.08</td>\n",
              "      <td>7.0</td>\n",
              "      <td>16.92</td>\n",
              "      <td>21.55</td>\n",
              "      <td>31.86</td>\n",
              "      <td>-77.7</td>\n",
              "    </tr>\n",
              "    <tr>\n",
              "      <th>floor</th>\n",
              "      <td>-14193.0</td>\n",
              "      <td>NaN</td>\n",
              "      <td>NaN</td>\n",
              "      <td>NaN</td>\n",
              "      <td>-3.25</td>\n",
              "      <td>-3.49</td>\n",
              "      <td>0.0</td>\n",
              "      <td>-1.0</td>\n",
              "      <td>-2.0</td>\n",
              "      <td>-5.0</td>\n",
              "      <td>-24.0</td>\n",
              "    </tr>\n",
              "    <tr>\n",
              "      <th>is_apartment</th>\n",
              "      <td>-14193</td>\n",
              "      <td>0</td>\n",
              "      <td>0</td>\n",
              "      <td>-14193</td>\n",
              "      <td>NaN</td>\n",
              "      <td>NaN</td>\n",
              "      <td>NaN</td>\n",
              "      <td>NaN</td>\n",
              "      <td>NaN</td>\n",
              "      <td>NaN</td>\n",
              "      <td>NaN</td>\n",
              "    </tr>\n",
              "    <tr>\n",
              "      <th>studio</th>\n",
              "      <td>-14193</td>\n",
              "      <td>-1</td>\n",
              "      <td>0</td>\n",
              "      <td>-14189</td>\n",
              "      <td>NaN</td>\n",
              "      <td>NaN</td>\n",
              "      <td>NaN</td>\n",
              "      <td>NaN</td>\n",
              "      <td>NaN</td>\n",
              "      <td>NaN</td>\n",
              "      <td>NaN</td>\n",
              "    </tr>\n",
              "    <tr>\n",
              "      <th>open_plan</th>\n",
              "      <td>-14193</td>\n",
              "      <td>0</td>\n",
              "      <td>0</td>\n",
              "      <td>-14190</td>\n",
              "      <td>NaN</td>\n",
              "      <td>NaN</td>\n",
              "      <td>NaN</td>\n",
              "      <td>NaN</td>\n",
              "      <td>NaN</td>\n",
              "      <td>NaN</td>\n",
              "      <td>NaN</td>\n",
              "    </tr>\n",
              "    <tr>\n",
              "      <th>kitchen_area</th>\n",
              "      <td>-14193.0</td>\n",
              "      <td>NaN</td>\n",
              "      <td>NaN</td>\n",
              "      <td>NaN</td>\n",
              "      <td>4.32</td>\n",
              "      <td>3.38</td>\n",
              "      <td>0.77</td>\n",
              "      <td>1.9</td>\n",
              "      <td>2.45</td>\n",
              "      <td>6.44</td>\n",
              "      <td>-35.0</td>\n",
              "    </tr>\n",
              "    <tr>\n",
              "      <th>balcony</th>\n",
              "      <td>-14193.0</td>\n",
              "      <td>NaN</td>\n",
              "      <td>NaN</td>\n",
              "      <td>NaN</td>\n",
              "      <td>-0.49</td>\n",
              "      <td>-0.56</td>\n",
              "      <td>0.0</td>\n",
              "      <td>0.0</td>\n",
              "      <td>0.0</td>\n",
              "      <td>-1.0</td>\n",
              "      <td>-1.0</td>\n",
              "    </tr>\n",
              "    <tr>\n",
              "      <th>airports_nearest</th>\n",
              "      <td>-14193.0</td>\n",
              "      <td>NaN</td>\n",
              "      <td>NaN</td>\n",
              "      <td>NaN</td>\n",
              "      <td>-6222.81</td>\n",
              "      <td>-10261.43</td>\n",
              "      <td>17863.0</td>\n",
              "      <td>2842.25</td>\n",
              "      <td>-5554.0</td>\n",
              "      <td>-13798.75</td>\n",
              "      <td>-23055.0</td>\n",
              "    </tr>\n",
              "    <tr>\n",
              "      <th>city_centers_nearest</th>\n",
              "      <td>-14193.0</td>\n",
              "      <td>NaN</td>\n",
              "      <td>NaN</td>\n",
              "      <td>NaN</td>\n",
              "      <td>-10137.95</td>\n",
              "      <td>-3773.88</td>\n",
              "      <td>-2823.0</td>\n",
              "      <td>-7693.0</td>\n",
              "      <td>-10467.0</td>\n",
              "      <td>-12637.0</td>\n",
              "      <td>-26344.0</td>\n",
              "    </tr>\n",
              "    <tr>\n",
              "      <th>parks_around3000</th>\n",
              "      <td>-14193.0</td>\n",
              "      <td>NaN</td>\n",
              "      <td>NaN</td>\n",
              "      <td>NaN</td>\n",
              "      <td>1.03</td>\n",
              "      <td>0.33</td>\n",
              "      <td>0.0</td>\n",
              "      <td>1.0</td>\n",
              "      <td>2.0</td>\n",
              "      <td>2.0</td>\n",
              "      <td>0.0</td>\n",
              "    </tr>\n",
              "    <tr>\n",
              "      <th>parks_nearest</th>\n",
              "      <td>-14193.0</td>\n",
              "      <td>NaN</td>\n",
              "      <td>NaN</td>\n",
              "      <td>NaN</td>\n",
              "      <td>-3427.12</td>\n",
              "      <td>-917.18</td>\n",
              "      <td>17.0</td>\n",
              "      <td>-202.0</td>\n",
              "      <td>-9553.0</td>\n",
              "      <td>-9311.0</td>\n",
              "      <td>0.0</td>\n",
              "    </tr>\n",
              "    <tr>\n",
              "      <th>ponds_around3000</th>\n",
              "      <td>-14193.0</td>\n",
              "      <td>NaN</td>\n",
              "      <td>NaN</td>\n",
              "      <td>NaN</td>\n",
              "      <td>1.46</td>\n",
              "      <td>0.1</td>\n",
              "      <td>0.0</td>\n",
              "      <td>1.0</td>\n",
              "      <td>3.0</td>\n",
              "      <td>2.0</td>\n",
              "      <td>0.0</td>\n",
              "    </tr>\n",
              "    <tr>\n",
              "      <th>ponds_nearest</th>\n",
              "      <td>-14193.0</td>\n",
              "      <td>NaN</td>\n",
              "      <td>NaN</td>\n",
              "      <td>NaN</td>\n",
              "      <td>-4346.59</td>\n",
              "      <td>-2187.04</td>\n",
              "      <td>9.0</td>\n",
              "      <td>-421.25</td>\n",
              "      <td>-9735.5</td>\n",
              "      <td>-9461.0</td>\n",
              "      <td>0.0</td>\n",
              "    </tr>\n",
              "    <tr>\n",
              "      <th>days_exposition</th>\n",
              "      <td>-14193.0</td>\n",
              "      <td>NaN</td>\n",
              "      <td>NaN</td>\n",
              "      <td>NaN</td>\n",
              "      <td>87.16</td>\n",
              "      <td>67.19</td>\n",
              "      <td>3.0</td>\n",
              "      <td>22.0</td>\n",
              "      <td>64.5</td>\n",
              "      <td>162.25</td>\n",
              "      <td>-55.0</td>\n",
              "    </tr>\n",
              "    <tr>\n",
              "      <th>price_per_m</th>\n",
              "      <td>-14193.0</td>\n",
              "      <td>NaN</td>\n",
              "      <td>NaN</td>\n",
              "      <td>NaN</td>\n",
              "      <td>1.55</td>\n",
              "      <td>1.62</td>\n",
              "      <td>2.0</td>\n",
              "      <td>1.36</td>\n",
              "      <td>-0.08</td>\n",
              "      <td>0.32</td>\n",
              "      <td>-366.8</td>\n",
              "    </tr>\n",
              "    <tr>\n",
              "      <th>day_of_week</th>\n",
              "      <td>-14193.0</td>\n",
              "      <td>NaN</td>\n",
              "      <td>NaN</td>\n",
              "      <td>NaN</td>\n",
              "      <td>0.09</td>\n",
              "      <td>-0.07</td>\n",
              "      <td>0.0</td>\n",
              "      <td>0.0</td>\n",
              "      <td>1.0</td>\n",
              "      <td>0.0</td>\n",
              "      <td>0.0</td>\n",
              "    </tr>\n",
              "    <tr>\n",
              "      <th>month</th>\n",
              "      <td>-14193.0</td>\n",
              "      <td>NaN</td>\n",
              "      <td>NaN</td>\n",
              "      <td>NaN</td>\n",
              "      <td>-0.17</td>\n",
              "      <td>0.07</td>\n",
              "      <td>0.0</td>\n",
              "      <td>0.0</td>\n",
              "      <td>0.0</td>\n",
              "      <td>-1.0</td>\n",
              "      <td>0.0</td>\n",
              "    </tr>\n",
              "    <tr>\n",
              "      <th>year</th>\n",
              "      <td>-14193.0</td>\n",
              "      <td>NaN</td>\n",
              "      <td>NaN</td>\n",
              "      <td>NaN</td>\n",
              "      <td>-0.24</td>\n",
              "      <td>0.1</td>\n",
              "      <td>0.0</td>\n",
              "      <td>-1.0</td>\n",
              "      <td>0.0</td>\n",
              "      <td>0.0</td>\n",
              "      <td>0.0</td>\n",
              "    </tr>\n",
              "    <tr>\n",
              "      <th>floor_category</th>\n",
              "      <td>-14193.0</td>\n",
              "      <td>NaN</td>\n",
              "      <td>NaN</td>\n",
              "      <td>NaN</td>\n",
              "      <td>-0.22</td>\n",
              "      <td>0.09</td>\n",
              "      <td>0.0</td>\n",
              "      <td>-1.0</td>\n",
              "      <td>0.0</td>\n",
              "      <td>0.0</td>\n",
              "      <td>0.0</td>\n",
              "    </tr>\n",
              "    <tr>\n",
              "      <th>liv_vs_total</th>\n",
              "      <td>-14193.0</td>\n",
              "      <td>NaN</td>\n",
              "      <td>NaN</td>\n",
              "      <td>NaN</td>\n",
              "      <td>0.05</td>\n",
              "      <td>0.0</td>\n",
              "      <td>0.19</td>\n",
              "      <td>0.05</td>\n",
              "      <td>0.05</td>\n",
              "      <td>0.05</td>\n",
              "      <td>-0.11</td>\n",
              "    </tr>\n",
              "    <tr>\n",
              "      <th>kicth_vs_total</th>\n",
              "      <td>-14193.0</td>\n",
              "      <td>NaN</td>\n",
              "      <td>NaN</td>\n",
              "      <td>NaN</td>\n",
              "      <td>-0.02</td>\n",
              "      <td>0.01</td>\n",
              "      <td>-0.0</td>\n",
              "      <td>-0.03</td>\n",
              "      <td>-0.03</td>\n",
              "      <td>-0.05</td>\n",
              "      <td>-0.23</td>\n",
              "    </tr>\n",
              "  </tbody>\n",
              "</table>\n",
              "</div>\n",
              "      <button class=\"colab-df-convert\" onclick=\"convertToInteractive('df-f34c9901-ab53-43b1-aa8b-67a90418831c')\"\n",
              "              title=\"Convert this dataframe to an interactive table.\"\n",
              "              style=\"display:none;\">\n",
              "        \n",
              "  <svg xmlns=\"http://www.w3.org/2000/svg\" height=\"24px\"viewBox=\"0 0 24 24\"\n",
              "       width=\"24px\">\n",
              "    <path d=\"M0 0h24v24H0V0z\" fill=\"none\"/>\n",
              "    <path d=\"M18.56 5.44l.94 2.06.94-2.06 2.06-.94-2.06-.94-.94-2.06-.94 2.06-2.06.94zm-11 1L8.5 8.5l.94-2.06 2.06-.94-2.06-.94L8.5 2.5l-.94 2.06-2.06.94zm10 10l.94 2.06.94-2.06 2.06-.94-2.06-.94-.94-2.06-.94 2.06-2.06.94z\"/><path d=\"M17.41 7.96l-1.37-1.37c-.4-.4-.92-.59-1.43-.59-.52 0-1.04.2-1.43.59L10.3 9.45l-7.72 7.72c-.78.78-.78 2.05 0 2.83L4 21.41c.39.39.9.59 1.41.59.51 0 1.02-.2 1.41-.59l7.78-7.78 2.81-2.81c.8-.78.8-2.07 0-2.86zM5.41 20L4 18.59l7.72-7.72 1.47 1.35L5.41 20z\"/>\n",
              "  </svg>\n",
              "      </button>\n",
              "      \n",
              "  <style>\n",
              "    .colab-df-container {\n",
              "      display:flex;\n",
              "      flex-wrap:wrap;\n",
              "      gap: 12px;\n",
              "    }\n",
              "\n",
              "    .colab-df-convert {\n",
              "      background-color: #E8F0FE;\n",
              "      border: none;\n",
              "      border-radius: 50%;\n",
              "      cursor: pointer;\n",
              "      display: none;\n",
              "      fill: #1967D2;\n",
              "      height: 32px;\n",
              "      padding: 0 0 0 0;\n",
              "      width: 32px;\n",
              "    }\n",
              "\n",
              "    .colab-df-convert:hover {\n",
              "      background-color: #E2EBFA;\n",
              "      box-shadow: 0px 1px 2px rgba(60, 64, 67, 0.3), 0px 1px 3px 1px rgba(60, 64, 67, 0.15);\n",
              "      fill: #174EA6;\n",
              "    }\n",
              "\n",
              "    [theme=dark] .colab-df-convert {\n",
              "      background-color: #3B4455;\n",
              "      fill: #D2E3FC;\n",
              "    }\n",
              "\n",
              "    [theme=dark] .colab-df-convert:hover {\n",
              "      background-color: #434B5C;\n",
              "      box-shadow: 0px 1px 3px 1px rgba(0, 0, 0, 0.15);\n",
              "      filter: drop-shadow(0px 1px 2px rgba(0, 0, 0, 0.3));\n",
              "      fill: #FFFFFF;\n",
              "    }\n",
              "  </style>\n",
              "\n",
              "      <script>\n",
              "        const buttonEl =\n",
              "          document.querySelector('#df-f34c9901-ab53-43b1-aa8b-67a90418831c button.colab-df-convert');\n",
              "        buttonEl.style.display =\n",
              "          google.colab.kernel.accessAllowed ? 'block' : 'none';\n",
              "\n",
              "        async function convertToInteractive(key) {\n",
              "          const element = document.querySelector('#df-f34c9901-ab53-43b1-aa8b-67a90418831c');\n",
              "          const dataTable =\n",
              "            await google.colab.kernel.invokeFunction('convertToInteractive',\n",
              "                                                     [key], {});\n",
              "          if (!dataTable) return;\n",
              "\n",
              "          const docLinkHtml = 'Like what you see? Visit the ' +\n",
              "            '<a target=\"_blank\" href=https://colab.research.google.com/notebooks/data_table.ipynb>data table notebook</a>'\n",
              "            + ' to learn more about interactive tables.';\n",
              "          element.innerHTML = '';\n",
              "          dataTable['output_type'] = 'display_data';\n",
              "          await google.colab.output.renderOutput(dataTable, element);\n",
              "          const docLink = document.createElement('div');\n",
              "          docLink.innerHTML = docLinkHtml;\n",
              "          element.appendChild(docLink);\n",
              "        }\n",
              "      </script>\n",
              "    </div>\n",
              "  </div>\n",
              "  "
            ]
          },
          "metadata": {},
          "execution_count": 92
        }
      ]
    },
    {
      "cell_type": "markdown",
      "source": [
        "Объекты в центре отличаются от объектов, которые не в центре следующим образом:  \n",
        "1. цена продажи больше\n",
        "2. общая, жилая площадь кухни существенно больше\n",
        "3. цена за м2 больше\n",
        "4. высота потолков больше\n",
        "5. этажей в доме меньше\n",
        "6. количество комнат больше\n",
        "7. количество парков и водоемов больше, а расстояние до них меньше\n",
        "8. дней экспозиции больше, объекты продаются дольше"
      ],
      "metadata": {
        "id": "BFCjN9-Skea9"
      }
    },
    {
      "cell_type": "markdown",
      "source": [
        "### Шаг 5. Проверьте гипотезы о равенстве стоимости квартир в центральной части Санкт-Петербурге и других квартир."
      ],
      "metadata": {
        "id": "PUJncP-j0gYI"
      }
    },
    {
      "cell_type": "markdown",
      "source": [
        "**Нулевая гипотеза** - средняя цена объектов в центре Санкт-Петербурга равна средней цене объектов вне центра.  \n",
        "**Альтернативная гипотеза** - средняя цена объектов в центре Санкт-Петербурга отличается от средней цены объектов вне центра.  \n",
        "Для проверки гипотезы о равенстве средней цены квартир в центральной части и вне центра воспользуемся методом scipy.stats.ttest_ind - тест для средних несвязных выборок.  "
      ],
      "metadata": {
        "id": "6jyJJCEJoLWa"
      }
    },
    {
      "cell_type": "code",
      "source": [
        "res = stats.ttest_ind(df_spb_center.last_price, df_spb_suburbs.last_price, axis=0, equal_var=True)\n",
        "res"
      ],
      "metadata": {
        "id": "171y72l60jNC",
        "colab": {
          "base_uri": "https://localhost:8080/"
        },
        "outputId": "fd37d3d3-8fb5-41d7-b0e7-cee2efd3d6f1"
      },
      "execution_count": null,
      "outputs": [
        {
          "output_type": "execute_result",
          "data": {
            "text/plain": [
              "Ttest_indResult(statistic=19.85945397192467, pvalue=1.1003803715248923e-86)"
            ]
          },
          "metadata": {},
          "execution_count": 93
        }
      ]
    },
    {
      "cell_type": "markdown",
      "source": [
        "Значение p значительно меньше, чем 0.05 (2.6409785894917867e-90), что означает, что мы можем отклонить нулевую  гипотезу о равенстве средних цен и принять альтернативную гипотезу о том, что средние цены отличаются"
      ],
      "metadata": {
        "id": "n3wg0x6JrCWm"
      }
    },
    {
      "cell_type": "code",
      "source": [
        "df_spb_center.last_price.mean()"
      ],
      "metadata": {
        "colab": {
          "base_uri": "https://localhost:8080/"
        },
        "id": "sgqUwOCB4Jfa",
        "outputId": "6dce530d-12e0-42b1-87bd-c47d2adb58e7"
      },
      "execution_count": null,
      "outputs": [
        {
          "output_type": "execute_result",
          "data": {
            "text/plain": [
              "18047810.38301282"
            ]
          },
          "metadata": {},
          "execution_count": 94
        }
      ]
    },
    {
      "cell_type": "code",
      "source": [
        "df_spb_suburbs.last_price.mean()"
      ],
      "metadata": {
        "colab": {
          "base_uri": "https://localhost:8080/"
        },
        "id": "Zy8Fhhwn4PGN",
        "outputId": "0ddfe75f-777a-43b1-8592-50eed7ffdd8b"
      },
      "execution_count": null,
      "outputs": [
        {
          "output_type": "execute_result",
          "data": {
            "text/plain": [
              "7624979.321252615"
            ]
          },
          "metadata": {},
          "execution_count": 95
        }
      ]
    }
  ]
}